{
 "cells": [
  {
   "cell_type": "markdown",
   "id": "9e867291",
   "metadata": {
    "papermill": {
     "duration": 0.032222,
     "end_time": "2022-10-13T22:39:50.593410",
     "exception": false,
     "start_time": "2022-10-13T22:39:50.561188",
     "status": "completed"
    },
    "tags": []
   },
   "source": [
    "# Titanic - Solução ciência de dados"
   ]
  },
  {
   "cell_type": "markdown",
   "id": "ece4cf9a",
   "metadata": {
    "papermill": {
     "duration": 0.030083,
     "end_time": "2022-10-13T22:39:50.653515",
     "exception": false,
     "start_time": "2022-10-13T22:39:50.623432",
     "status": "completed"
    },
    "tags": []
   },
   "source": [
    "## Descrição e processos a serem executados"
   ]
  },
  {
   "cell_type": "markdown",
   "id": "5a3edeb4",
   "metadata": {
    "_cell_guid": "ea25cdf7-bdbc-3cf1-0737-bc51675e3374",
    "_uuid": "fed5696c67bf55a553d6d04313a77e8c617cad99",
    "papermill": {
     "duration": 0.029195,
     "end_time": "2022-10-13T22:39:50.712217",
     "exception": false,
     "start_time": "2022-10-13T22:39:50.683022",
     "status": "completed"
    },
    "tags": []
   },
   "source": [
    "### Referência\n",
    "\n",
    "1. [Titanic Data Science Solutions [upd]](https://www.kaggle.com/code/andrej0marinchenko/titanic-data-science-solutions-upd) \n",
    "\n",
    "\n",
    "### Estágios do trabalho\n",
    "\n",
    "O fluxo de trabalho da solução de concorrência passa por sete etapas descritas no livro Data Science Solutions.\n",
    "\n",
    "1. Pergunta ou definição do problema.\n",
    "2. Adquir dados de treinamento e teste.\n",
    "3. Discutir, preparar, limpar os dados.\n",
    "4. Analisar, identificar padrões e explorar os dados.\n",
    "5. Modelação, previsão e resolução do problema.\n",
    "6. Visualizar, relatar e apresentar as etapas de resolução de problemas e a solução final.\n",
    "7. Fornecer ou apresentar os resultados.\n",
    "\n",
    "\n",
    "### Questão e definição do problema\n",
    "\n",
    "A descrição do problema é encontrada no kaggle através deste link: [Descrição do problema](https://www.kaggle.com/c/titanic).\n",
    "\n",
    "> Através de um conjunto de dados de treinamento que lista passageiros sobreviventes ou não ao desastre do Titanic, nosso modelo pode determinar com base em um determinado conjunto de dados de teste que não contém as informações de sobrevivência, se esses passageiros no conjunto de dados de teste sobreviveram ou não.\n",
    "\n",
    "- Em 15 de abril de 1912, durante sua viagem inaugural, o Titanic afundou após colidir com um iceberg, matando 1.502 dos 2.224 passageiros e tripulantes. Taxa de sobrevivência foi de 32%.\n",
    "- Uma das razões que levou a tal perda de vidas foi que não havia botes salva-vidas suficientes para os passageiros e tripulantes.\n",
    "- Embora houvesse algum elemento de sorte envolvido em sobreviver ao naufrágio, alguns grupos de pessoas eram mais propensos a sobreviver do que outros, como mulheres, crianças e pessoas de classes sociais mais altas.\n",
    "\n",
    "### Metas de fluxo de trabalho\n",
    "\n",
    "O fluxo de trabalho das soluções de ciência de dados resolve sete objetivos principais.\n",
    "\n",
    "**Classificar.** Podemos querer classificar ou categorizar nossas amostras. Também podemos querer entender as implicações ou a correlação de diferentes classes com nosso objetivo de solução.\n",
    "\n",
    "**Correlacionar.** Pode-se abordar o problema com base nas características disponíveis no conjunto de dados de treinamento. Quais características do conjunto de dados contribuem significativamente para nossa meta de solução? Estatisticamente falando, existe uma [correlação](https://en.wikiversity.org/wiki/Correlation) entre uma características e uma meta de solução? À medida que os valores das características mudam, o estado da solução também muda e vice-versa? Isso pode ser testado para características do tipo numéricas e categóricas no conjunto de dados fornecido. Também podemos querer determinar a correlação entre outras características além da sobrevivência para metas subsequentes e estágios de fluxo de trabalho. Correlacionar determinadas características pode ajudar na criação, conclusão ou correção de características.\n",
    "\n",
    "**Conversão.** Para a etapa de modelagem, é preciso preparar os dados. Dependendo da escolha do algoritmo do modelo, pode-se exigir que todas as características sejam convertidas em valores numéricos equivalentes. Assim, por exemplo, converter valores categóricos de texto em valores numéricos.\n",
    "\n",
    "**Concluindo.** A preparação de dados também pode exigir que estimemos quaisquer valores ausentes em uma característica. Os algoritmos de modelo podem funcionar melhor quando não há valores ausentes.\n",
    "\n",
    "**Correção.** Também podemos analisar o conjunto de dados de treinamento fornecido em busca de erros ou valores possivelmente imprecisos nas características e tentar corrigir esses valores ou excluir as amostras que contêm os erros. Uma maneira de fazer isso é detectar quaisquer discrepâncias entre nossas amostras ou características. Também podemos descartar completamente uma característica se ela não estiver contribuindo para a análise ou puder distorcer significativamente os resultados.\n",
    "\n",
    "**Criando.** Podemos criar novas características com base em uma característica existente ou em um conjunto de características, de modo que a nova característica siga as metas de correlação, conversão e integridade.\n",
    "\n",
    "**Gráficos.** Como selecionar os gráficos de visualização corretos, dependendo da natureza dos dados e dos objetivos da solução."
   ]
  },
  {
   "cell_type": "markdown",
   "id": "cde2ad95",
   "metadata": {
    "papermill": {
     "duration": 0.029261,
     "end_time": "2022-10-13T22:39:50.771008",
     "exception": false,
     "start_time": "2022-10-13T22:39:50.741747",
     "status": "completed"
    },
    "tags": []
   },
   "source": [
    "## Libs"
   ]
  },
  {
   "cell_type": "code",
   "execution_count": 1,
   "id": "9d5ce155",
   "metadata": {
    "_cell_guid": "5767a33c-8f18-4034-e52d-bf7a8f7d8ab8",
    "_uuid": "847a9b3972a6be2d2f3346ff01fea976d92ecdb6",
    "execution": {
     "iopub.execute_input": "2022-10-13T22:39:50.833073Z",
     "iopub.status.busy": "2022-10-13T22:39:50.832061Z",
     "iopub.status.idle": "2022-10-13T22:39:52.206223Z",
     "shell.execute_reply": "2022-10-13T22:39:52.205055Z"
    },
    "papermill": {
     "duration": 1.40865,
     "end_time": "2022-10-13T22:39:52.209240",
     "exception": false,
     "start_time": "2022-10-13T22:39:50.800590",
     "status": "completed"
    },
    "tags": []
   },
   "outputs": [],
   "source": [
    "# análise de dados\n",
    "import pandas as pd\n",
    "import numpy as np\n",
    "import random as rnd\n",
    "\n",
    "# visualização\n",
    "import seaborn as sns\n",
    "import matplotlib.pyplot as plt\n",
    "%matplotlib inline\n",
    "\n",
    "# machine learning\n",
    "from sklearn.linear_model import LogisticRegression\n",
    "from sklearn.svm import SVC, LinearSVC\n",
    "from sklearn.ensemble import RandomForestClassifier\n",
    "from sklearn.neighbors import KNeighborsClassifier\n",
    "from sklearn.naive_bayes import GaussianNB\n",
    "from sklearn.linear_model import Perceptron\n",
    "from sklearn.linear_model import SGDClassifier\n",
    "from sklearn.tree import DecisionTreeClassifier"
   ]
  },
  {
   "cell_type": "markdown",
   "id": "1db3b3e8",
   "metadata": {
    "_cell_guid": "6b5dc743-15b1-aac6-405e-081def6ecca1",
    "_uuid": "2d307b99ee3d19da3c1cddf509ed179c21dec94a",
    "papermill": {
     "duration": 0.029435,
     "end_time": "2022-10-13T22:39:52.268638",
     "exception": false,
     "start_time": "2022-10-13T22:39:52.239203",
     "status": "completed"
    },
    "tags": []
   },
   "source": [
    "## Fonte dos dados\n",
    "\n",
    "Os dados são provinientes do desafio [\"Titanic - Machine Learning from Disaster\"](https://www.kaggle.com/competitions/titanic/data) do kaggle.\n",
    "\n",
    "Será utilizado os pacotes Python Pandas para trabalhar com nossos conjuntos de dados.<br>\n",
    "Começamos adquirindo os conjuntos de dados de treinamento(train.csv) e teste(test.csv) no Pandas DataFrames.<br>\n",
    "Também combinamos esses conjuntos de dados para executar determinadas operações em ambos os conjuntos de dados juntos."
   ]
  },
  {
   "cell_type": "code",
   "execution_count": 2,
   "id": "c66ed4a9",
   "metadata": {
    "_cell_guid": "e7319668-86fe-8adc-438d-0eef3fd0a982",
    "_uuid": "13f38775c12ad6f914254a08f0d1ef948a2bd453",
    "execution": {
     "iopub.execute_input": "2022-10-13T22:39:52.329857Z",
     "iopub.status.busy": "2022-10-13T22:39:52.329418Z",
     "iopub.status.idle": "2022-10-13T22:39:52.358549Z",
     "shell.execute_reply": "2022-10-13T22:39:52.357610Z"
    },
    "papermill": {
     "duration": 0.062691,
     "end_time": "2022-10-13T22:39:52.360891",
     "exception": false,
     "start_time": "2022-10-13T22:39:52.298200",
     "status": "completed"
    },
    "tags": []
   },
   "outputs": [],
   "source": [
    "df_treino = pd.read_csv('../input/titanic/train.csv')\n",
    "df_test = pd.read_csv('../input/titanic/test.csv')\n",
    "datasets = [df_treino, df_test]"
   ]
  },
  {
   "cell_type": "code",
   "execution_count": 3,
   "id": "727966bd",
   "metadata": {
    "execution": {
     "iopub.execute_input": "2022-10-13T22:39:52.422862Z",
     "iopub.status.busy": "2022-10-13T22:39:52.421897Z",
     "iopub.status.idle": "2022-10-13T22:39:52.454595Z",
     "shell.execute_reply": "2022-10-13T22:39:52.453453Z"
    },
    "papermill": {
     "duration": 0.066432,
     "end_time": "2022-10-13T22:39:52.457411",
     "exception": false,
     "start_time": "2022-10-13T22:39:52.390979",
     "status": "completed"
    },
    "tags": []
   },
   "outputs": [
    {
     "data": {
      "text/html": [
       "<div>\n",
       "<style scoped>\n",
       "    .dataframe tbody tr th:only-of-type {\n",
       "        vertical-align: middle;\n",
       "    }\n",
       "\n",
       "    .dataframe tbody tr th {\n",
       "        vertical-align: top;\n",
       "    }\n",
       "\n",
       "    .dataframe thead th {\n",
       "        text-align: right;\n",
       "    }\n",
       "</style>\n",
       "<table border=\"1\" class=\"dataframe\">\n",
       "  <thead>\n",
       "    <tr style=\"text-align: right;\">\n",
       "      <th></th>\n",
       "      <th>PassengerId</th>\n",
       "      <th>Survived</th>\n",
       "      <th>Pclass</th>\n",
       "      <th>Name</th>\n",
       "      <th>Sex</th>\n",
       "      <th>Age</th>\n",
       "      <th>SibSp</th>\n",
       "      <th>Parch</th>\n",
       "      <th>Ticket</th>\n",
       "      <th>Fare</th>\n",
       "      <th>Cabin</th>\n",
       "      <th>Embarked</th>\n",
       "    </tr>\n",
       "  </thead>\n",
       "  <tbody>\n",
       "    <tr>\n",
       "      <th>0</th>\n",
       "      <td>1</td>\n",
       "      <td>0</td>\n",
       "      <td>3</td>\n",
       "      <td>Braund, Mr. Owen Harris</td>\n",
       "      <td>male</td>\n",
       "      <td>22.0</td>\n",
       "      <td>1</td>\n",
       "      <td>0</td>\n",
       "      <td>A/5 21171</td>\n",
       "      <td>7.2500</td>\n",
       "      <td>NaN</td>\n",
       "      <td>S</td>\n",
       "    </tr>\n",
       "    <tr>\n",
       "      <th>1</th>\n",
       "      <td>2</td>\n",
       "      <td>1</td>\n",
       "      <td>1</td>\n",
       "      <td>Cumings, Mrs. John Bradley (Florence Briggs Th...</td>\n",
       "      <td>female</td>\n",
       "      <td>38.0</td>\n",
       "      <td>1</td>\n",
       "      <td>0</td>\n",
       "      <td>PC 17599</td>\n",
       "      <td>71.2833</td>\n",
       "      <td>C85</td>\n",
       "      <td>C</td>\n",
       "    </tr>\n",
       "    <tr>\n",
       "      <th>2</th>\n",
       "      <td>3</td>\n",
       "      <td>1</td>\n",
       "      <td>3</td>\n",
       "      <td>Heikkinen, Miss. Laina</td>\n",
       "      <td>female</td>\n",
       "      <td>26.0</td>\n",
       "      <td>0</td>\n",
       "      <td>0</td>\n",
       "      <td>STON/O2. 3101282</td>\n",
       "      <td>7.9250</td>\n",
       "      <td>NaN</td>\n",
       "      <td>S</td>\n",
       "    </tr>\n",
       "    <tr>\n",
       "      <th>3</th>\n",
       "      <td>4</td>\n",
       "      <td>1</td>\n",
       "      <td>1</td>\n",
       "      <td>Futrelle, Mrs. Jacques Heath (Lily May Peel)</td>\n",
       "      <td>female</td>\n",
       "      <td>35.0</td>\n",
       "      <td>1</td>\n",
       "      <td>0</td>\n",
       "      <td>113803</td>\n",
       "      <td>53.1000</td>\n",
       "      <td>C123</td>\n",
       "      <td>S</td>\n",
       "    </tr>\n",
       "    <tr>\n",
       "      <th>4</th>\n",
       "      <td>5</td>\n",
       "      <td>0</td>\n",
       "      <td>3</td>\n",
       "      <td>Allen, Mr. William Henry</td>\n",
       "      <td>male</td>\n",
       "      <td>35.0</td>\n",
       "      <td>0</td>\n",
       "      <td>0</td>\n",
       "      <td>373450</td>\n",
       "      <td>8.0500</td>\n",
       "      <td>NaN</td>\n",
       "      <td>S</td>\n",
       "    </tr>\n",
       "    <tr>\n",
       "      <th>...</th>\n",
       "      <td>...</td>\n",
       "      <td>...</td>\n",
       "      <td>...</td>\n",
       "      <td>...</td>\n",
       "      <td>...</td>\n",
       "      <td>...</td>\n",
       "      <td>...</td>\n",
       "      <td>...</td>\n",
       "      <td>...</td>\n",
       "      <td>...</td>\n",
       "      <td>...</td>\n",
       "      <td>...</td>\n",
       "    </tr>\n",
       "    <tr>\n",
       "      <th>886</th>\n",
       "      <td>887</td>\n",
       "      <td>0</td>\n",
       "      <td>2</td>\n",
       "      <td>Montvila, Rev. Juozas</td>\n",
       "      <td>male</td>\n",
       "      <td>27.0</td>\n",
       "      <td>0</td>\n",
       "      <td>0</td>\n",
       "      <td>211536</td>\n",
       "      <td>13.0000</td>\n",
       "      <td>NaN</td>\n",
       "      <td>S</td>\n",
       "    </tr>\n",
       "    <tr>\n",
       "      <th>887</th>\n",
       "      <td>888</td>\n",
       "      <td>1</td>\n",
       "      <td>1</td>\n",
       "      <td>Graham, Miss. Margaret Edith</td>\n",
       "      <td>female</td>\n",
       "      <td>19.0</td>\n",
       "      <td>0</td>\n",
       "      <td>0</td>\n",
       "      <td>112053</td>\n",
       "      <td>30.0000</td>\n",
       "      <td>B42</td>\n",
       "      <td>S</td>\n",
       "    </tr>\n",
       "    <tr>\n",
       "      <th>888</th>\n",
       "      <td>889</td>\n",
       "      <td>0</td>\n",
       "      <td>3</td>\n",
       "      <td>Johnston, Miss. Catherine Helen \"Carrie\"</td>\n",
       "      <td>female</td>\n",
       "      <td>NaN</td>\n",
       "      <td>1</td>\n",
       "      <td>2</td>\n",
       "      <td>W./C. 6607</td>\n",
       "      <td>23.4500</td>\n",
       "      <td>NaN</td>\n",
       "      <td>S</td>\n",
       "    </tr>\n",
       "    <tr>\n",
       "      <th>889</th>\n",
       "      <td>890</td>\n",
       "      <td>1</td>\n",
       "      <td>1</td>\n",
       "      <td>Behr, Mr. Karl Howell</td>\n",
       "      <td>male</td>\n",
       "      <td>26.0</td>\n",
       "      <td>0</td>\n",
       "      <td>0</td>\n",
       "      <td>111369</td>\n",
       "      <td>30.0000</td>\n",
       "      <td>C148</td>\n",
       "      <td>C</td>\n",
       "    </tr>\n",
       "    <tr>\n",
       "      <th>890</th>\n",
       "      <td>891</td>\n",
       "      <td>0</td>\n",
       "      <td>3</td>\n",
       "      <td>Dooley, Mr. Patrick</td>\n",
       "      <td>male</td>\n",
       "      <td>32.0</td>\n",
       "      <td>0</td>\n",
       "      <td>0</td>\n",
       "      <td>370376</td>\n",
       "      <td>7.7500</td>\n",
       "      <td>NaN</td>\n",
       "      <td>Q</td>\n",
       "    </tr>\n",
       "  </tbody>\n",
       "</table>\n",
       "<p>891 rows × 12 columns</p>\n",
       "</div>"
      ],
      "text/plain": [
       "     PassengerId  Survived  Pclass  \\\n",
       "0              1         0       3   \n",
       "1              2         1       1   \n",
       "2              3         1       3   \n",
       "3              4         1       1   \n",
       "4              5         0       3   \n",
       "..           ...       ...     ...   \n",
       "886          887         0       2   \n",
       "887          888         1       1   \n",
       "888          889         0       3   \n",
       "889          890         1       1   \n",
       "890          891         0       3   \n",
       "\n",
       "                                                  Name     Sex   Age  SibSp  \\\n",
       "0                              Braund, Mr. Owen Harris    male  22.0      1   \n",
       "1    Cumings, Mrs. John Bradley (Florence Briggs Th...  female  38.0      1   \n",
       "2                               Heikkinen, Miss. Laina  female  26.0      0   \n",
       "3         Futrelle, Mrs. Jacques Heath (Lily May Peel)  female  35.0      1   \n",
       "4                             Allen, Mr. William Henry    male  35.0      0   \n",
       "..                                                 ...     ...   ...    ...   \n",
       "886                              Montvila, Rev. Juozas    male  27.0      0   \n",
       "887                       Graham, Miss. Margaret Edith  female  19.0      0   \n",
       "888           Johnston, Miss. Catherine Helen \"Carrie\"  female   NaN      1   \n",
       "889                              Behr, Mr. Karl Howell    male  26.0      0   \n",
       "890                                Dooley, Mr. Patrick    male  32.0      0   \n",
       "\n",
       "     Parch            Ticket     Fare Cabin Embarked  \n",
       "0        0         A/5 21171   7.2500   NaN        S  \n",
       "1        0          PC 17599  71.2833   C85        C  \n",
       "2        0  STON/O2. 3101282   7.9250   NaN        S  \n",
       "3        0            113803  53.1000  C123        S  \n",
       "4        0            373450   8.0500   NaN        S  \n",
       "..     ...               ...      ...   ...      ...  \n",
       "886      0            211536  13.0000   NaN        S  \n",
       "887      0            112053  30.0000   B42        S  \n",
       "888      2        W./C. 6607  23.4500   NaN        S  \n",
       "889      0            111369  30.0000  C148        C  \n",
       "890      0            370376   7.7500   NaN        Q  \n",
       "\n",
       "[891 rows x 12 columns]"
      ]
     },
     "execution_count": 3,
     "metadata": {},
     "output_type": "execute_result"
    }
   ],
   "source": [
    "#visualizando a tabela\n",
    "df_treino"
   ]
  },
  {
   "cell_type": "markdown",
   "id": "08af43eb",
   "metadata": {
    "_cell_guid": "3d6188f3-dc82-8ae6-dabd-83e28fcbf10d",
    "_uuid": "79282222056237a52bbbb1dbd831f057f1c23d69",
    "papermill": {
     "duration": 0.029977,
     "end_time": "2022-10-13T22:39:52.517800",
     "exception": false,
     "start_time": "2022-10-13T22:39:52.487823",
     "status": "completed"
    },
    "tags": []
   },
   "source": [
    "## Descrevendo dados\n",
    "\n",
    "Observando os nomes das características para manipulá-las ou analisá-las diretamente. Esses nomes de características são descritos na [página de dados do Kaggle aqui](https://www.kaggle.com/c/titanic/data)."
   ]
  },
  {
   "cell_type": "markdown",
   "id": "39ea4ad5",
   "metadata": {
    "papermill": {
     "duration": 0.029799,
     "end_time": "2022-10-13T22:39:52.577729",
     "exception": false,
     "start_time": "2022-10-13T22:39:52.547930",
     "status": "completed"
    },
    "tags": []
   },
   "source": [
    "### Descrição das variáveis \n",
    "\n",
    "| Variavel  | Definição                                | Key                                              |\n",
    "|-----------|------------------------------------------|------------------------------------------------|\n",
    "| **Survival**  | Sobrevivente                             | 0 = Não, 1 = Sim                              |\n",
    "| **Pclass**    | Classe do ticket                        | 1 = 1º classe,  2 = 2º classe,  3 = 3º classe  |\n",
    "| **Sex**       | Sexo                                     |                                              |\n",
    "| **Age**       | Idade                                    |                                              |\n",
    "| **Sibsp**     | Nº de irmãos/cônjuges a bordo do Titanic |                                              |\n",
    "| **Parch**     | Nº de pais/filhos a bordo do Titanic     |                                             |\n",
    "| **Ticket**    | Número do ticket                         |                                             |\n",
    "| **Fare**      | Tarifa paga para embarcar                |                                             |\n",
    "| **Cabin**     | Número da cabine                         |                                             |\n",
    "| **Embarked**  | Porto de embarcação                      | C = Cherbourg,  Q = Queenstown,  S = Southampton |\n",
    "|**Surname**|Sobrenome da familia||\n",
    "\n",
    "\n",
    "### Notas sobre as variáveis\n",
    "**pclass:** Representa o status socioeconômico (SES)\n",
    "- 1º = Superior\n",
    "- 2º = Médio\n",
    "- 3º = Inferior\n",
    "<br>\n",
    "\n",
    "**idade:** a idade é fracionada se for menor que 1. Se a idade for estimada, ela está na forma de xx,5\n",
    "<br><br>\n",
    "\n",
    "**sibsp:** O conjunto de dados define as relações familiares desta forma...\n",
    "- Sibling = irmão, irmã, meio-irmão, meia-irmã\n",
    "- Spouse = marido, esposa (amantes e noivos foram ignorados)\n",
    "<br>\n",
    "\n",
    "**parch:** O conjunto de dados define as relações familiares dessa maneira...\n",
    "- Parent = mãe, pai\n",
    "- Child = filha, filho, enteada, enteado\n",
    "- **Algumas crianças viajavam apenas com uma babá, portanto parch=0 para elas.**"
   ]
  },
  {
   "cell_type": "markdown",
   "id": "16f07187",
   "metadata": {
    "_cell_guid": "cd19a6f6-347f-be19-607b-dca950590b37",
    "_uuid": "1d7acf42af29a63bc038f14eded24e8b8146f541",
    "papermill": {
     "duration": 0.030081,
     "end_time": "2022-10-13T22:39:52.638186",
     "exception": false,
     "start_time": "2022-10-13T22:39:52.608105",
     "status": "completed"
    },
    "tags": []
   },
   "source": [
    "### Descrição das características das variáveis"
   ]
  },
  {
   "cell_type": "markdown",
   "id": "57119bb1",
   "metadata": {
    "papermill": {
     "duration": 0.030252,
     "end_time": "2022-10-13T22:39:52.698759",
     "exception": false,
     "start_time": "2022-10-13T22:39:52.668507",
     "status": "completed"
    },
    "tags": []
   },
   "source": [
    "#### Descrição"
   ]
  },
  {
   "cell_type": "markdown",
   "id": "7921a096",
   "metadata": {
    "papermill": {
     "duration": 0.02997,
     "end_time": "2022-10-13T22:39:52.759156",
     "exception": false,
     "start_time": "2022-10-13T22:39:52.729186",
     "status": "completed"
    },
    "tags": []
   },
   "source": [
    "**Quais características são categóricas?**\n",
    "As características categóricas são valores nominais, ordinais, razão ou intervalo. Isso nos ajuda a selecionar os gráficos apropriados para visualização.\n",
    "\n",
    "- **Categórico:** Survival, Sex e Embarked. \n",
    "- **Ordinal:** Pclass.\n",
    "<br><br>\n",
    "\n",
    "**Quais características são numéricos?**\n",
    "\n",
    "As características numéricas são os valores são discretos, contínuos ou baseados em séries temporais. Isso nos ajuda a selecionar os gráficos apropriados para visualização.\n",
    "\n",
    "- **Contínuo:** Age, Fare. \n",
    "- **Discreta:** Sibsp, Parch.\n",
    "<br><br>\n",
    "\n",
    "**Quais características são tipos de dados mistos?**\n",
    "\n",
    "Dados numéricos e alfanuméricos dentro da mesma característica. Estes são candidatos para corrigir o objetivo.\n",
    "\n",
    "- **Ticket:** é uma mistura de tipos de dados numéricos e alfanuméricos. \n",
    "- **Cabin:** é alfanumérica.\n",
    "<br><br>\n",
    "\n",
    "**Quais características podem conter erros ou erros de digitação?**\n",
    "\n",
    "Isso é mais difícil de revisar para um grande conjunto de dados, no entanto, revisar algumas amostras de um conjunto de dados menor pode nos dizer diretamente quais itens podem exigir correção.\n",
    "\n",
    "- A variável **Name** e **Surname** pode conter erros ou erros de digitação, pois há várias maneiras de descrever um nome, incluindo títulos, colchetes e aspas usadas para nomes alternativos ou curtos."
   ]
  },
  {
   "cell_type": "code",
   "execution_count": 4,
   "id": "19365601",
   "metadata": {
    "_cell_guid": "ce473d29-8d19-76b8-24a4-48c217286e42",
    "_uuid": "ef106f38a00e162a80c523778af6dcc778ccc1c2",
    "execution": {
     "iopub.execute_input": "2022-10-13T22:39:52.822108Z",
     "iopub.status.busy": "2022-10-13T22:39:52.821444Z",
     "iopub.status.idle": "2022-10-13T22:39:52.828646Z",
     "shell.execute_reply": "2022-10-13T22:39:52.827767Z"
    },
    "papermill": {
     "duration": 0.041139,
     "end_time": "2022-10-13T22:39:52.830643",
     "exception": false,
     "start_time": "2022-10-13T22:39:52.789504",
     "status": "completed"
    },
    "tags": []
   },
   "outputs": [
    {
     "data": {
      "text/plain": [
       "Index(['PassengerId', 'Survived', 'Pclass', 'Name', 'Sex', 'Age', 'SibSp',\n",
       "       'Parch', 'Ticket', 'Fare', 'Cabin', 'Embarked'],\n",
       "      dtype='object')"
      ]
     },
     "execution_count": 4,
     "metadata": {},
     "output_type": "execute_result"
    }
   ],
   "source": [
    "df_treino.columns"
   ]
  },
  {
   "cell_type": "markdown",
   "id": "b72fc2a2",
   "metadata": {
    "_cell_guid": "8bfe9610-689a-29b2-26ee-f67cd4719079",
    "_uuid": "699c52b7a8d076ccd5ea5bc5d606313c558a6e8e",
    "papermill": {
     "duration": 0.030282,
     "end_time": "2022-10-13T22:39:52.891419",
     "exception": false,
     "start_time": "2022-10-13T22:39:52.861137",
     "status": "completed"
    },
    "tags": []
   },
   "source": [
    "**Quais variáveis contêm valores em branco, nulos ou vazios?**\n",
    "\n",
    "**Estas exigirão correção:**\n",
    "- As variáveis **Cabin > Age > Embarked** contêm vários valores nulos nessa ordem para o conjunto de dados de treinamento.\n",
    "- **Cabin > Age** estão incompletos no caso de conjunto de dados de teste.\n",
    "\n",
    "**Quais são os tipos de dados para vários recursos?**\n",
    "Ajudando-nos durante a meta de conversão.\n",
    "- Sete variáveis são do tipo int ou float. (Seis no caso de conjunto de dados de teste)\n",
    "- Cinco variáveis são strings (objeto)."
   ]
  },
  {
   "cell_type": "code",
   "execution_count": 5,
   "id": "db1cdaee",
   "metadata": {
    "_cell_guid": "9b805f69-665a-2b2e-f31d-50d87d52865d",
    "_uuid": "817e1cf0ca1cb96c7a28bb81192d92261a8bf427",
    "execution": {
     "iopub.execute_input": "2022-10-13T22:39:52.954462Z",
     "iopub.status.busy": "2022-10-13T22:39:52.953488Z",
     "iopub.status.idle": "2022-10-13T22:39:52.983123Z",
     "shell.execute_reply": "2022-10-13T22:39:52.981614Z"
    },
    "papermill": {
     "duration": 0.063974,
     "end_time": "2022-10-13T22:39:52.985780",
     "exception": false,
     "start_time": "2022-10-13T22:39:52.921806",
     "status": "completed"
    },
    "tags": []
   },
   "outputs": [
    {
     "name": "stdout",
     "output_type": "stream",
     "text": [
      "<class 'pandas.core.frame.DataFrame'>\n",
      "RangeIndex: 891 entries, 0 to 890\n",
      "Data columns (total 12 columns):\n",
      " #   Column       Non-Null Count  Dtype  \n",
      "---  ------       --------------  -----  \n",
      " 0   PassengerId  891 non-null    int64  \n",
      " 1   Survived     891 non-null    int64  \n",
      " 2   Pclass       891 non-null    int64  \n",
      " 3   Name         891 non-null    object \n",
      " 4   Sex          891 non-null    object \n",
      " 5   Age          714 non-null    float64\n",
      " 6   SibSp        891 non-null    int64  \n",
      " 7   Parch        891 non-null    int64  \n",
      " 8   Ticket       891 non-null    object \n",
      " 9   Fare         891 non-null    float64\n",
      " 10  Cabin        204 non-null    object \n",
      " 11  Embarked     889 non-null    object \n",
      "dtypes: float64(2), int64(5), object(5)\n",
      "memory usage: 83.7+ KB\n",
      "________________________________________\n",
      "                                        \n",
      "<class 'pandas.core.frame.DataFrame'>\n",
      "RangeIndex: 418 entries, 0 to 417\n",
      "Data columns (total 11 columns):\n",
      " #   Column       Non-Null Count  Dtype  \n",
      "---  ------       --------------  -----  \n",
      " 0   PassengerId  418 non-null    int64  \n",
      " 1   Pclass       418 non-null    int64  \n",
      " 2   Name         418 non-null    object \n",
      " 3   Sex          418 non-null    object \n",
      " 4   Age          332 non-null    float64\n",
      " 5   SibSp        418 non-null    int64  \n",
      " 6   Parch        418 non-null    int64  \n",
      " 7   Ticket       418 non-null    object \n",
      " 8   Fare         417 non-null    float64\n",
      " 9   Cabin        91 non-null     object \n",
      " 10  Embarked     418 non-null    object \n",
      "dtypes: float64(2), int64(4), object(5)\n",
      "memory usage: 36.0+ KB\n"
     ]
    }
   ],
   "source": [
    "df_treino.info()\n",
    "print('_'*40)\n",
    "print(' '*40)\n",
    "df_test.info()"
   ]
  },
  {
   "cell_type": "markdown",
   "id": "99a9a2ee",
   "metadata": {
    "papermill": {
     "duration": 0.030493,
     "end_time": "2022-10-13T22:39:53.046972",
     "exception": false,
     "start_time": "2022-10-13T22:39:53.016479",
     "status": "completed"
    },
    "tags": []
   },
   "source": [
    "#### **Qual é a distribuição dos valores numéricos das variáveis nas amostras?**\n",
    "\n",
    "Isso nos ajuda a determinar, entre outros insights iniciais, quão representativo é o conjunto de dados de treinamento do domínio real do problema."
   ]
  },
  {
   "cell_type": "code",
   "execution_count": 6,
   "id": "e4c0f4a5",
   "metadata": {
    "_cell_guid": "58e387fe-86e4-e068-8307-70e37fe3f37b",
    "_uuid": "380251a1c1e0b89147d321968dc739b6cc0eecf2",
    "execution": {
     "iopub.execute_input": "2022-10-13T22:39:53.110864Z",
     "iopub.status.busy": "2022-10-13T22:39:53.109759Z",
     "iopub.status.idle": "2022-10-13T22:39:53.142588Z",
     "shell.execute_reply": "2022-10-13T22:39:53.141406Z"
    },
    "papermill": {
     "duration": 0.067532,
     "end_time": "2022-10-13T22:39:53.145198",
     "exception": false,
     "start_time": "2022-10-13T22:39:53.077666",
     "status": "completed"
    },
    "tags": []
   },
   "outputs": [
    {
     "data": {
      "text/html": [
       "<div>\n",
       "<style scoped>\n",
       "    .dataframe tbody tr th:only-of-type {\n",
       "        vertical-align: middle;\n",
       "    }\n",
       "\n",
       "    .dataframe tbody tr th {\n",
       "        vertical-align: top;\n",
       "    }\n",
       "\n",
       "    .dataframe thead th {\n",
       "        text-align: right;\n",
       "    }\n",
       "</style>\n",
       "<table border=\"1\" class=\"dataframe\">\n",
       "  <thead>\n",
       "    <tr style=\"text-align: right;\">\n",
       "      <th></th>\n",
       "      <th>PassengerId</th>\n",
       "      <th>Survived</th>\n",
       "      <th>Pclass</th>\n",
       "      <th>Age</th>\n",
       "      <th>SibSp</th>\n",
       "      <th>Parch</th>\n",
       "      <th>Fare</th>\n",
       "    </tr>\n",
       "  </thead>\n",
       "  <tbody>\n",
       "    <tr>\n",
       "      <th>count</th>\n",
       "      <td>891.000000</td>\n",
       "      <td>891.000000</td>\n",
       "      <td>891.000000</td>\n",
       "      <td>714.000000</td>\n",
       "      <td>891.000000</td>\n",
       "      <td>891.000000</td>\n",
       "      <td>891.000000</td>\n",
       "    </tr>\n",
       "    <tr>\n",
       "      <th>mean</th>\n",
       "      <td>446.000000</td>\n",
       "      <td>0.383838</td>\n",
       "      <td>2.308642</td>\n",
       "      <td>29.699118</td>\n",
       "      <td>0.523008</td>\n",
       "      <td>0.381594</td>\n",
       "      <td>32.204208</td>\n",
       "    </tr>\n",
       "    <tr>\n",
       "      <th>std</th>\n",
       "      <td>257.353842</td>\n",
       "      <td>0.486592</td>\n",
       "      <td>0.836071</td>\n",
       "      <td>14.526497</td>\n",
       "      <td>1.102743</td>\n",
       "      <td>0.806057</td>\n",
       "      <td>49.693429</td>\n",
       "    </tr>\n",
       "    <tr>\n",
       "      <th>min</th>\n",
       "      <td>1.000000</td>\n",
       "      <td>0.000000</td>\n",
       "      <td>1.000000</td>\n",
       "      <td>0.420000</td>\n",
       "      <td>0.000000</td>\n",
       "      <td>0.000000</td>\n",
       "      <td>0.000000</td>\n",
       "    </tr>\n",
       "    <tr>\n",
       "      <th>25%</th>\n",
       "      <td>223.500000</td>\n",
       "      <td>0.000000</td>\n",
       "      <td>2.000000</td>\n",
       "      <td>20.125000</td>\n",
       "      <td>0.000000</td>\n",
       "      <td>0.000000</td>\n",
       "      <td>7.910400</td>\n",
       "    </tr>\n",
       "    <tr>\n",
       "      <th>50%</th>\n",
       "      <td>446.000000</td>\n",
       "      <td>0.000000</td>\n",
       "      <td>3.000000</td>\n",
       "      <td>28.000000</td>\n",
       "      <td>0.000000</td>\n",
       "      <td>0.000000</td>\n",
       "      <td>14.454200</td>\n",
       "    </tr>\n",
       "    <tr>\n",
       "      <th>75%</th>\n",
       "      <td>668.500000</td>\n",
       "      <td>1.000000</td>\n",
       "      <td>3.000000</td>\n",
       "      <td>38.000000</td>\n",
       "      <td>1.000000</td>\n",
       "      <td>0.000000</td>\n",
       "      <td>31.000000</td>\n",
       "    </tr>\n",
       "    <tr>\n",
       "      <th>max</th>\n",
       "      <td>891.000000</td>\n",
       "      <td>1.000000</td>\n",
       "      <td>3.000000</td>\n",
       "      <td>80.000000</td>\n",
       "      <td>8.000000</td>\n",
       "      <td>6.000000</td>\n",
       "      <td>512.329200</td>\n",
       "    </tr>\n",
       "  </tbody>\n",
       "</table>\n",
       "</div>"
      ],
      "text/plain": [
       "       PassengerId    Survived      Pclass         Age       SibSp  \\\n",
       "count   891.000000  891.000000  891.000000  714.000000  891.000000   \n",
       "mean    446.000000    0.383838    2.308642   29.699118    0.523008   \n",
       "std     257.353842    0.486592    0.836071   14.526497    1.102743   \n",
       "min       1.000000    0.000000    1.000000    0.420000    0.000000   \n",
       "25%     223.500000    0.000000    2.000000   20.125000    0.000000   \n",
       "50%     446.000000    0.000000    3.000000   28.000000    0.000000   \n",
       "75%     668.500000    1.000000    3.000000   38.000000    1.000000   \n",
       "max     891.000000    1.000000    3.000000   80.000000    8.000000   \n",
       "\n",
       "            Parch        Fare  \n",
       "count  891.000000  891.000000  \n",
       "mean     0.381594   32.204208  \n",
       "std      0.806057   49.693429  \n",
       "min      0.000000    0.000000  \n",
       "25%      0.000000    7.910400  \n",
       "50%      0.000000   14.454200  \n",
       "75%      0.000000   31.000000  \n",
       "max      6.000000  512.329200  "
      ]
     },
     "execution_count": 6,
     "metadata": {},
     "output_type": "execute_result"
    }
   ],
   "source": [
    "df_treino.describe()"
   ]
  },
  {
   "cell_type": "markdown",
   "id": "0594f07f",
   "metadata": {
    "papermill": {
     "duration": 0.031442,
     "end_time": "2022-10-13T22:39:53.208762",
     "exception": false,
     "start_time": "2022-10-13T22:39:53.177320",
     "status": "completed"
    },
    "tags": []
   },
   "source": [
    "- **As amostras totais são 891 ou 40% do número real de passageiros a bordo do Titanic (2.224).**"
   ]
  },
  {
   "cell_type": "code",
   "execution_count": 7,
   "id": "92e5eb08",
   "metadata": {
    "execution": {
     "iopub.execute_input": "2022-10-13T22:39:53.273951Z",
     "iopub.status.busy": "2022-10-13T22:39:53.273325Z",
     "iopub.status.idle": "2022-10-13T22:39:53.280498Z",
     "shell.execute_reply": "2022-10-13T22:39:53.279160Z"
    },
    "papermill": {
     "duration": 0.043365,
     "end_time": "2022-10-13T22:39:53.283376",
     "exception": false,
     "start_time": "2022-10-13T22:39:53.240011",
     "status": "completed"
    },
    "tags": []
   },
   "outputs": [
    {
     "name": "stdout",
     "output_type": "stream",
     "text": [
      "40%\n"
     ]
    }
   ],
   "source": [
    "print('{0:.0f}%'.format((df_treino.shape[0]*100)/2224))"
   ]
  },
  {
   "cell_type": "markdown",
   "id": "de7dd6a6",
   "metadata": {
    "papermill": {
     "duration": 0.030707,
     "end_time": "2022-10-13T22:39:53.346312",
     "exception": false,
     "start_time": "2022-10-13T22:39:53.315605",
     "status": "completed"
    },
    "tags": []
   },
   "source": [
    "- **Sobreviveu é uma variável categórica com valores 0 ou 1.**"
   ]
  },
  {
   "cell_type": "code",
   "execution_count": 8,
   "id": "749c67cd",
   "metadata": {
    "execution": {
     "iopub.execute_input": "2022-10-13T22:39:53.412279Z",
     "iopub.status.busy": "2022-10-13T22:39:53.411886Z",
     "iopub.status.idle": "2022-10-13T22:39:53.419375Z",
     "shell.execute_reply": "2022-10-13T22:39:53.418595Z"
    },
    "papermill": {
     "duration": 0.043534,
     "end_time": "2022-10-13T22:39:53.421588",
     "exception": false,
     "start_time": "2022-10-13T22:39:53.378054",
     "status": "completed"
    },
    "tags": []
   },
   "outputs": [
    {
     "data": {
      "text/plain": [
       "array([0, 1])"
      ]
     },
     "execution_count": 8,
     "metadata": {},
     "output_type": "execute_result"
    }
   ],
   "source": [
    "df_treino['Survived'].unique()"
   ]
  },
  {
   "cell_type": "markdown",
   "id": "ee2081a4",
   "metadata": {
    "papermill": {
     "duration": 0.031258,
     "end_time": "2022-10-13T22:39:53.483908",
     "exception": false,
     "start_time": "2022-10-13T22:39:53.452650",
     "status": "completed"
    },
    "tags": []
   },
   "source": [
    "- **Cerca de 38% da amostragem é de sobreviventes.**"
   ]
  },
  {
   "cell_type": "code",
   "execution_count": 9,
   "id": "1cac1149",
   "metadata": {
    "execution": {
     "iopub.execute_input": "2022-10-13T22:39:53.548200Z",
     "iopub.status.busy": "2022-10-13T22:39:53.547670Z",
     "iopub.status.idle": "2022-10-13T22:39:53.554995Z",
     "shell.execute_reply": "2022-10-13T22:39:53.553758Z"
    },
    "papermill": {
     "duration": 0.042245,
     "end_time": "2022-10-13T22:39:53.557499",
     "exception": false,
     "start_time": "2022-10-13T22:39:53.515254",
     "status": "completed"
    },
    "tags": []
   },
   "outputs": [
    {
     "name": "stdout",
     "output_type": "stream",
     "text": [
      "38%\n"
     ]
    }
   ],
   "source": [
    "print('{0:.0f}%'.format((df_treino['Survived'].sum()*100)/df_treino.shape[0]))"
   ]
  },
  {
   "cell_type": "markdown",
   "id": "78f1dc0c",
   "metadata": {
    "papermill": {
     "duration": 0.030585,
     "end_time": "2022-10-13T22:39:53.619619",
     "exception": false,
     "start_time": "2022-10-13T22:39:53.589034",
     "status": "completed"
    },
    "tags": []
   },
   "source": [
    "- **A maioria dos passageiros (> 75%) não viajou com pais ou filhos.**"
   ]
  },
  {
   "cell_type": "code",
   "execution_count": 10,
   "id": "9f609534",
   "metadata": {
    "execution": {
     "iopub.execute_input": "2022-10-13T22:39:53.684003Z",
     "iopub.status.busy": "2022-10-13T22:39:53.683293Z",
     "iopub.status.idle": "2022-10-13T22:39:53.690804Z",
     "shell.execute_reply": "2022-10-13T22:39:53.690006Z"
    },
    "papermill": {
     "duration": 0.042462,
     "end_time": "2022-10-13T22:39:53.692884",
     "exception": false,
     "start_time": "2022-10-13T22:39:53.650422",
     "status": "completed"
    },
    "tags": []
   },
   "outputs": [
    {
     "data": {
      "text/plain": [
       "Parch\n",
       "0    678\n",
       "1    118\n",
       "2     80\n",
       "3      5\n",
       "4      4\n",
       "5      5\n",
       "6      1\n",
       "dtype: int64"
      ]
     },
     "execution_count": 10,
     "metadata": {},
     "output_type": "execute_result"
    }
   ],
   "source": [
    "df_treino.groupby(['Parch']).size()"
   ]
  },
  {
   "cell_type": "code",
   "execution_count": 11,
   "id": "5e1f293f",
   "metadata": {
    "execution": {
     "iopub.execute_input": "2022-10-13T22:39:53.757220Z",
     "iopub.status.busy": "2022-10-13T22:39:53.756480Z",
     "iopub.status.idle": "2022-10-13T22:39:53.763945Z",
     "shell.execute_reply": "2022-10-13T22:39:53.762733Z"
    },
    "papermill": {
     "duration": 0.042422,
     "end_time": "2022-10-13T22:39:53.766517",
     "exception": false,
     "start_time": "2022-10-13T22:39:53.724095",
     "status": "completed"
    },
    "tags": []
   },
   "outputs": [
    {
     "name": "stdout",
     "output_type": "stream",
     "text": [
      "76%\n"
     ]
    }
   ],
   "source": [
    "solo_parch = df_treino.groupby(['Parch']).size()[0]\n",
    "percent_solo_parch = (solo_parch*100)/df_treino['Parch'].count()\n",
    "print('{0:.0f}%'.format(percent_solo_parch))"
   ]
  },
  {
   "cell_type": "markdown",
   "id": "17a11f8b",
   "metadata": {
    "papermill": {
     "duration": 0.031178,
     "end_time": "2022-10-13T22:39:53.829748",
     "exception": false,
     "start_time": "2022-10-13T22:39:53.798570",
     "status": "completed"
    },
    "tags": []
   },
   "source": [
    "- **Quase 30% dos passageiros tinham irmãos e/ou cônjuge a bordo.**"
   ]
  },
  {
   "cell_type": "code",
   "execution_count": 12,
   "id": "1cc30259",
   "metadata": {
    "execution": {
     "iopub.execute_input": "2022-10-13T22:39:53.895801Z",
     "iopub.status.busy": "2022-10-13T22:39:53.894654Z",
     "iopub.status.idle": "2022-10-13T22:39:53.902518Z",
     "shell.execute_reply": "2022-10-13T22:39:53.901738Z"
    },
    "papermill": {
     "duration": 0.043083,
     "end_time": "2022-10-13T22:39:53.904586",
     "exception": false,
     "start_time": "2022-10-13T22:39:53.861503",
     "status": "completed"
    },
    "tags": []
   },
   "outputs": [
    {
     "data": {
      "text/plain": [
       "SibSp\n",
       "0    608\n",
       "1    209\n",
       "2     28\n",
       "3     16\n",
       "4     18\n",
       "5      5\n",
       "8      7\n",
       "dtype: int64"
      ]
     },
     "execution_count": 12,
     "metadata": {},
     "output_type": "execute_result"
    }
   ],
   "source": [
    "df_treino.groupby(['SibSp']).size()"
   ]
  },
  {
   "cell_type": "code",
   "execution_count": 13,
   "id": "668300a3",
   "metadata": {
    "execution": {
     "iopub.execute_input": "2022-10-13T22:39:53.969459Z",
     "iopub.status.busy": "2022-10-13T22:39:53.969049Z",
     "iopub.status.idle": "2022-10-13T22:39:53.976038Z",
     "shell.execute_reply": "2022-10-13T22:39:53.975277Z"
    },
    "papermill": {
     "duration": 0.042103,
     "end_time": "2022-10-13T22:39:53.978402",
     "exception": false,
     "start_time": "2022-10-13T22:39:53.936299",
     "status": "completed"
    },
    "tags": []
   },
   "outputs": [
    {
     "name": "stdout",
     "output_type": "stream",
     "text": [
      "30.98%\n"
     ]
    }
   ],
   "source": [
    "solo_sibSp = df_treino.groupby(['SibSp']).size()[1:-1].sum()\n",
    "percent_solo_sibSp = (solo_sibSp*100)/df_treino['SibSp'].count()\n",
    "print('{0:.2f}%'.format(percent_solo_sibSp))"
   ]
  },
  {
   "cell_type": "markdown",
   "id": "054cb3be",
   "metadata": {
    "papermill": {
     "duration": 0.03101,
     "end_time": "2022-10-13T22:39:54.041548",
     "exception": false,
     "start_time": "2022-10-13T22:39:54.010538",
     "status": "completed"
    },
    "tags": []
   },
   "source": [
    "- **As tarifas variaram significativamente com poucos passageiros (<1%) pagando até US$ 512.**"
   ]
  },
  {
   "cell_type": "code",
   "execution_count": 14,
   "id": "46afc999",
   "metadata": {
    "execution": {
     "iopub.execute_input": "2022-10-13T22:39:54.107568Z",
     "iopub.status.busy": "2022-10-13T22:39:54.106836Z",
     "iopub.status.idle": "2022-10-13T22:39:54.114206Z",
     "shell.execute_reply": "2022-10-13T22:39:54.113405Z"
    },
    "papermill": {
     "duration": 0.043029,
     "end_time": "2022-10-13T22:39:54.116248",
     "exception": false,
     "start_time": "2022-10-13T22:39:54.073219",
     "status": "completed"
    },
    "tags": []
   },
   "outputs": [
    {
     "data": {
      "text/plain": [
       "512.3292"
      ]
     },
     "execution_count": 14,
     "metadata": {},
     "output_type": "execute_result"
    }
   ],
   "source": [
    "df_treino['Fare'].quantile(1)"
   ]
  },
  {
   "cell_type": "code",
   "execution_count": 15,
   "id": "e61ce3f7",
   "metadata": {
    "execution": {
     "iopub.execute_input": "2022-10-13T22:39:54.181721Z",
     "iopub.status.busy": "2022-10-13T22:39:54.181041Z",
     "iopub.status.idle": "2022-10-13T22:39:54.439365Z",
     "shell.execute_reply": "2022-10-13T22:39:54.438437Z"
    },
    "papermill": {
     "duration": 0.293601,
     "end_time": "2022-10-13T22:39:54.441808",
     "exception": false,
     "start_time": "2022-10-13T22:39:54.148207",
     "status": "completed"
    },
    "tags": []
   },
   "outputs": [
    {
     "data": {
      "text/plain": [
       "<AxesSubplot:ylabel='Frequency'>"
      ]
     },
     "execution_count": 15,
     "metadata": {},
     "output_type": "execute_result"
    },
    {
     "data": {
      "image/png": "[encoded data removed]",
      "text/plain": [
       "<Figure size 432x288 with 1 Axes>"
      ]
     },
     "metadata": {
      "needs_background": "light"
     },
     "output_type": "display_data"
    }
   ],
   "source": [
    "df_treino['Fare'].plot(kind='hist')"
   ]
  },
  {
   "cell_type": "markdown",
   "id": "e909079f",
   "metadata": {
    "papermill": {
     "duration": 0.032185,
     "end_time": "2022-10-13T22:39:54.506192",
     "exception": false,
     "start_time": "2022-10-13T22:39:54.474007",
     "status": "completed"
    },
    "tags": []
   },
   "source": [
    "- **Poucos passageiros idosos (<1%) na faixa etária de 65 a 80 anos.**"
   ]
  },
  {
   "cell_type": "code",
   "execution_count": 16,
   "id": "40da812f",
   "metadata": {
    "execution": {
     "iopub.execute_input": "2022-10-13T22:39:54.572005Z",
     "iopub.status.busy": "2022-10-13T22:39:54.571563Z",
     "iopub.status.idle": "2022-10-13T22:39:54.583845Z",
     "shell.execute_reply": "2022-10-13T22:39:54.582738Z"
    },
    "papermill": {
     "duration": 0.047805,
     "end_time": "2022-10-13T22:39:54.586091",
     "exception": false,
     "start_time": "2022-10-13T22:39:54.538286",
     "status": "completed"
    },
    "tags": []
   },
   "outputs": [
    {
     "name": "stdout",
     "output_type": "stream",
     "text": [
      "0.67%\n"
     ]
    }
   ],
   "source": [
    "ages = df_treino.groupby(['Age']).size().reset_index(name='qtd').copy()\n",
    "\n",
    "#numero de pessoas acima de 65 anos\n",
    "n_pessoas = ages.loc[ages['Age'] > 65]['qtd'].count()\n",
    "\n",
    "print('{0:.2f}%'.format((n_pessoas*100)/df_treino.shape[0]))"
   ]
  },
  {
   "cell_type": "code",
   "execution_count": 17,
   "id": "31db7bfd",
   "metadata": {
    "execution": {
     "iopub.execute_input": "2022-10-13T22:39:54.652853Z",
     "iopub.status.busy": "2022-10-13T22:39:54.651607Z",
     "iopub.status.idle": "2022-10-13T22:39:54.660607Z",
     "shell.execute_reply": "2022-10-13T22:39:54.659739Z"
    },
    "papermill": {
     "duration": 0.044652,
     "end_time": "2022-10-13T22:39:54.662808",
     "exception": false,
     "start_time": "2022-10-13T22:39:54.618156",
     "status": "completed"
    },
    "tags": []
   },
   "outputs": [
    {
     "data": {
      "text/plain": [
       "80.0"
      ]
     },
     "execution_count": 17,
     "metadata": {},
     "output_type": "execute_result"
    }
   ],
   "source": [
    "df_treino['Age'].quantile(1)"
   ]
  },
  {
   "cell_type": "code",
   "execution_count": 18,
   "id": "1b64b232",
   "metadata": {
    "execution": {
     "iopub.execute_input": "2022-10-13T22:39:54.729934Z",
     "iopub.status.busy": "2022-10-13T22:39:54.728720Z",
     "iopub.status.idle": "2022-10-13T22:39:54.949735Z",
     "shell.execute_reply": "2022-10-13T22:39:54.948887Z"
    },
    "papermill": {
     "duration": 0.257127,
     "end_time": "2022-10-13T22:39:54.951959",
     "exception": false,
     "start_time": "2022-10-13T22:39:54.694832",
     "status": "completed"
    },
    "tags": []
   },
   "outputs": [
    {
     "data": {
      "text/plain": [
       "<AxesSubplot:ylabel='Frequency'>"
      ]
     },
     "execution_count": 18,
     "metadata": {},
     "output_type": "execute_result"
    },
    {
     "data": {
      "image/png": "[encoded data removed]",
      "text/plain": [
       "<Figure size 432x288 with 1 Axes>"
      ]
     },
     "metadata": {
      "needs_background": "light"
     },
     "output_type": "display_data"
    }
   ],
   "source": [
    "df_treino['Age'].plot(kind='hist')"
   ]
  },
  {
   "cell_type": "markdown",
   "id": "8b4ac6ab",
   "metadata": {
    "_cell_guid": "5462bc60-258c-76bf-0a73-9adc00a2f493",
    "_uuid": "33bbd1709db622978c0c5879e7c5532d4734ade0",
    "papermill": {
     "duration": 0.032423,
     "end_time": "2022-10-13T22:39:55.018188",
     "exception": false,
     "start_time": "2022-10-13T22:39:54.985765",
     "status": "completed"
    },
    "tags": []
   },
   "source": [
    "#### **Qual é a distribuição de variáveis categóricos?**\n",
    "\n",
    "Isso nos ajuda a determinar, entre outros insights iniciais, quão representativo é o conjunto de dados de treinamento do domínio real do problema das variáveis categóricas."
   ]
  },
  {
   "cell_type": "code",
   "execution_count": 19,
   "id": "11398eb9",
   "metadata": {
    "execution": {
     "iopub.execute_input": "2022-10-13T22:39:55.086589Z",
     "iopub.status.busy": "2022-10-13T22:39:55.085928Z",
     "iopub.status.idle": "2022-10-13T22:39:55.098965Z",
     "shell.execute_reply": "2022-10-13T22:39:55.097775Z"
    },
    "papermill": {
     "duration": 0.050722,
     "end_time": "2022-10-13T22:39:55.101467",
     "exception": false,
     "start_time": "2022-10-13T22:39:55.050745",
     "status": "completed"
    },
    "tags": []
   },
   "outputs": [
    {
     "name": "stdout",
     "output_type": "stream",
     "text": [
      "<class 'pandas.core.frame.DataFrame'>\n",
      "RangeIndex: 891 entries, 0 to 890\n",
      "Data columns (total 12 columns):\n",
      " #   Column       Non-Null Count  Dtype  \n",
      "---  ------       --------------  -----  \n",
      " 0   PassengerId  891 non-null    int64  \n",
      " 1   Survived     891 non-null    int64  \n",
      " 2   Pclass       891 non-null    int64  \n",
      " 3   Name         891 non-null    object \n",
      " 4   Sex          891 non-null    object \n",
      " 5   Age          714 non-null    float64\n",
      " 6   SibSp        891 non-null    int64  \n",
      " 7   Parch        891 non-null    int64  \n",
      " 8   Ticket       891 non-null    object \n",
      " 9   Fare         891 non-null    float64\n",
      " 10  Cabin        204 non-null    object \n",
      " 11  Embarked     889 non-null    object \n",
      "dtypes: float64(2), int64(5), object(5)\n",
      "memory usage: 83.7+ KB\n"
     ]
    }
   ],
   "source": [
    "df_treino.info()"
   ]
  },
  {
   "cell_type": "code",
   "execution_count": 20,
   "id": "9f6eb6c2",
   "metadata": {
    "execution": {
     "iopub.execute_input": "2022-10-13T22:39:55.168550Z",
     "iopub.status.busy": "2022-10-13T22:39:55.168158Z",
     "iopub.status.idle": "2022-10-13T22:39:55.189703Z",
     "shell.execute_reply": "2022-10-13T22:39:55.188652Z"
    },
    "papermill": {
     "duration": 0.057769,
     "end_time": "2022-10-13T22:39:55.191971",
     "exception": false,
     "start_time": "2022-10-13T22:39:55.134202",
     "status": "completed"
    },
    "tags": []
   },
   "outputs": [
    {
     "data": {
      "text/html": [
       "<div>\n",
       "<style scoped>\n",
       "    .dataframe tbody tr th:only-of-type {\n",
       "        vertical-align: middle;\n",
       "    }\n",
       "\n",
       "    .dataframe tbody tr th {\n",
       "        vertical-align: top;\n",
       "    }\n",
       "\n",
       "    .dataframe thead th {\n",
       "        text-align: right;\n",
       "    }\n",
       "</style>\n",
       "<table border=\"1\" class=\"dataframe\">\n",
       "  <thead>\n",
       "    <tr style=\"text-align: right;\">\n",
       "      <th></th>\n",
       "      <th>Name</th>\n",
       "      <th>Sex</th>\n",
       "      <th>Ticket</th>\n",
       "      <th>Cabin</th>\n",
       "      <th>Embarked</th>\n",
       "    </tr>\n",
       "  </thead>\n",
       "  <tbody>\n",
       "    <tr>\n",
       "      <th>count</th>\n",
       "      <td>891</td>\n",
       "      <td>891</td>\n",
       "      <td>891</td>\n",
       "      <td>204</td>\n",
       "      <td>889</td>\n",
       "    </tr>\n",
       "    <tr>\n",
       "      <th>unique</th>\n",
       "      <td>891</td>\n",
       "      <td>2</td>\n",
       "      <td>681</td>\n",
       "      <td>147</td>\n",
       "      <td>3</td>\n",
       "    </tr>\n",
       "    <tr>\n",
       "      <th>top</th>\n",
       "      <td>Braund, Mr. Owen Harris</td>\n",
       "      <td>male</td>\n",
       "      <td>347082</td>\n",
       "      <td>B96 B98</td>\n",
       "      <td>S</td>\n",
       "    </tr>\n",
       "    <tr>\n",
       "      <th>freq</th>\n",
       "      <td>1</td>\n",
       "      <td>577</td>\n",
       "      <td>7</td>\n",
       "      <td>4</td>\n",
       "      <td>644</td>\n",
       "    </tr>\n",
       "  </tbody>\n",
       "</table>\n",
       "</div>"
      ],
      "text/plain": [
       "                           Name   Sex  Ticket    Cabin Embarked\n",
       "count                       891   891     891      204      889\n",
       "unique                      891     2     681      147        3\n",
       "top     Braund, Mr. Owen Harris  male  347082  B96 B98        S\n",
       "freq                          1   577       7        4      644"
      ]
     },
     "execution_count": 20,
     "metadata": {},
     "output_type": "execute_result"
    }
   ],
   "source": [
    "df_treino.describe(include=['O'])"
   ]
  },
  {
   "cell_type": "markdown",
   "id": "fddff92f",
   "metadata": {
    "papermill": {
     "duration": 0.032697,
     "end_time": "2022-10-13T22:39:55.257873",
     "exception": false,
     "start_time": "2022-10-13T22:39:55.225176",
     "status": "completed"
    },
    "tags": []
   },
   "source": [
    "- **Os nomes são exclusivos no conjunto de dados (count=unique=891)**"
   ]
  },
  {
   "cell_type": "code",
   "execution_count": 21,
   "id": "dd6b96d5",
   "metadata": {
    "execution": {
     "iopub.execute_input": "2022-10-13T22:39:55.325119Z",
     "iopub.status.busy": "2022-10-13T22:39:55.324721Z",
     "iopub.status.idle": "2022-10-13T22:39:55.331873Z",
     "shell.execute_reply": "2022-10-13T22:39:55.330896Z"
    },
    "papermill": {
     "duration": 0.043677,
     "end_time": "2022-10-13T22:39:55.334152",
     "exception": false,
     "start_time": "2022-10-13T22:39:55.290475",
     "status": "completed"
    },
    "tags": []
   },
   "outputs": [
    {
     "data": {
      "text/plain": [
       "891"
      ]
     },
     "execution_count": 21,
     "metadata": {},
     "output_type": "execute_result"
    }
   ],
   "source": [
    "len(df_treino['Name'].unique())"
   ]
  },
  {
   "cell_type": "markdown",
   "id": "8acc1502",
   "metadata": {
    "papermill": {
     "duration": 0.032222,
     "end_time": "2022-10-13T22:39:55.399209",
     "exception": false,
     "start_time": "2022-10-13T22:39:55.366987",
     "status": "completed"
    },
    "tags": []
   },
   "source": [
    "- **Listando sobrenomes exclusivos no conjunto de dados, são 667 possiveis familias**"
   ]
  },
  {
   "cell_type": "code",
   "execution_count": 22,
   "id": "f49637bc",
   "metadata": {
    "execution": {
     "iopub.execute_input": "2022-10-13T22:39:55.466889Z",
     "iopub.status.busy": "2022-10-13T22:39:55.466470Z",
     "iopub.status.idle": "2022-10-13T22:39:55.477642Z",
     "shell.execute_reply": "2022-10-13T22:39:55.476835Z"
    },
    "papermill": {
     "duration": 0.047502,
     "end_time": "2022-10-13T22:39:55.479649",
     "exception": false,
     "start_time": "2022-10-13T22:39:55.432147",
     "status": "completed"
    },
    "tags": []
   },
   "outputs": [],
   "source": [
    "#extrai sobrenomes dos passageiros, isso pode indicar laços familiares\n",
    "df_treino['Surname'] = df_treino['Name'].str.extract('(^.*(?=(\\,)))')[0]\n",
    "df_test['Surname'] = df_test['Name'].str.extract('(^.*(?=(\\,)))')[0]"
   ]
  },
  {
   "cell_type": "code",
   "execution_count": 23,
   "id": "6dbb2ac1",
   "metadata": {
    "execution": {
     "iopub.execute_input": "2022-10-13T22:39:55.549837Z",
     "iopub.status.busy": "2022-10-13T22:39:55.549375Z",
     "iopub.status.idle": "2022-10-13T22:39:55.561550Z",
     "shell.execute_reply": "2022-10-13T22:39:55.560473Z"
    },
    "papermill": {
     "duration": 0.050193,
     "end_time": "2022-10-13T22:39:55.563961",
     "exception": false,
     "start_time": "2022-10-13T22:39:55.513768",
     "status": "completed"
    },
    "tags": []
   },
   "outputs": [
    {
     "data": {
      "text/html": [
       "<div>\n",
       "<style scoped>\n",
       "    .dataframe tbody tr th:only-of-type {\n",
       "        vertical-align: middle;\n",
       "    }\n",
       "\n",
       "    .dataframe tbody tr th {\n",
       "        vertical-align: top;\n",
       "    }\n",
       "\n",
       "    .dataframe thead th {\n",
       "        text-align: right;\n",
       "    }\n",
       "</style>\n",
       "<table border=\"1\" class=\"dataframe\">\n",
       "  <thead>\n",
       "    <tr style=\"text-align: right;\">\n",
       "      <th></th>\n",
       "      <th>Name</th>\n",
       "      <th>Surname</th>\n",
       "    </tr>\n",
       "  </thead>\n",
       "  <tbody>\n",
       "    <tr>\n",
       "      <th>0</th>\n",
       "      <td>Braund, Mr. Owen Harris</td>\n",
       "      <td>Braund</td>\n",
       "    </tr>\n",
       "    <tr>\n",
       "      <th>1</th>\n",
       "      <td>Cumings, Mrs. John Bradley (Florence Briggs Th...</td>\n",
       "      <td>Cumings</td>\n",
       "    </tr>\n",
       "    <tr>\n",
       "      <th>2</th>\n",
       "      <td>Heikkinen, Miss. Laina</td>\n",
       "      <td>Heikkinen</td>\n",
       "    </tr>\n",
       "    <tr>\n",
       "      <th>3</th>\n",
       "      <td>Futrelle, Mrs. Jacques Heath (Lily May Peel)</td>\n",
       "      <td>Futrelle</td>\n",
       "    </tr>\n",
       "    <tr>\n",
       "      <th>4</th>\n",
       "      <td>Allen, Mr. William Henry</td>\n",
       "      <td>Allen</td>\n",
       "    </tr>\n",
       "  </tbody>\n",
       "</table>\n",
       "</div>"
      ],
      "text/plain": [
       "                                                Name    Surname\n",
       "0                            Braund, Mr. Owen Harris     Braund\n",
       "1  Cumings, Mrs. John Bradley (Florence Briggs Th...    Cumings\n",
       "2                             Heikkinen, Miss. Laina  Heikkinen\n",
       "3       Futrelle, Mrs. Jacques Heath (Lily May Peel)   Futrelle\n",
       "4                           Allen, Mr. William Henry      Allen"
      ]
     },
     "execution_count": 23,
     "metadata": {},
     "output_type": "execute_result"
    }
   ],
   "source": [
    "df_treino[['Name','Surname']].head()"
   ]
  },
  {
   "cell_type": "code",
   "execution_count": 24,
   "id": "03a04fc4",
   "metadata": {
    "execution": {
     "iopub.execute_input": "2022-10-13T22:39:55.633830Z",
     "iopub.status.busy": "2022-10-13T22:39:55.632953Z",
     "iopub.status.idle": "2022-10-13T22:39:55.641311Z",
     "shell.execute_reply": "2022-10-13T22:39:55.640158Z"
    },
    "papermill": {
     "duration": 0.045287,
     "end_time": "2022-10-13T22:39:55.643527",
     "exception": false,
     "start_time": "2022-10-13T22:39:55.598240",
     "status": "completed"
    },
    "tags": []
   },
   "outputs": [
    {
     "data": {
      "text/plain": [
       "667"
      ]
     },
     "execution_count": 24,
     "metadata": {},
     "output_type": "execute_result"
    }
   ],
   "source": [
    "len(df_treino['Surname'].unique())"
   ]
  },
  {
   "cell_type": "markdown",
   "id": "9af6ac05",
   "metadata": {
    "papermill": {
     "duration": 0.032728,
     "end_time": "2022-10-13T22:39:55.709257",
     "exception": false,
     "start_time": "2022-10-13T22:39:55.676529",
     "status": "completed"
    },
    "tags": []
   },
   "source": [
    "- **Variável sexo como dois valores possíveis com 65% masculino (top=masculino, freq=577/count=891).**"
   ]
  },
  {
   "cell_type": "code",
   "execution_count": 25,
   "id": "d82b9d18",
   "metadata": {
    "execution": {
     "iopub.execute_input": "2022-10-13T22:39:55.777641Z",
     "iopub.status.busy": "2022-10-13T22:39:55.776844Z",
     "iopub.status.idle": "2022-10-13T22:39:55.928113Z",
     "shell.execute_reply": "2022-10-13T22:39:55.927173Z"
    },
    "papermill": {
     "duration": 0.188019,
     "end_time": "2022-10-13T22:39:55.930324",
     "exception": false,
     "start_time": "2022-10-13T22:39:55.742305",
     "status": "completed"
    },
    "tags": []
   },
   "outputs": [
    {
     "data": {
      "image/png": "[encoded data removed]",
      "text/plain": [
       "<Figure size 360x216 with 1 Axes>"
      ]
     },
     "metadata": {
      "needs_background": "light"
     },
     "output_type": "display_data"
    }
   ],
   "source": [
    "plt.rcParams[\"figure.figsize\"] = (5,3)\n",
    "(df_treino['Sex'].value_counts(normalize=True)*100).plot(kind='bar')\n",
    "plt.show()"
   ]
  },
  {
   "cell_type": "markdown",
   "id": "4467f872",
   "metadata": {
    "papermill": {
     "duration": 0.033777,
     "end_time": "2022-10-13T22:39:55.998037",
     "exception": false,
     "start_time": "2022-10-13T22:39:55.964260",
     "status": "completed"
    },
    "tags": []
   },
   "source": [
    "- **Os valores de cabine têm duplicatas nas amostras e muitos valores nulos, o que pode indicar que vários passageiros compartilhavam uma cabines e que não temos dados suficientes sobre o total de cabines visto que apenas 204 passageiros foram contabilizados em cabines.**"
   ]
  },
  {
   "cell_type": "code",
   "execution_count": 26,
   "id": "e2253463",
   "metadata": {
    "execution": {
     "iopub.execute_input": "2022-10-13T22:39:56.068004Z",
     "iopub.status.busy": "2022-10-13T22:39:56.066811Z",
     "iopub.status.idle": "2022-10-13T22:39:56.074730Z",
     "shell.execute_reply": "2022-10-13T22:39:56.073737Z"
    },
    "papermill": {
     "duration": 0.045046,
     "end_time": "2022-10-13T22:39:56.076872",
     "exception": false,
     "start_time": "2022-10-13T22:39:56.031826",
     "status": "completed"
    },
    "tags": []
   },
   "outputs": [
    {
     "data": {
      "text/plain": [
       "148"
      ]
     },
     "execution_count": 26,
     "metadata": {},
     "output_type": "execute_result"
    }
   ],
   "source": [
    "len(df_treino['Cabin'].unique())"
   ]
  },
  {
   "cell_type": "code",
   "execution_count": 27,
   "id": "13f83f4e",
   "metadata": {
    "execution": {
     "iopub.execute_input": "2022-10-13T22:39:56.147856Z",
     "iopub.status.busy": "2022-10-13T22:39:56.147210Z",
     "iopub.status.idle": "2022-10-13T22:39:56.156232Z",
     "shell.execute_reply": "2022-10-13T22:39:56.155180Z"
    },
    "papermill": {
     "duration": 0.046486,
     "end_time": "2022-10-13T22:39:56.158395",
     "exception": false,
     "start_time": "2022-10-13T22:39:56.111909",
     "status": "completed"
    },
    "tags": []
   },
   "outputs": [
    {
     "data": {
      "text/plain": [
       "Cabin\n",
       "A10      1\n",
       "A14      1\n",
       "A16      1\n",
       "A19      1\n",
       "A20      1\n",
       "      ... \n",
       "F38      1\n",
       "F4       2\n",
       "G6       4\n",
       "T        1\n",
       "NaN    687\n",
       "Length: 148, dtype: int64"
      ]
     },
     "execution_count": 27,
     "metadata": {},
     "output_type": "execute_result"
    }
   ],
   "source": [
    "df_treino.groupby(['Cabin'], dropna=False).size()"
   ]
  },
  {
   "cell_type": "code",
   "execution_count": 28,
   "id": "6e43a571",
   "metadata": {
    "execution": {
     "iopub.execute_input": "2022-10-13T22:39:56.229216Z",
     "iopub.status.busy": "2022-10-13T22:39:56.228594Z",
     "iopub.status.idle": "2022-10-13T22:39:56.236617Z",
     "shell.execute_reply": "2022-10-13T22:39:56.235480Z"
    },
    "papermill": {
     "duration": 0.046431,
     "end_time": "2022-10-13T22:39:56.239097",
     "exception": false,
     "start_time": "2022-10-13T22:39:56.192666",
     "status": "completed"
    },
    "tags": []
   },
   "outputs": [
    {
     "data": {
      "text/plain": [
       "204"
      ]
     },
     "execution_count": 28,
     "metadata": {},
     "output_type": "execute_result"
    }
   ],
   "source": [
    "df_treino.groupby(['Cabin'], dropna=True).size().sum()"
   ]
  },
  {
   "cell_type": "markdown",
   "id": "d73339cd",
   "metadata": {
    "papermill": {
     "duration": 0.033683,
     "end_time": "2022-10-13T22:39:56.306636",
     "exception": false,
     "start_time": "2022-10-13T22:39:56.272953",
     "status": "completed"
    },
    "tags": []
   },
   "source": [
    "- **Embarcado assume três valores possíveis. Porto S usado pela maioria dos passageiros (topo=S)**"
   ]
  },
  {
   "cell_type": "code",
   "execution_count": 29,
   "id": "f93267fc",
   "metadata": {
    "_cell_guid": "8066b378-1964-92e8-1352-dcac934c6af3",
    "_uuid": "daa8663f577f9c1a478496cf14fe363570457191",
    "execution": {
     "iopub.execute_input": "2022-10-13T22:39:56.375937Z",
     "iopub.status.busy": "2022-10-13T22:39:56.375524Z",
     "iopub.status.idle": "2022-10-13T22:39:56.382647Z",
     "shell.execute_reply": "2022-10-13T22:39:56.381769Z"
    },
    "papermill": {
     "duration": 0.044436,
     "end_time": "2022-10-13T22:39:56.384702",
     "exception": false,
     "start_time": "2022-10-13T22:39:56.340266",
     "status": "completed"
    },
    "tags": []
   },
   "outputs": [
    {
     "data": {
      "text/plain": [
       "array(['S', 'C', 'Q', nan], dtype=object)"
      ]
     },
     "execution_count": 29,
     "metadata": {},
     "output_type": "execute_result"
    }
   ],
   "source": [
    "df_treino['Embarked'].unique()"
   ]
  },
  {
   "cell_type": "code",
   "execution_count": 30,
   "id": "966a5263",
   "metadata": {
    "execution": {
     "iopub.execute_input": "2022-10-13T22:39:56.453842Z",
     "iopub.status.busy": "2022-10-13T22:39:56.452879Z",
     "iopub.status.idle": "2022-10-13T22:39:56.461906Z",
     "shell.execute_reply": "2022-10-13T22:39:56.460856Z"
    },
    "papermill": {
     "duration": 0.045922,
     "end_time": "2022-10-13T22:39:56.464165",
     "exception": false,
     "start_time": "2022-10-13T22:39:56.418243",
     "status": "completed"
    },
    "tags": []
   },
   "outputs": [
    {
     "data": {
      "text/plain": [
       "Embarked\n",
       "C      168\n",
       "Q       77\n",
       "S      644\n",
       "NaN      2\n",
       "dtype: int64"
      ]
     },
     "execution_count": 30,
     "metadata": {},
     "output_type": "execute_result"
    }
   ],
   "source": [
    "df_treino.groupby(['Embarked'], dropna=False).size()"
   ]
  },
  {
   "cell_type": "markdown",
   "id": "240565ed",
   "metadata": {
    "papermill": {
     "duration": 0.033903,
     "end_time": "2022-10-13T22:39:56.533113",
     "exception": false,
     "start_time": "2022-10-13T22:39:56.499210",
     "status": "completed"
    },
    "tags": []
   },
   "source": [
    "- **O recurso Ticket possui alta proporção (22%) de valores duplicados (único=681).**"
   ]
  },
  {
   "cell_type": "code",
   "execution_count": 31,
   "id": "8a6b3dd6",
   "metadata": {
    "execution": {
     "iopub.execute_input": "2022-10-13T22:39:56.603766Z",
     "iopub.status.busy": "2022-10-13T22:39:56.603338Z",
     "iopub.status.idle": "2022-10-13T22:39:56.609932Z",
     "shell.execute_reply": "2022-10-13T22:39:56.609171Z"
    },
    "papermill": {
     "duration": 0.044392,
     "end_time": "2022-10-13T22:39:56.612046",
     "exception": false,
     "start_time": "2022-10-13T22:39:56.567654",
     "status": "completed"
    },
    "tags": []
   },
   "outputs": [
    {
     "data": {
      "text/plain": [
       "681"
      ]
     },
     "execution_count": 31,
     "metadata": {},
     "output_type": "execute_result"
    }
   ],
   "source": [
    "len(df_treino['Ticket'].unique())"
   ]
  },
  {
   "cell_type": "code",
   "execution_count": 32,
   "id": "a01ee876",
   "metadata": {
    "execution": {
     "iopub.execute_input": "2022-10-13T22:39:56.682791Z",
     "iopub.status.busy": "2022-10-13T22:39:56.682133Z",
     "iopub.status.idle": "2022-10-13T22:39:56.690844Z",
     "shell.execute_reply": "2022-10-13T22:39:56.690007Z"
    },
    "papermill": {
     "duration": 0.046836,
     "end_time": "2022-10-13T22:39:56.693077",
     "exception": false,
     "start_time": "2022-10-13T22:39:56.646241",
     "status": "completed"
    },
    "tags": []
   },
   "outputs": [
    {
     "data": {
      "text/plain": [
       "Ticket\n",
       "110152         3\n",
       "110413         3\n",
       "110465         2\n",
       "110564         1\n",
       "110813         1\n",
       "              ..\n",
       "W./C. 6608     4\n",
       "W./C. 6609     1\n",
       "W.E.P. 5734    1\n",
       "W/C 14208      1\n",
       "WE/P 5735      2\n",
       "Length: 681, dtype: int64"
      ]
     },
     "execution_count": 32,
     "metadata": {},
     "output_type": "execute_result"
    }
   ],
   "source": [
    "df_treino.groupby(['Ticket'], dropna=False).size()"
   ]
  },
  {
   "cell_type": "markdown",
   "id": "43481205",
   "metadata": {
    "_cell_guid": "2cb22b88-937d-6f14-8b06-ea3361357889",
    "_uuid": "c1d35ebd89a0cf7d7b409470bbb9ecaffd2a9680",
    "papermill": {
     "duration": 0.033902,
     "end_time": "2022-10-13T22:39:56.761063",
     "exception": false,
     "start_time": "2022-10-13T22:39:56.727161",
     "status": "completed"
    },
    "tags": []
   },
   "source": [
    "### Suposições baseadas na análise de dados\n",
    "\n",
    "Chegamos às seguintes suposições com base na análise de dados feita até agora. \n",
    "\n",
    "**Correlacionando.**\n",
    "\n",
    "Queremos saber quão bem cada variável se correlaciona com a Sobrevivência. Queremos fazer isso no início de nosso projeto e combinar essas correlações rápidas com correlações modeladas posteriormente no projeto.\n",
    "\n",
    "**Levantamento de possibilidades.**\n",
    "1. Podemos querer correlacionar a variável Age, pois está definitivamente correlacionado à sobrevivência.\n",
    "2. Podemos querer correlacionara variável Embarked, pois ele também pode estar relacionado à sobrevivência ou outro aspecto importante.\n",
    "3. O recurso Ticket pode ser descartado de nossa análise, pois contém uma alta proporção de duplicatas (22%) e pode não haver uma correlação entre Ticket e sobrevivência.\n",
    "4. O recurso Cabin pode ser descartado, pois é altamente incompleto ou contém muitos valores nulos no conjunto de dados de treinamento e teste.\n",
    "5. PassengerId pode ser descartado do conjunto de dados de treinamento, pois não contribui para a sobrevivência.\n",
    "\n",
    "\n",
    "\n",
    "**Criando.**\n",
    "1. Podemos querer criar um novo recurso chamado Família com base em Parch e SibSp para obter a contagem total de membros da família a bordo.\n",
    "2. O recurso de nome não é relevante por si só, mas o nome da familia (Surname) extraido da variável nome pode indicar laços familiares contribuindo assim para chance de sobrevivência\n",
    "3. Podemos querer criar um novo recurso para faixas etárias. Isso transforma um recurso numérico contínuo em um recurso categórico ordinal.\n",
    "4. Também podemos criar um recurso de faixa de tarifa se isso ajudar em nossa análise.\n",
    "\n",
    "\n",
    "**Classificando.**\n",
    "\n",
    "Também podemos adicionar nossas suposições com base na descrição do problema observada anteriormente.\n",
    "\n",
    "1. As mulheres (sexo=feminino) tinham maior probabilidade de sobreviver.\n",
    "2. As crianças (idade <?) tinham maior probabilidade de sobreviver.\n",
    "3. Os passageiros da classe alta (Pclass=1) tiveram maior probabilidade de sobreviver."
   ]
  },
  {
   "cell_type": "markdown",
   "id": "800bc9d7",
   "metadata": {
    "_cell_guid": "6db63a30-1d86-266e-2799-dded03c45816",
    "_uuid": "946ee6ca01a3e4eecfa373ca00f88042b683e2ad",
    "papermill": {
     "duration": 0.033785,
     "end_time": "2022-10-13T22:39:56.829110",
     "exception": false,
     "start_time": "2022-10-13T22:39:56.795325",
     "status": "completed"
    },
    "tags": []
   },
   "source": [
    "## Analise de variáveis\n",
    "\n",
    "Para confirmar algumas de nossas observações e suposições, podemos analisar rapidamente nossas correlações de variáveis, em torno de variáveis uma contra outras. Só podemos fazer isso neste estágio para variáveis que não possuem valores vazios. Também faz sentido fazê-lo apenas para variáveis do tipo categórico (Sex), ordinal (Pclass) ou discreto (SibSp, Parch).\n",
    "\n",
    "- **Pclass** Observamos correlação significativa (>0,5) entre Pclass=1 e Sobreviveu (classificação #3). Decidimos incluir esse recurso em nosso modelo.\n",
    "- **Sexo** Confirmamos a observação durante a definição do problema de que Sexo=feminino teve uma taxa de sobrevivência muito alta em 74% (classificação #1).\n",
    "- **SibSp e Parch** Esses recursos têm correlação zero para determinados valores. Pode ser melhor derivar um recurso ou um conjunto de recursos desses recursos individuais (criando #1)."
   ]
  },
  {
   "cell_type": "code",
   "execution_count": 33,
   "id": "d7569737",
   "metadata": {
    "_cell_guid": "0964832a-a4be-2d6f-a89e-63526389cee9",
    "_uuid": "97a845528ce9f76e85055a4bb9e97c27091f6aa1",
    "execution": {
     "iopub.execute_input": "2022-10-13T22:39:56.899389Z",
     "iopub.status.busy": "2022-10-13T22:39:56.898975Z",
     "iopub.status.idle": "2022-10-13T22:39:56.915578Z",
     "shell.execute_reply": "2022-10-13T22:39:56.914447Z"
    },
    "papermill": {
     "duration": 0.054692,
     "end_time": "2022-10-13T22:39:56.917846",
     "exception": false,
     "start_time": "2022-10-13T22:39:56.863154",
     "status": "completed"
    },
    "tags": []
   },
   "outputs": [
    {
     "data": {
      "text/html": [
       "<div>\n",
       "<style scoped>\n",
       "    .dataframe tbody tr th:only-of-type {\n",
       "        vertical-align: middle;\n",
       "    }\n",
       "\n",
       "    .dataframe tbody tr th {\n",
       "        vertical-align: top;\n",
       "    }\n",
       "\n",
       "    .dataframe thead th {\n",
       "        text-align: right;\n",
       "    }\n",
       "</style>\n",
       "<table border=\"1\" class=\"dataframe\">\n",
       "  <thead>\n",
       "    <tr style=\"text-align: right;\">\n",
       "      <th></th>\n",
       "      <th>Pclass</th>\n",
       "      <th>Survived</th>\n",
       "    </tr>\n",
       "  </thead>\n",
       "  <tbody>\n",
       "    <tr>\n",
       "      <th>0</th>\n",
       "      <td>1</td>\n",
       "      <td>0.629630</td>\n",
       "    </tr>\n",
       "    <tr>\n",
       "      <th>1</th>\n",
       "      <td>2</td>\n",
       "      <td>0.472826</td>\n",
       "    </tr>\n",
       "    <tr>\n",
       "      <th>2</th>\n",
       "      <td>3</td>\n",
       "      <td>0.242363</td>\n",
       "    </tr>\n",
       "  </tbody>\n",
       "</table>\n",
       "</div>"
      ],
      "text/plain": [
       "   Pclass  Survived\n",
       "0       1  0.629630\n",
       "1       2  0.472826\n",
       "2       3  0.242363"
      ]
     },
     "execution_count": 33,
     "metadata": {},
     "output_type": "execute_result"
    }
   ],
   "source": [
    "df_treino[['Pclass', 'Survived']].groupby(['Pclass'], as_index=False).mean().sort_values(by='Survived', ascending=False)"
   ]
  },
  {
   "cell_type": "code",
   "execution_count": 34,
   "id": "a7d33a60",
   "metadata": {
    "_cell_guid": "68908ba6-bfe9-5b31-cfde-6987fc0fbe9a",
    "_uuid": "00a2f2bca094c5984e6a232c730c8b232e7e20bb",
    "execution": {
     "iopub.execute_input": "2022-10-13T22:39:56.988830Z",
     "iopub.status.busy": "2022-10-13T22:39:56.988390Z",
     "iopub.status.idle": "2022-10-13T22:39:57.004303Z",
     "shell.execute_reply": "2022-10-13T22:39:57.003321Z"
    },
    "papermill": {
     "duration": 0.05433,
     "end_time": "2022-10-13T22:39:57.006580",
     "exception": false,
     "start_time": "2022-10-13T22:39:56.952250",
     "status": "completed"
    },
    "tags": []
   },
   "outputs": [
    {
     "data": {
      "text/html": [
       "<div>\n",
       "<style scoped>\n",
       "    .dataframe tbody tr th:only-of-type {\n",
       "        vertical-align: middle;\n",
       "    }\n",
       "\n",
       "    .dataframe tbody tr th {\n",
       "        vertical-align: top;\n",
       "    }\n",
       "\n",
       "    .dataframe thead th {\n",
       "        text-align: right;\n",
       "    }\n",
       "</style>\n",
       "<table border=\"1\" class=\"dataframe\">\n",
       "  <thead>\n",
       "    <tr style=\"text-align: right;\">\n",
       "      <th></th>\n",
       "      <th>Sex</th>\n",
       "      <th>Survived</th>\n",
       "    </tr>\n",
       "  </thead>\n",
       "  <tbody>\n",
       "    <tr>\n",
       "      <th>0</th>\n",
       "      <td>female</td>\n",
       "      <td>0.742038</td>\n",
       "    </tr>\n",
       "    <tr>\n",
       "      <th>1</th>\n",
       "      <td>male</td>\n",
       "      <td>0.188908</td>\n",
       "    </tr>\n",
       "  </tbody>\n",
       "</table>\n",
       "</div>"
      ],
      "text/plain": [
       "      Sex  Survived\n",
       "0  female  0.742038\n",
       "1    male  0.188908"
      ]
     },
     "execution_count": 34,
     "metadata": {},
     "output_type": "execute_result"
    }
   ],
   "source": [
    "df_treino[[\"Sex\", \"Survived\"]].groupby(['Sex'], as_index=False).mean().sort_values(by='Survived', ascending=False)"
   ]
  },
  {
   "cell_type": "code",
   "execution_count": 35,
   "id": "f803c33d",
   "metadata": {
    "_cell_guid": "01c06927-c5a6-342a-5aa8-2e486ec3fd7c",
    "_uuid": "a8f7a16c54417dcd86fc48aeef0c4b240d47d71b",
    "execution": {
     "iopub.execute_input": "2022-10-13T22:39:57.078428Z",
     "iopub.status.busy": "2022-10-13T22:39:57.078044Z",
     "iopub.status.idle": "2022-10-13T22:39:57.092850Z",
     "shell.execute_reply": "2022-10-13T22:39:57.091914Z"
    },
    "papermill": {
     "duration": 0.053209,
     "end_time": "2022-10-13T22:39:57.095223",
     "exception": false,
     "start_time": "2022-10-13T22:39:57.042014",
     "status": "completed"
    },
    "tags": []
   },
   "outputs": [
    {
     "data": {
      "text/html": [
       "<div>\n",
       "<style scoped>\n",
       "    .dataframe tbody tr th:only-of-type {\n",
       "        vertical-align: middle;\n",
       "    }\n",
       "\n",
       "    .dataframe tbody tr th {\n",
       "        vertical-align: top;\n",
       "    }\n",
       "\n",
       "    .dataframe thead th {\n",
       "        text-align: right;\n",
       "    }\n",
       "</style>\n",
       "<table border=\"1\" class=\"dataframe\">\n",
       "  <thead>\n",
       "    <tr style=\"text-align: right;\">\n",
       "      <th></th>\n",
       "      <th>SibSp</th>\n",
       "      <th>Survived</th>\n",
       "    </tr>\n",
       "  </thead>\n",
       "  <tbody>\n",
       "    <tr>\n",
       "      <th>1</th>\n",
       "      <td>1</td>\n",
       "      <td>0.535885</td>\n",
       "    </tr>\n",
       "    <tr>\n",
       "      <th>2</th>\n",
       "      <td>2</td>\n",
       "      <td>0.464286</td>\n",
       "    </tr>\n",
       "    <tr>\n",
       "      <th>0</th>\n",
       "      <td>0</td>\n",
       "      <td>0.345395</td>\n",
       "    </tr>\n",
       "    <tr>\n",
       "      <th>3</th>\n",
       "      <td>3</td>\n",
       "      <td>0.250000</td>\n",
       "    </tr>\n",
       "    <tr>\n",
       "      <th>4</th>\n",
       "      <td>4</td>\n",
       "      <td>0.166667</td>\n",
       "    </tr>\n",
       "    <tr>\n",
       "      <th>5</th>\n",
       "      <td>5</td>\n",
       "      <td>0.000000</td>\n",
       "    </tr>\n",
       "    <tr>\n",
       "      <th>6</th>\n",
       "      <td>8</td>\n",
       "      <td>0.000000</td>\n",
       "    </tr>\n",
       "  </tbody>\n",
       "</table>\n",
       "</div>"
      ],
      "text/plain": [
       "   SibSp  Survived\n",
       "1      1  0.535885\n",
       "2      2  0.464286\n",
       "0      0  0.345395\n",
       "3      3  0.250000\n",
       "4      4  0.166667\n",
       "5      5  0.000000\n",
       "6      8  0.000000"
      ]
     },
     "execution_count": 35,
     "metadata": {},
     "output_type": "execute_result"
    }
   ],
   "source": [
    "df_treino[[\"SibSp\", \"Survived\"]].groupby(['SibSp'], as_index=False).mean().sort_values(by='Survived', ascending=False)"
   ]
  },
  {
   "cell_type": "code",
   "execution_count": 36,
   "id": "b4492a7d",
   "metadata": {
    "_cell_guid": "e686f98b-a8c9-68f8-36a4-d4598638bbd5",
    "_uuid": "5d953a6779b00b7f3794757dec8744a03162c8fd",
    "execution": {
     "iopub.execute_input": "2022-10-13T22:39:57.166242Z",
     "iopub.status.busy": "2022-10-13T22:39:57.165813Z",
     "iopub.status.idle": "2022-10-13T22:39:57.181019Z",
     "shell.execute_reply": "2022-10-13T22:39:57.179961Z"
    },
    "papermill": {
     "duration": 0.05309,
     "end_time": "2022-10-13T22:39:57.183169",
     "exception": false,
     "start_time": "2022-10-13T22:39:57.130079",
     "status": "completed"
    },
    "tags": []
   },
   "outputs": [
    {
     "data": {
      "text/html": [
       "<div>\n",
       "<style scoped>\n",
       "    .dataframe tbody tr th:only-of-type {\n",
       "        vertical-align: middle;\n",
       "    }\n",
       "\n",
       "    .dataframe tbody tr th {\n",
       "        vertical-align: top;\n",
       "    }\n",
       "\n",
       "    .dataframe thead th {\n",
       "        text-align: right;\n",
       "    }\n",
       "</style>\n",
       "<table border=\"1\" class=\"dataframe\">\n",
       "  <thead>\n",
       "    <tr style=\"text-align: right;\">\n",
       "      <th></th>\n",
       "      <th>Parch</th>\n",
       "      <th>Survived</th>\n",
       "    </tr>\n",
       "  </thead>\n",
       "  <tbody>\n",
       "    <tr>\n",
       "      <th>3</th>\n",
       "      <td>3</td>\n",
       "      <td>0.600000</td>\n",
       "    </tr>\n",
       "    <tr>\n",
       "      <th>1</th>\n",
       "      <td>1</td>\n",
       "      <td>0.550847</td>\n",
       "    </tr>\n",
       "    <tr>\n",
       "      <th>2</th>\n",
       "      <td>2</td>\n",
       "      <td>0.500000</td>\n",
       "    </tr>\n",
       "    <tr>\n",
       "      <th>0</th>\n",
       "      <td>0</td>\n",
       "      <td>0.343658</td>\n",
       "    </tr>\n",
       "    <tr>\n",
       "      <th>5</th>\n",
       "      <td>5</td>\n",
       "      <td>0.200000</td>\n",
       "    </tr>\n",
       "    <tr>\n",
       "      <th>4</th>\n",
       "      <td>4</td>\n",
       "      <td>0.000000</td>\n",
       "    </tr>\n",
       "    <tr>\n",
       "      <th>6</th>\n",
       "      <td>6</td>\n",
       "      <td>0.000000</td>\n",
       "    </tr>\n",
       "  </tbody>\n",
       "</table>\n",
       "</div>"
      ],
      "text/plain": [
       "   Parch  Survived\n",
       "3      3  0.600000\n",
       "1      1  0.550847\n",
       "2      2  0.500000\n",
       "0      0  0.343658\n",
       "5      5  0.200000\n",
       "4      4  0.000000\n",
       "6      6  0.000000"
      ]
     },
     "execution_count": 36,
     "metadata": {},
     "output_type": "execute_result"
    }
   ],
   "source": [
    "df_treino[[\"Parch\", \"Survived\"]].groupby(['Parch'], as_index=False).mean().sort_values(by='Survived', ascending=False)"
   ]
  },
  {
   "cell_type": "markdown",
   "id": "98a7291c",
   "metadata": {
    "_cell_guid": "0d43550e-9eff-3859-3568-8856570eff76",
    "_uuid": "5c6204d01f5a9040cf0bb7c678686ae48daa201f",
    "papermill": {
     "duration": 0.034329,
     "end_time": "2022-10-13T22:39:57.252307",
     "exception": false,
     "start_time": "2022-10-13T22:39:57.217978",
     "status": "completed"
    },
    "tags": []
   },
   "source": [
    "## Analise visualizando dados\n",
    "\n",
    "Agora podemos continuar confirmando algumas de nossas suposições usando visualizações para analisar os dados.\n",
    "\n",
    "### Correlacionando recursos numéricos\n",
    "\n",
    "Vamos começar entendendo as correlações entre as variáveis numéricas e nossa variável de alvo (Survived).\n",
    "\n",
    "Um gráfico de histograma é útil para analisar variáveis ​​numéricas contínuas, como Idade, em que faixas ou intervalos ajudarão a identificar padrões úteis. O histograma pode indicar a distribuição de amostras usando bins definidos automaticamente ou bandas com intervalos iguais. Isso nos ajuda a responder perguntas relacionadas a faixas específicas (os bebês tiveram melhor taxa de sobrevivência?)\n",
    "\n",
    "Observe que o eixo x em visualizações de histograma representa a contagem de amostras ou passageiros.\n",
    "\n",
    "**Observações.**\n",
    "\n",
    "- Crianças (idade <=4) tiveram alta taxa de sobrevida.\n",
    "- Os passageiros mais velhos (idade = 80) sobreviveram.\n",
    "- Grande número de jovens de 15 a 25 anos não sobreviveu.\n",
    "- A maioria dos passageiros está na faixa etária de 15 a 35 anos.\n",
    "\n",
    "**Decisões.**\n",
    "\n",
    "Essa análise simples confirma nossas suposições como decisões para os estágios subsequentes do fluxo de trabalho.\n",
    "\n",
    "- Devemos considerar Idade (nossa suposição classificando #2) em nosso treinamento de modelo.\n",
    "- Completar a variável Idade para valores nulos (completando #1).\n",
    "- Devemos agrupar faixas etárias (criando #3)."
   ]
  },
  {
   "cell_type": "code",
   "execution_count": 37,
   "id": "91aea26e",
   "metadata": {
    "_cell_guid": "50294eac-263a-af78-cb7e-3778eb9ad41f",
    "_uuid": "d3a1fa63e9dd4f8a810086530a6363c94b36d030",
    "execution": {
     "iopub.execute_input": "2022-10-13T22:39:57.324392Z",
     "iopub.status.busy": "2022-10-13T22:39:57.323235Z",
     "iopub.status.idle": "2022-10-13T22:39:57.846335Z",
     "shell.execute_reply": "2022-10-13T22:39:57.845114Z"
    },
    "papermill": {
     "duration": 0.561847,
     "end_time": "2022-10-13T22:39:57.848833",
     "exception": false,
     "start_time": "2022-10-13T22:39:57.286986",
     "status": "completed"
    },
    "tags": []
   },
   "outputs": [
    {
     "data": {
      "text/plain": [
       "<seaborn.axisgrid.FacetGrid at 0x7f179440df10>"
      ]
     },
     "execution_count": 37,
     "metadata": {},
     "output_type": "execute_result"
    },
    {
     "data": {
      "image/png": "[encoded data removed]",
      "text/plain": [
       "<Figure size 432x216 with 2 Axes>"
      ]
     },
     "metadata": {
      "needs_background": "light"
     },
     "output_type": "display_data"
    }
   ],
   "source": [
    "plt.rcParams[\"figure.figsize\"] = (8,4)\n",
    "g = sns.FacetGrid(df_treino, col='Survived')\n",
    "g.map(plt.hist, 'Age', bins=40)"
   ]
  },
  {
   "cell_type": "markdown",
   "id": "b5653679",
   "metadata": {
    "_cell_guid": "87096158-4017-9213-7225-a19aea67a800",
    "_uuid": "892259f68c2ecf64fd258965cff1ecfe77dd73a9",
    "papermill": {
     "duration": 0.035624,
     "end_time": "2022-10-13T22:39:57.919822",
     "exception": false,
     "start_time": "2022-10-13T22:39:57.884198",
     "status": "completed"
    },
    "tags": []
   },
   "source": [
    "### Correlacionando variáveis numéricas e ordinais\n",
    "\n",
    "Podemos combinar várias variáveis para identificar correlações usando um único gráfico. Isso pode ser feito com variáveis numéricas e categóricas que possuem valores numéricos.\n",
    "\n",
    "**Observações.**\n",
    "\n",
    "- Pclass=3 teve mais passageiros, porém a maioria não sobreviveu. Confirma nossa suposição de classificação #2.\n",
    "- Passageiros infantis em Pclass=2 e Pclass=3 sobreviveram principalmente. Qualifica ainda mais nossa suposição de classificação #2.\n",
    "- A maioria dos passageiros em Pclass=1 sobreviveu. Confirma nossa suposição de classificação #3.\n",
    "- A Pclass varia em função da distribuição etária dos passageiros.\n",
    "\n",
    "**Decisões.**\n",
    "- Considere o Pclass para treinamento de modelo."
   ]
  },
  {
   "cell_type": "code",
   "execution_count": 38,
   "id": "abf54e9d",
   "metadata": {
    "_cell_guid": "916fdc6b-0190-9267-1ea9-907a3d87330d",
    "_uuid": "4f5bcfa97c8a72f8b413c786954f3a68e135e05a",
    "execution": {
     "iopub.execute_input": "2022-10-13T22:39:57.993109Z",
     "iopub.status.busy": "2022-10-13T22:39:57.992429Z",
     "iopub.status.idle": "2022-10-13T22:39:59.389931Z",
     "shell.execute_reply": "2022-10-13T22:39:59.388717Z"
    },
    "papermill": {
     "duration": 1.437645,
     "end_time": "2022-10-13T22:39:59.392421",
     "exception": false,
     "start_time": "2022-10-13T22:39:57.954776",
     "status": "completed"
    },
    "tags": []
   },
   "outputs": [
    {
     "name": "stderr",
     "output_type": "stream",
     "text": [
      "/opt/conda/lib/python3.7/site-packages/seaborn/axisgrid.py:337: UserWarning: The `size` parameter has been renamed to `height`; please update your code.\n",
      "  warnings.warn(msg, UserWarning)\n"
     ]
    },
    {
     "data": {
      "image/png": "[encoded data removed]",
      "text/plain": [
       "<Figure size 514.88x475.2 with 6 Axes>"
      ]
     },
     "metadata": {
      "needs_background": "light"
     },
     "output_type": "display_data"
    }
   ],
   "source": [
    "# grid = sns.FacetGrid(train_df, col='Pclass', hue='Survived')\n",
    "grid = sns.FacetGrid(df_treino, col='Survived', row='Pclass', size=2.2, aspect=1.6)\n",
    "grid.map(plt.hist, 'Age', alpha=.5, bins=20)\n",
    "grid.add_legend();"
   ]
  },
  {
   "cell_type": "code",
   "execution_count": null,
   "id": "a7f8395f",
   "metadata": {
    "papermill": {
     "duration": 0.034992,
     "end_time": "2022-10-13T22:39:59.462785",
     "exception": false,
     "start_time": "2022-10-13T22:39:59.427793",
     "status": "completed"
    },
    "tags": []
   },
   "outputs": [],
   "source": []
  },
  {
   "cell_type": "code",
   "execution_count": 39,
   "id": "9b1dad69",
   "metadata": {
    "execution": {
     "iopub.execute_input": "2022-10-13T22:39:59.536280Z",
     "iopub.status.busy": "2022-10-13T22:39:59.535490Z",
     "iopub.status.idle": "2022-10-13T22:39:59.543869Z",
     "shell.execute_reply": "2022-10-13T22:39:59.542827Z"
    },
    "papermill": {
     "duration": 0.048132,
     "end_time": "2022-10-13T22:39:59.546123",
     "exception": false,
     "start_time": "2022-10-13T22:39:59.497991",
     "status": "completed"
    },
    "tags": []
   },
   "outputs": [
    {
     "data": {
      "text/plain": [
       "172"
      ]
     },
     "execution_count": 39,
     "metadata": {},
     "output_type": "execute_result"
    }
   ],
   "source": [
    "len(df_treino[df_treino['Pclass']==1]['Surname'].unique())"
   ]
  },
  {
   "cell_type": "code",
   "execution_count": 40,
   "id": "c7d91dbe",
   "metadata": {
    "execution": {
     "iopub.execute_input": "2022-10-13T22:39:59.618789Z",
     "iopub.status.busy": "2022-10-13T22:39:59.618358Z",
     "iopub.status.idle": "2022-10-13T22:39:59.626776Z",
     "shell.execute_reply": "2022-10-13T22:39:59.625921Z"
    },
    "papermill": {
     "duration": 0.047236,
     "end_time": "2022-10-13T22:39:59.628825",
     "exception": false,
     "start_time": "2022-10-13T22:39:59.581589",
     "status": "completed"
    },
    "tags": []
   },
   "outputs": [
    {
     "data": {
      "text/plain": [
       "280"
      ]
     },
     "execution_count": 40,
     "metadata": {},
     "output_type": "execute_result"
    }
   ],
   "source": [
    "len(df_treino[df_treino['Survived']==1]['Surname'].unique())"
   ]
  },
  {
   "cell_type": "code",
   "execution_count": 41,
   "id": "5cde5d58",
   "metadata": {
    "execution": {
     "iopub.execute_input": "2022-10-13T22:39:59.701500Z",
     "iopub.status.busy": "2022-10-13T22:39:59.701111Z",
     "iopub.status.idle": "2022-10-13T22:39:59.708707Z",
     "shell.execute_reply": "2022-10-13T22:39:59.707561Z"
    },
    "papermill": {
     "duration": 0.046864,
     "end_time": "2022-10-13T22:39:59.711190",
     "exception": false,
     "start_time": "2022-10-13T22:39:59.664326",
     "status": "completed"
    },
    "tags": []
   },
   "outputs": [],
   "source": [
    "sobreviventes_sobrenomes = df_treino[df_treino['Survived']==1]['Surname'].unique()\n",
    "primeira_classe_sobrenomes = df_treino[df_treino['Pclass']==1]['Surname'].unique()"
   ]
  },
  {
   "cell_type": "code",
   "execution_count": 42,
   "id": "faa00035",
   "metadata": {
    "execution": {
     "iopub.execute_input": "2022-10-13T22:39:59.785440Z",
     "iopub.status.busy": "2022-10-13T22:39:59.785055Z",
     "iopub.status.idle": "2022-10-13T22:39:59.792574Z",
     "shell.execute_reply": "2022-10-13T22:39:59.791432Z"
    },
    "papermill": {
     "duration": 0.047116,
     "end_time": "2022-10-13T22:39:59.794845",
     "exception": false,
     "start_time": "2022-10-13T22:39:59.747729",
     "status": "completed"
    },
    "tags": []
   },
   "outputs": [],
   "source": [
    "sobreviventes_primeira_classe = [sobrevivente for sobrevivente in sobreviventes_sobrenomes\n",
    "                                 if sobrevivente in primeira_classe_sobrenomes]"
   ]
  },
  {
   "cell_type": "code",
   "execution_count": 43,
   "id": "50999eb7",
   "metadata": {
    "execution": {
     "iopub.execute_input": "2022-10-13T22:39:59.872313Z",
     "iopub.status.busy": "2022-10-13T22:39:59.871342Z",
     "iopub.status.idle": "2022-10-13T22:39:59.877230Z",
     "shell.execute_reply": "2022-10-13T22:39:59.876466Z"
    },
    "papermill": {
     "duration": 0.048849,
     "end_time": "2022-10-13T22:39:59.879344",
     "exception": false,
     "start_time": "2022-10-13T22:39:59.830495",
     "status": "completed"
    },
    "tags": []
   },
   "outputs": [
    {
     "data": {
      "text/plain": [
       "116"
      ]
     },
     "execution_count": 43,
     "metadata": {},
     "output_type": "execute_result"
    }
   ],
   "source": [
    "len(sobreviventes_primeira_classe)"
   ]
  },
  {
   "cell_type": "markdown",
   "id": "29d1cacc",
   "metadata": {
    "_cell_guid": "36f5a7c0-c55c-f76f-fdf8-945a32a68cb0",
    "_uuid": "892ab7ee88b1b1c5f1ac987884fa31e111bb0507",
    "papermill": {
     "duration": 0.035487,
     "end_time": "2022-10-13T22:39:59.951109",
     "exception": false,
     "start_time": "2022-10-13T22:39:59.915622",
     "status": "completed"
    },
    "tags": []
   },
   "source": [
    "### Correlacionando recursos categóricos\n",
    "\n",
    "Agora podemos correlacionar variáveis categóricas com nossa variável alvo.\n",
    "\n",
    "**Observações.**\n",
    "\n",
    "- Passageiros do sexo feminino tiveram taxa de sobrevivência muito melhor do que os do sexo masculino. Confirma a classificação.\n",
    "- Exceção em Embarcado=C onde os machos tiveram maior taxa de sobrevivência. Isso pode ser uma correlação entre Pclass e Embarcado e, por sua vez, Pclass e Sobrevivido, não necessariamente uma correlação direta entre Embarcado e Sobrevivido.\n",
    "- Os machos tiveram melhor sobrevida em Pclass=3 quando comparados com Pclass=2 para portas C e Q. Completando.\n",
    "- Os portos de embarque têm taxas de sobrevivência variadas para Pclass=3 e entre passageiros do sexo masculino. Correlacionando.\n",
    "- Sobrenomes também estão associados a laços familiares e primeiras classes, o que reforça a chance de sobrevivência\n",
    "\n",
    "**Decisões.**\n",
    "\n",
    "- Adicione a variável Sex ao treinamento do modelo.\n",
    "- Complete e adicione a variável Embarked ao treinamento do modelo.\n",
    "- Adicione a variável Surname ao treinamento do modelo"
   ]
  },
  {
   "cell_type": "code",
   "execution_count": 44,
   "id": "583db1c8",
   "metadata": {
    "_cell_guid": "db57aabd-0e26-9ff9-9ebd-56d401cdf6e8",
    "_uuid": "c0e1f01b3f58e8f31b938b0e5eb1733132edc8ad",
    "execution": {
     "iopub.execute_input": "2022-10-13T22:40:00.025110Z",
     "iopub.status.busy": "2022-10-13T22:40:00.024676Z",
     "iopub.status.idle": "2022-10-13T22:40:01.318613Z",
     "shell.execute_reply": "2022-10-13T22:40:01.317507Z"
    },
    "papermill": {
     "duration": 1.333984,
     "end_time": "2022-10-13T22:40:01.321027",
     "exception": false,
     "start_time": "2022-10-13T22:39:59.987043",
     "status": "completed"
    },
    "tags": []
   },
   "outputs": [
    {
     "data": {
      "text/plain": [
       "<seaborn.axisgrid.FacetGrid at 0x7f1793e4d5d0>"
      ]
     },
     "execution_count": 44,
     "metadata": {},
     "output_type": "execute_result"
    },
    {
     "data": {
      "image/png": "[encoded data removed]",
      "text/plain": [
       "<Figure size 323.94x475.2 with 3 Axes>"
      ]
     },
     "metadata": {
      "needs_background": "light"
     },
     "output_type": "display_data"
    }
   ],
   "source": [
    "grid = sns.FacetGrid(df_treino, row='Embarked', height=2.2, aspect=1.6)\n",
    "grid.map(sns.pointplot, \n",
    "         'Pclass', 'Survived', 'Sex', \n",
    "         palette='deep', order=[1, 2, 3], hue_order=[\"male\", \"female\"])\n",
    "grid.add_legend()"
   ]
  },
  {
   "cell_type": "markdown",
   "id": "d5481c30",
   "metadata": {
    "_cell_guid": "6b3f73f4-4600-c1ce-34e0-bd7d9eeb074a",
    "_uuid": "fd824f937dcb80edd4117a2927cc0d7f99d934b8",
    "papermill": {
     "duration": 0.036418,
     "end_time": "2022-10-13T22:40:01.394407",
     "exception": false,
     "start_time": "2022-10-13T22:40:01.357989",
     "status": "completed"
    },
    "tags": []
   },
   "source": [
    "### Correlacionando recursos categóricos e numéricos\n",
    "\n",
    "Também podemos querer correlacionar variáveis categóricas (com valores não numéricos) e variáveis numéricas. Podemos considerar correlacionar Embarked (Categoria não numérica), Sex (Categoria não numérica), Fare (Numérica contínua), com Sobrevivência (categórica numérica).\n",
    "\n",
    "**Observações.**\n",
    "\n",
    "- Passageiros pagantes de tarifas mais altas tiveram melhor sobrevivência. Confirma nossa suposição para criar faixas de tarifas.\n",
    "- O porto de embarque correlaciona-se com as taxas de sobrevivência. Confirma a correlação e a conclusão.\n",
    "\n",
    "**Decisões.**\n",
    "\n",
    "- Considere a variável Fare por faixas."
   ]
  },
  {
   "cell_type": "code",
   "execution_count": 45,
   "id": "32698d29",
   "metadata": {
    "_cell_guid": "a21f66ac-c30d-f429-cc64-1da5460d16a9",
    "_uuid": "c8fd535ac1bc90127369027c2101dbc939db118e",
    "execution": {
     "iopub.execute_input": "2022-10-13T22:40:01.469433Z",
     "iopub.status.busy": "2022-10-13T22:40:01.468995Z",
     "iopub.status.idle": "2022-10-13T22:40:02.427021Z",
     "shell.execute_reply": "2022-10-13T22:40:02.425776Z"
    },
    "papermill": {
     "duration": 0.998247,
     "end_time": "2022-10-13T22:40:02.429428",
     "exception": false,
     "start_time": "2022-10-13T22:40:01.431181",
     "status": "completed"
    },
    "tags": []
   },
   "outputs": [
    {
     "data": {
      "text/plain": [
       "<seaborn.axisgrid.FacetGrid at 0x7f1793d66590>"
      ]
     },
     "execution_count": 45,
     "metadata": {},
     "output_type": "execute_result"
    },
    {
     "data": {
      "image/png": "[encoded data removed]",
      "text/plain": [
       "<Figure size 514.88x475.2 with 6 Axes>"
      ]
     },
     "metadata": {
      "needs_background": "light"
     },
     "output_type": "display_data"
    }
   ],
   "source": [
    "# grid = sns.FacetGrid(train_df, col='Embarked', hue='Survived', palette={0: 'k', 1: 'w'})\n",
    "grid = sns.FacetGrid(df_treino, row='Embarked', col='Survived', height=2.2, aspect=1.6)\n",
    "grid.map(sns.barplot, 'Sex', 'Fare', alpha=.5, ci=None, order=[\"female\", \"male\"])\n",
    "grid.add_legend()"
   ]
  },
  {
   "cell_type": "markdown",
   "id": "93e5d6fa",
   "metadata": {
    "_cell_guid": "cfac6291-33cc-506e-e548-6cad9408623d",
    "_uuid": "73a9111a8dc2a6b8b6c78ef628b6cae2a63fc33f",
    "papermill": {
     "duration": 0.036122,
     "end_time": "2022-10-13T22:40:02.502400",
     "exception": false,
     "start_time": "2022-10-13T22:40:02.466278",
     "status": "completed"
    },
    "tags": []
   },
   "source": [
    "## Disputar dados\n",
    "\n",
    "Coletamos várias suposições e decisões sobre nossos conjuntos de dados e requisitos de solução. Até agora, não tivemos que alterar uma única variável ou valor para chegar a isso. Vamos agora executar nossas decisões e suposições para corrigir, criar e completar metas.\n",
    "\n",
    "### Corrigindo eliminando recursos\n",
    "\n",
    "Este é um bom objetivo inicial para executar. Ao descartar variáveis, estamos lidando com menos pontos de dados. Agiliza nosso notebook e facilita a análise.\n",
    "\n",
    "Com base em nossas suposições e decisões, queremos descartar as variáveis Cabin e Ticket.\n",
    "\n",
    "Observe que, quando aplicável, realizamos operações nos conjuntos de dados de treinamento e teste juntos para manter a consistência."
   ]
  },
  {
   "cell_type": "code",
   "execution_count": 46,
   "id": "3b0d7d94",
   "metadata": {
    "_cell_guid": "da057efe-88f0-bf49-917b-bb2fec418ed9",
    "_uuid": "e328d9882affedcfc4c167aa5bb1ac132547558c",
    "execution": {
     "iopub.execute_input": "2022-10-13T22:40:02.577773Z",
     "iopub.status.busy": "2022-10-13T22:40:02.577083Z",
     "iopub.status.idle": "2022-10-13T22:40:02.587464Z",
     "shell.execute_reply": "2022-10-13T22:40:02.586151Z"
    },
    "papermill": {
     "duration": 0.051318,
     "end_time": "2022-10-13T22:40:02.590199",
     "exception": false,
     "start_time": "2022-10-13T22:40:02.538881",
     "status": "completed"
    },
    "tags": []
   },
   "outputs": [
    {
     "name": "stdout",
     "output_type": "stream",
     "text": [
      "Antes (891, 13) (418, 12) (891, 13) (418, 12)\n",
      "Depois (891, 11) (418, 10) (891, 11) (418, 10)\n"
     ]
    }
   ],
   "source": [
    "print(\"Antes\", df_treino.shape, df_test.shape, datasets[0].shape, datasets[1].shape)\n",
    "\n",
    "df_treino = df_treino.drop(['Ticket', 'Cabin'], axis=1)\n",
    "df_test = df_test.drop(['Ticket', 'Cabin'], axis=1)\n",
    "datasets = [df_treino, df_test]\n",
    "\n",
    "print(\"Depois\", df_treino.shape, df_test.shape, datasets[0].shape, datasets[1].shape)"
   ]
  },
  {
   "cell_type": "markdown",
   "id": "1d3628fa",
   "metadata": {
    "_cell_guid": "6b3a1216-64b6-7fe2-50bc-e89cc964a41c",
    "_uuid": "21d5c47ee69f8fbef967f6f41d736b5d4eb6596f",
    "papermill": {
     "duration": 0.03628,
     "end_time": "2022-10-13T22:40:02.663771",
     "exception": false,
     "start_time": "2022-10-13T22:40:02.627491",
     "status": "completed"
    },
    "tags": []
   },
   "source": [
    "### Criando um novo recurso extraindo de um existente\n",
    "\n",
    "Queremos analisar se o recurso Name pode ser projetado para extrair sobrenomes e testar a correlação entre sobrenomes e sobrevivência, antes de descartar os recursos Name.\n",
    "\n",
    "No código a seguir, extraímos a variável sobrenome usando expressões regulares. O padrão RegEx `(\\w+\\.)` corresponde à primeira palavra que termina com um caractere de ponto dentro do recurso Nome. O sinalizador `expand=False` retorna um DataFrame.\n",
    "\n",
    "**Observações.**\n",
    "\n",
    "Quando plotamos Título, Idade e Sobreviveu, notamos as seguintes observações.\n",
    "\n",
    "- A maioria dos títulos banda faixas etárias com precisão. Por exemplo: Título de mestre tem média de idade de 5 anos.\n",
    "- A sobrevivência entre as faixas de idade do título varia um pouco.\n",
    "- Certos títulos sobreviveram principalmente (Mme, Lady, Sir) ou não (Don, Rev, Jonkheer).\n",
    "\n",
    "**Decisão.**\n",
    "\n",
    "- Decidimos manter o novo recurso de título para treinamento de modelo."
   ]
  },
  {
   "cell_type": "code",
   "execution_count": 47,
   "id": "55564623",
   "metadata": {
    "_cell_guid": "df7f0cd4-992c-4a79-fb19-bf6f0c024d4b",
    "_uuid": "c916644bd151f3dc8fca900f656d415b4c55e2bc",
    "execution": {
     "iopub.execute_input": "2022-10-13T22:40:02.738794Z",
     "iopub.status.busy": "2022-10-13T22:40:02.738357Z",
     "iopub.status.idle": "2022-10-13T22:40:02.766555Z",
     "shell.execute_reply": "2022-10-13T22:40:02.765430Z"
    },
    "papermill": {
     "duration": 0.068692,
     "end_time": "2022-10-13T22:40:02.768999",
     "exception": false,
     "start_time": "2022-10-13T22:40:02.700307",
     "status": "completed"
    },
    "tags": []
   },
   "outputs": [
    {
     "data": {
      "text/html": [
       "<div>\n",
       "<style scoped>\n",
       "    .dataframe tbody tr th:only-of-type {\n",
       "        vertical-align: middle;\n",
       "    }\n",
       "\n",
       "    .dataframe tbody tr th {\n",
       "        vertical-align: top;\n",
       "    }\n",
       "\n",
       "    .dataframe thead th {\n",
       "        text-align: right;\n",
       "    }\n",
       "</style>\n",
       "<table border=\"1\" class=\"dataframe\">\n",
       "  <thead>\n",
       "    <tr style=\"text-align: right;\">\n",
       "      <th>Sex</th>\n",
       "      <th>female</th>\n",
       "      <th>male</th>\n",
       "    </tr>\n",
       "    <tr>\n",
       "      <th>Title</th>\n",
       "      <th></th>\n",
       "      <th></th>\n",
       "    </tr>\n",
       "  </thead>\n",
       "  <tbody>\n",
       "    <tr>\n",
       "      <th>Capt</th>\n",
       "      <td>0</td>\n",
       "      <td>1</td>\n",
       "    </tr>\n",
       "    <tr>\n",
       "      <th>Col</th>\n",
       "      <td>0</td>\n",
       "      <td>2</td>\n",
       "    </tr>\n",
       "    <tr>\n",
       "      <th>Countess</th>\n",
       "      <td>1</td>\n",
       "      <td>0</td>\n",
       "    </tr>\n",
       "    <tr>\n",
       "      <th>Don</th>\n",
       "      <td>0</td>\n",
       "      <td>1</td>\n",
       "    </tr>\n",
       "    <tr>\n",
       "      <th>Dr</th>\n",
       "      <td>1</td>\n",
       "      <td>6</td>\n",
       "    </tr>\n",
       "    <tr>\n",
       "      <th>Jonkheer</th>\n",
       "      <td>0</td>\n",
       "      <td>1</td>\n",
       "    </tr>\n",
       "    <tr>\n",
       "      <th>Lady</th>\n",
       "      <td>1</td>\n",
       "      <td>0</td>\n",
       "    </tr>\n",
       "    <tr>\n",
       "      <th>Major</th>\n",
       "      <td>0</td>\n",
       "      <td>2</td>\n",
       "    </tr>\n",
       "    <tr>\n",
       "      <th>Master</th>\n",
       "      <td>0</td>\n",
       "      <td>40</td>\n",
       "    </tr>\n",
       "    <tr>\n",
       "      <th>Miss</th>\n",
       "      <td>182</td>\n",
       "      <td>0</td>\n",
       "    </tr>\n",
       "    <tr>\n",
       "      <th>Mlle</th>\n",
       "      <td>2</td>\n",
       "      <td>0</td>\n",
       "    </tr>\n",
       "    <tr>\n",
       "      <th>Mme</th>\n",
       "      <td>1</td>\n",
       "      <td>0</td>\n",
       "    </tr>\n",
       "    <tr>\n",
       "      <th>Mr</th>\n",
       "      <td>0</td>\n",
       "      <td>517</td>\n",
       "    </tr>\n",
       "    <tr>\n",
       "      <th>Mrs</th>\n",
       "      <td>125</td>\n",
       "      <td>0</td>\n",
       "    </tr>\n",
       "    <tr>\n",
       "      <th>Ms</th>\n",
       "      <td>1</td>\n",
       "      <td>0</td>\n",
       "    </tr>\n",
       "    <tr>\n",
       "      <th>Rev</th>\n",
       "      <td>0</td>\n",
       "      <td>6</td>\n",
       "    </tr>\n",
       "    <tr>\n",
       "      <th>Sir</th>\n",
       "      <td>0</td>\n",
       "      <td>1</td>\n",
       "    </tr>\n",
       "  </tbody>\n",
       "</table>\n",
       "</div>"
      ],
      "text/plain": [
       "Sex       female  male\n",
       "Title                 \n",
       "Capt           0     1\n",
       "Col            0     2\n",
       "Countess       1     0\n",
       "Don            0     1\n",
       "Dr             1     6\n",
       "Jonkheer       0     1\n",
       "Lady           1     0\n",
       "Major          0     2\n",
       "Master         0    40\n",
       "Miss         182     0\n",
       "Mlle           2     0\n",
       "Mme            1     0\n",
       "Mr             0   517\n",
       "Mrs          125     0\n",
       "Ms             1     0\n",
       "Rev            0     6\n",
       "Sir            0     1"
      ]
     },
     "execution_count": 47,
     "metadata": {},
     "output_type": "execute_result"
    }
   ],
   "source": [
    "for dataset in datasets:\n",
    "    dataset['Title'] = dataset.Name.str.extract(' ([A-Za-z]+)\\.', expand=False)\n",
    "\n",
    "pd.crosstab(df_treino['Title'], df_treino['Sex'])"
   ]
  },
  {
   "cell_type": "code",
   "execution_count": 48,
   "id": "71262f91",
   "metadata": {
    "execution": {
     "iopub.execute_input": "2022-10-13T22:40:02.845779Z",
     "iopub.status.busy": "2022-10-13T22:40:02.845077Z",
     "iopub.status.idle": "2022-10-13T22:40:02.870787Z",
     "shell.execute_reply": "2022-10-13T22:40:02.869440Z"
    },
    "papermill": {
     "duration": 0.068211,
     "end_time": "2022-10-13T22:40:02.874298",
     "exception": false,
     "start_time": "2022-10-13T22:40:02.806087",
     "status": "completed"
    },
    "tags": []
   },
   "outputs": [
    {
     "data": {
      "text/html": [
       "<div>\n",
       "<style scoped>\n",
       "    .dataframe tbody tr th:only-of-type {\n",
       "        vertical-align: middle;\n",
       "    }\n",
       "\n",
       "    .dataframe tbody tr th {\n",
       "        vertical-align: top;\n",
       "    }\n",
       "\n",
       "    .dataframe thead th {\n",
       "        text-align: right;\n",
       "    }\n",
       "</style>\n",
       "<table border=\"1\" class=\"dataframe\">\n",
       "  <thead>\n",
       "    <tr style=\"text-align: right;\">\n",
       "      <th></th>\n",
       "      <th>PassengerId</th>\n",
       "      <th>Survived</th>\n",
       "      <th>Pclass</th>\n",
       "      <th>Name</th>\n",
       "      <th>Sex</th>\n",
       "      <th>Age</th>\n",
       "      <th>SibSp</th>\n",
       "      <th>Parch</th>\n",
       "      <th>Fare</th>\n",
       "      <th>Embarked</th>\n",
       "      <th>Surname</th>\n",
       "      <th>Title</th>\n",
       "    </tr>\n",
       "  </thead>\n",
       "  <tbody>\n",
       "    <tr>\n",
       "      <th>0</th>\n",
       "      <td>1</td>\n",
       "      <td>0</td>\n",
       "      <td>3</td>\n",
       "      <td>Braund, Mr. Owen Harris</td>\n",
       "      <td>male</td>\n",
       "      <td>22.0</td>\n",
       "      <td>1</td>\n",
       "      <td>0</td>\n",
       "      <td>7.2500</td>\n",
       "      <td>S</td>\n",
       "      <td>Braund</td>\n",
       "      <td>Mr</td>\n",
       "    </tr>\n",
       "    <tr>\n",
       "      <th>1</th>\n",
       "      <td>2</td>\n",
       "      <td>1</td>\n",
       "      <td>1</td>\n",
       "      <td>Cumings, Mrs. John Bradley (Florence Briggs Th...</td>\n",
       "      <td>female</td>\n",
       "      <td>38.0</td>\n",
       "      <td>1</td>\n",
       "      <td>0</td>\n",
       "      <td>71.2833</td>\n",
       "      <td>C</td>\n",
       "      <td>Cumings</td>\n",
       "      <td>Mrs</td>\n",
       "    </tr>\n",
       "    <tr>\n",
       "      <th>2</th>\n",
       "      <td>3</td>\n",
       "      <td>1</td>\n",
       "      <td>3</td>\n",
       "      <td>Heikkinen, Miss. Laina</td>\n",
       "      <td>female</td>\n",
       "      <td>26.0</td>\n",
       "      <td>0</td>\n",
       "      <td>0</td>\n",
       "      <td>7.9250</td>\n",
       "      <td>S</td>\n",
       "      <td>Heikkinen</td>\n",
       "      <td>Miss</td>\n",
       "    </tr>\n",
       "    <tr>\n",
       "      <th>3</th>\n",
       "      <td>4</td>\n",
       "      <td>1</td>\n",
       "      <td>1</td>\n",
       "      <td>Futrelle, Mrs. Jacques Heath (Lily May Peel)</td>\n",
       "      <td>female</td>\n",
       "      <td>35.0</td>\n",
       "      <td>1</td>\n",
       "      <td>0</td>\n",
       "      <td>53.1000</td>\n",
       "      <td>S</td>\n",
       "      <td>Futrelle</td>\n",
       "      <td>Mrs</td>\n",
       "    </tr>\n",
       "    <tr>\n",
       "      <th>4</th>\n",
       "      <td>5</td>\n",
       "      <td>0</td>\n",
       "      <td>3</td>\n",
       "      <td>Allen, Mr. William Henry</td>\n",
       "      <td>male</td>\n",
       "      <td>35.0</td>\n",
       "      <td>0</td>\n",
       "      <td>0</td>\n",
       "      <td>8.0500</td>\n",
       "      <td>S</td>\n",
       "      <td>Allen</td>\n",
       "      <td>Mr</td>\n",
       "    </tr>\n",
       "    <tr>\n",
       "      <th>...</th>\n",
       "      <td>...</td>\n",
       "      <td>...</td>\n",
       "      <td>...</td>\n",
       "      <td>...</td>\n",
       "      <td>...</td>\n",
       "      <td>...</td>\n",
       "      <td>...</td>\n",
       "      <td>...</td>\n",
       "      <td>...</td>\n",
       "      <td>...</td>\n",
       "      <td>...</td>\n",
       "      <td>...</td>\n",
       "    </tr>\n",
       "    <tr>\n",
       "      <th>886</th>\n",
       "      <td>887</td>\n",
       "      <td>0</td>\n",
       "      <td>2</td>\n",
       "      <td>Montvila, Rev. Juozas</td>\n",
       "      <td>male</td>\n",
       "      <td>27.0</td>\n",
       "      <td>0</td>\n",
       "      <td>0</td>\n",
       "      <td>13.0000</td>\n",
       "      <td>S</td>\n",
       "      <td>Montvila</td>\n",
       "      <td>Rev</td>\n",
       "    </tr>\n",
       "    <tr>\n",
       "      <th>887</th>\n",
       "      <td>888</td>\n",
       "      <td>1</td>\n",
       "      <td>1</td>\n",
       "      <td>Graham, Miss. Margaret Edith</td>\n",
       "      <td>female</td>\n",
       "      <td>19.0</td>\n",
       "      <td>0</td>\n",
       "      <td>0</td>\n",
       "      <td>30.0000</td>\n",
       "      <td>S</td>\n",
       "      <td>Graham</td>\n",
       "      <td>Miss</td>\n",
       "    </tr>\n",
       "    <tr>\n",
       "      <th>888</th>\n",
       "      <td>889</td>\n",
       "      <td>0</td>\n",
       "      <td>3</td>\n",
       "      <td>Johnston, Miss. Catherine Helen \"Carrie\"</td>\n",
       "      <td>female</td>\n",
       "      <td>NaN</td>\n",
       "      <td>1</td>\n",
       "      <td>2</td>\n",
       "      <td>23.4500</td>\n",
       "      <td>S</td>\n",
       "      <td>Johnston</td>\n",
       "      <td>Miss</td>\n",
       "    </tr>\n",
       "    <tr>\n",
       "      <th>889</th>\n",
       "      <td>890</td>\n",
       "      <td>1</td>\n",
       "      <td>1</td>\n",
       "      <td>Behr, Mr. Karl Howell</td>\n",
       "      <td>male</td>\n",
       "      <td>26.0</td>\n",
       "      <td>0</td>\n",
       "      <td>0</td>\n",
       "      <td>30.0000</td>\n",
       "      <td>C</td>\n",
       "      <td>Behr</td>\n",
       "      <td>Mr</td>\n",
       "    </tr>\n",
       "    <tr>\n",
       "      <th>890</th>\n",
       "      <td>891</td>\n",
       "      <td>0</td>\n",
       "      <td>3</td>\n",
       "      <td>Dooley, Mr. Patrick</td>\n",
       "      <td>male</td>\n",
       "      <td>32.0</td>\n",
       "      <td>0</td>\n",
       "      <td>0</td>\n",
       "      <td>7.7500</td>\n",
       "      <td>Q</td>\n",
       "      <td>Dooley</td>\n",
       "      <td>Mr</td>\n",
       "    </tr>\n",
       "  </tbody>\n",
       "</table>\n",
       "<p>891 rows × 12 columns</p>\n",
       "</div>"
      ],
      "text/plain": [
       "     PassengerId  Survived  Pclass  \\\n",
       "0              1         0       3   \n",
       "1              2         1       1   \n",
       "2              3         1       3   \n",
       "3              4         1       1   \n",
       "4              5         0       3   \n",
       "..           ...       ...     ...   \n",
       "886          887         0       2   \n",
       "887          888         1       1   \n",
       "888          889         0       3   \n",
       "889          890         1       1   \n",
       "890          891         0       3   \n",
       "\n",
       "                                                  Name     Sex   Age  SibSp  \\\n",
       "0                              Braund, Mr. Owen Harris    male  22.0      1   \n",
       "1    Cumings, Mrs. John Bradley (Florence Briggs Th...  female  38.0      1   \n",
       "2                               Heikkinen, Miss. Laina  female  26.0      0   \n",
       "3         Futrelle, Mrs. Jacques Heath (Lily May Peel)  female  35.0      1   \n",
       "4                             Allen, Mr. William Henry    male  35.0      0   \n",
       "..                                                 ...     ...   ...    ...   \n",
       "886                              Montvila, Rev. Juozas    male  27.0      0   \n",
       "887                       Graham, Miss. Margaret Edith  female  19.0      0   \n",
       "888           Johnston, Miss. Catherine Helen \"Carrie\"  female   NaN      1   \n",
       "889                              Behr, Mr. Karl Howell    male  26.0      0   \n",
       "890                                Dooley, Mr. Patrick    male  32.0      0   \n",
       "\n",
       "     Parch     Fare Embarked    Surname Title  \n",
       "0        0   7.2500        S     Braund    Mr  \n",
       "1        0  71.2833        C    Cumings   Mrs  \n",
       "2        0   7.9250        S  Heikkinen  Miss  \n",
       "3        0  53.1000        S   Futrelle   Mrs  \n",
       "4        0   8.0500        S      Allen    Mr  \n",
       "..     ...      ...      ...        ...   ...  \n",
       "886      0  13.0000        S   Montvila   Rev  \n",
       "887      0  30.0000        S     Graham  Miss  \n",
       "888      2  23.4500        S   Johnston  Miss  \n",
       "889      0  30.0000        C       Behr    Mr  \n",
       "890      0   7.7500        Q     Dooley    Mr  \n",
       "\n",
       "[891 rows x 12 columns]"
      ]
     },
     "execution_count": 48,
     "metadata": {},
     "output_type": "execute_result"
    }
   ],
   "source": [
    "df_treino"
   ]
  },
  {
   "cell_type": "markdown",
   "id": "0ca7f7b4",
   "metadata": {
    "_cell_guid": "908c08a6-3395-19a5-0cd7-13341054012a",
    "_uuid": "f766d512ea5bfe60b5eb7a816f482f2ab688fd2f",
    "papermill": {
     "duration": 0.10938,
     "end_time": "2022-10-13T22:40:03.029667",
     "exception": false,
     "start_time": "2022-10-13T22:40:02.920287",
     "status": "completed"
    },
    "tags": []
   },
   "source": [
    "Podemos substituir muitos títulos por um nome mais comum ou classificá-los como `Raros`."
   ]
  },
  {
   "cell_type": "code",
   "execution_count": 49,
   "id": "1aaf3574",
   "metadata": {
    "_cell_guid": "553f56d7-002a-ee63-21a4-c0efad10cfe9",
    "_uuid": "b8cd938fba61fb4e226c77521b012f4bb8aa01d0",
    "execution": {
     "iopub.execute_input": "2022-10-13T22:40:03.107505Z",
     "iopub.status.busy": "2022-10-13T22:40:03.106838Z",
     "iopub.status.idle": "2022-10-13T22:40:03.129771Z",
     "shell.execute_reply": "2022-10-13T22:40:03.128695Z"
    },
    "papermill": {
     "duration": 0.06429,
     "end_time": "2022-10-13T22:40:03.131972",
     "exception": false,
     "start_time": "2022-10-13T22:40:03.067682",
     "status": "completed"
    },
    "tags": []
   },
   "outputs": [
    {
     "data": {
      "text/html": [
       "<div>\n",
       "<style scoped>\n",
       "    .dataframe tbody tr th:only-of-type {\n",
       "        vertical-align: middle;\n",
       "    }\n",
       "\n",
       "    .dataframe tbody tr th {\n",
       "        vertical-align: top;\n",
       "    }\n",
       "\n",
       "    .dataframe thead th {\n",
       "        text-align: right;\n",
       "    }\n",
       "</style>\n",
       "<table border=\"1\" class=\"dataframe\">\n",
       "  <thead>\n",
       "    <tr style=\"text-align: right;\">\n",
       "      <th></th>\n",
       "      <th>Title</th>\n",
       "      <th>Survived</th>\n",
       "    </tr>\n",
       "  </thead>\n",
       "  <tbody>\n",
       "    <tr>\n",
       "      <th>0</th>\n",
       "      <td>Master</td>\n",
       "      <td>0.575000</td>\n",
       "    </tr>\n",
       "    <tr>\n",
       "      <th>1</th>\n",
       "      <td>Miss</td>\n",
       "      <td>0.702703</td>\n",
       "    </tr>\n",
       "    <tr>\n",
       "      <th>2</th>\n",
       "      <td>Mr</td>\n",
       "      <td>0.156673</td>\n",
       "    </tr>\n",
       "    <tr>\n",
       "      <th>3</th>\n",
       "      <td>Mrs</td>\n",
       "      <td>0.793651</td>\n",
       "    </tr>\n",
       "    <tr>\n",
       "      <th>4</th>\n",
       "      <td>Rare</td>\n",
       "      <td>0.347826</td>\n",
       "    </tr>\n",
       "  </tbody>\n",
       "</table>\n",
       "</div>"
      ],
      "text/plain": [
       "    Title  Survived\n",
       "0  Master  0.575000\n",
       "1    Miss  0.702703\n",
       "2      Mr  0.156673\n",
       "3     Mrs  0.793651\n",
       "4    Rare  0.347826"
      ]
     },
     "execution_count": 49,
     "metadata": {},
     "output_type": "execute_result"
    }
   ],
   "source": [
    "for dataset in datasets:\n",
    "    dataset['Title'] = dataset['Title'].replace(['Lady', 'Countess','Capt', 'Col',\\\n",
    " \t'Don', 'Dr', 'Major', 'Rev', 'Sir', 'Jonkheer', 'Dona'], 'Rare')\n",
    "\n",
    "    dataset['Title'] = dataset['Title'].replace('Mlle', 'Miss')\n",
    "    dataset['Title'] = dataset['Title'].replace('Ms', 'Miss')\n",
    "    dataset['Title'] = dataset['Title'].replace('Mme', 'Mrs')\n",
    "    \n",
    "df_treino[['Title', 'Survived']].groupby(['Title'], as_index=False).mean()"
   ]
  },
  {
   "cell_type": "markdown",
   "id": "e81e3805",
   "metadata": {
    "_cell_guid": "6d46be9a-812a-f334-73b9-56ed912c9eca",
    "_uuid": "de245fe76474d46995a5acc31b905b8aaa5893f6",
    "papermill": {
     "duration": 0.037376,
     "end_time": "2022-10-13T22:40:03.207656",
     "exception": false,
     "start_time": "2022-10-13T22:40:03.170280",
     "status": "completed"
    },
    "tags": []
   },
   "source": [
    "Podemos converter os títulos categóricos para ordinais."
   ]
  },
  {
   "cell_type": "code",
   "execution_count": 50,
   "id": "275a07e7",
   "metadata": {
    "_cell_guid": "67444ebc-4d11-bac1-74a6-059133b6e2e8",
    "_uuid": "e805ad52f0514497b67c3726104ba46d361eb92c",
    "execution": {
     "iopub.execute_input": "2022-10-13T22:40:03.285474Z",
     "iopub.status.busy": "2022-10-13T22:40:03.284678Z",
     "iopub.status.idle": "2022-10-13T22:40:03.306038Z",
     "shell.execute_reply": "2022-10-13T22:40:03.304770Z"
    },
    "papermill": {
     "duration": 0.063234,
     "end_time": "2022-10-13T22:40:03.308549",
     "exception": false,
     "start_time": "2022-10-13T22:40:03.245315",
     "status": "completed"
    },
    "tags": []
   },
   "outputs": [
    {
     "data": {
      "text/html": [
       "<div>\n",
       "<style scoped>\n",
       "    .dataframe tbody tr th:only-of-type {\n",
       "        vertical-align: middle;\n",
       "    }\n",
       "\n",
       "    .dataframe tbody tr th {\n",
       "        vertical-align: top;\n",
       "    }\n",
       "\n",
       "    .dataframe thead th {\n",
       "        text-align: right;\n",
       "    }\n",
       "</style>\n",
       "<table border=\"1\" class=\"dataframe\">\n",
       "  <thead>\n",
       "    <tr style=\"text-align: right;\">\n",
       "      <th></th>\n",
       "      <th>PassengerId</th>\n",
       "      <th>Survived</th>\n",
       "      <th>Pclass</th>\n",
       "      <th>Name</th>\n",
       "      <th>Sex</th>\n",
       "      <th>Age</th>\n",
       "      <th>SibSp</th>\n",
       "      <th>Parch</th>\n",
       "      <th>Fare</th>\n",
       "      <th>Embarked</th>\n",
       "      <th>Surname</th>\n",
       "      <th>Title</th>\n",
       "    </tr>\n",
       "  </thead>\n",
       "  <tbody>\n",
       "    <tr>\n",
       "      <th>0</th>\n",
       "      <td>1</td>\n",
       "      <td>0</td>\n",
       "      <td>3</td>\n",
       "      <td>Braund, Mr. Owen Harris</td>\n",
       "      <td>male</td>\n",
       "      <td>22.0</td>\n",
       "      <td>1</td>\n",
       "      <td>0</td>\n",
       "      <td>7.2500</td>\n",
       "      <td>S</td>\n",
       "      <td>Braund</td>\n",
       "      <td>1</td>\n",
       "    </tr>\n",
       "    <tr>\n",
       "      <th>1</th>\n",
       "      <td>2</td>\n",
       "      <td>1</td>\n",
       "      <td>1</td>\n",
       "      <td>Cumings, Mrs. John Bradley (Florence Briggs Th...</td>\n",
       "      <td>female</td>\n",
       "      <td>38.0</td>\n",
       "      <td>1</td>\n",
       "      <td>0</td>\n",
       "      <td>71.2833</td>\n",
       "      <td>C</td>\n",
       "      <td>Cumings</td>\n",
       "      <td>3</td>\n",
       "    </tr>\n",
       "    <tr>\n",
       "      <th>2</th>\n",
       "      <td>3</td>\n",
       "      <td>1</td>\n",
       "      <td>3</td>\n",
       "      <td>Heikkinen, Miss. Laina</td>\n",
       "      <td>female</td>\n",
       "      <td>26.0</td>\n",
       "      <td>0</td>\n",
       "      <td>0</td>\n",
       "      <td>7.9250</td>\n",
       "      <td>S</td>\n",
       "      <td>Heikkinen</td>\n",
       "      <td>2</td>\n",
       "    </tr>\n",
       "    <tr>\n",
       "      <th>3</th>\n",
       "      <td>4</td>\n",
       "      <td>1</td>\n",
       "      <td>1</td>\n",
       "      <td>Futrelle, Mrs. Jacques Heath (Lily May Peel)</td>\n",
       "      <td>female</td>\n",
       "      <td>35.0</td>\n",
       "      <td>1</td>\n",
       "      <td>0</td>\n",
       "      <td>53.1000</td>\n",
       "      <td>S</td>\n",
       "      <td>Futrelle</td>\n",
       "      <td>3</td>\n",
       "    </tr>\n",
       "    <tr>\n",
       "      <th>4</th>\n",
       "      <td>5</td>\n",
       "      <td>0</td>\n",
       "      <td>3</td>\n",
       "      <td>Allen, Mr. William Henry</td>\n",
       "      <td>male</td>\n",
       "      <td>35.0</td>\n",
       "      <td>0</td>\n",
       "      <td>0</td>\n",
       "      <td>8.0500</td>\n",
       "      <td>S</td>\n",
       "      <td>Allen</td>\n",
       "      <td>1</td>\n",
       "    </tr>\n",
       "  </tbody>\n",
       "</table>\n",
       "</div>"
      ],
      "text/plain": [
       "   PassengerId  Survived  Pclass  \\\n",
       "0            1         0       3   \n",
       "1            2         1       1   \n",
       "2            3         1       3   \n",
       "3            4         1       1   \n",
       "4            5         0       3   \n",
       "\n",
       "                                                Name     Sex   Age  SibSp  \\\n",
       "0                            Braund, Mr. Owen Harris    male  22.0      1   \n",
       "1  Cumings, Mrs. John Bradley (Florence Briggs Th...  female  38.0      1   \n",
       "2                             Heikkinen, Miss. Laina  female  26.0      0   \n",
       "3       Futrelle, Mrs. Jacques Heath (Lily May Peel)  female  35.0      1   \n",
       "4                           Allen, Mr. William Henry    male  35.0      0   \n",
       "\n",
       "   Parch     Fare Embarked    Surname  Title  \n",
       "0      0   7.2500        S     Braund      1  \n",
       "1      0  71.2833        C    Cumings      3  \n",
       "2      0   7.9250        S  Heikkinen      2  \n",
       "3      0  53.1000        S   Futrelle      3  \n",
       "4      0   8.0500        S      Allen      1  "
      ]
     },
     "execution_count": 50,
     "metadata": {},
     "output_type": "execute_result"
    }
   ],
   "source": [
    "title_mapping = {\"Mr\": 1, \"Miss\": 2, \"Mrs\": 3, \"Master\": 4, \"Rare\": 5}\n",
    "for dataset in datasets:\n",
    "    dataset['Title'] = dataset['Title'].map(title_mapping)\n",
    "    dataset['Title'] = dataset['Title'].fillna(0)\n",
    "\n",
    "df_treino.head()"
   ]
  },
  {
   "cell_type": "code",
   "execution_count": 51,
   "id": "c285feb5",
   "metadata": {
    "execution": {
     "iopub.execute_input": "2022-10-13T22:40:03.386311Z",
     "iopub.status.busy": "2022-10-13T22:40:03.385886Z",
     "iopub.status.idle": "2022-10-13T22:40:03.406042Z",
     "shell.execute_reply": "2022-10-13T22:40:03.405242Z"
    },
    "papermill": {
     "duration": 0.061586,
     "end_time": "2022-10-13T22:40:03.408107",
     "exception": false,
     "start_time": "2022-10-13T22:40:03.346521",
     "status": "completed"
    },
    "tags": []
   },
   "outputs": [
    {
     "data": {
      "text/html": [
       "<div>\n",
       "<style scoped>\n",
       "    .dataframe tbody tr th:only-of-type {\n",
       "        vertical-align: middle;\n",
       "    }\n",
       "\n",
       "    .dataframe tbody tr th {\n",
       "        vertical-align: top;\n",
       "    }\n",
       "\n",
       "    .dataframe thead th {\n",
       "        text-align: right;\n",
       "    }\n",
       "</style>\n",
       "<table border=\"1\" class=\"dataframe\">\n",
       "  <thead>\n",
       "    <tr style=\"text-align: right;\">\n",
       "      <th>Sex</th>\n",
       "      <th>female</th>\n",
       "      <th>male</th>\n",
       "    </tr>\n",
       "    <tr>\n",
       "      <th>Title</th>\n",
       "      <th></th>\n",
       "      <th></th>\n",
       "    </tr>\n",
       "  </thead>\n",
       "  <tbody>\n",
       "    <tr>\n",
       "      <th>1</th>\n",
       "      <td>0</td>\n",
       "      <td>517</td>\n",
       "    </tr>\n",
       "    <tr>\n",
       "      <th>2</th>\n",
       "      <td>185</td>\n",
       "      <td>0</td>\n",
       "    </tr>\n",
       "    <tr>\n",
       "      <th>3</th>\n",
       "      <td>126</td>\n",
       "      <td>0</td>\n",
       "    </tr>\n",
       "    <tr>\n",
       "      <th>4</th>\n",
       "      <td>0</td>\n",
       "      <td>40</td>\n",
       "    </tr>\n",
       "    <tr>\n",
       "      <th>5</th>\n",
       "      <td>3</td>\n",
       "      <td>20</td>\n",
       "    </tr>\n",
       "  </tbody>\n",
       "</table>\n",
       "</div>"
      ],
      "text/plain": [
       "Sex    female  male\n",
       "Title              \n",
       "1           0   517\n",
       "2         185     0\n",
       "3         126     0\n",
       "4           0    40\n",
       "5           3    20"
      ]
     },
     "execution_count": 51,
     "metadata": {},
     "output_type": "execute_result"
    }
   ],
   "source": [
    "pd.crosstab(df_treino['Title'], df_treino['Sex'])"
   ]
  },
  {
   "cell_type": "markdown",
   "id": "2ac1a410",
   "metadata": {
    "_cell_guid": "f27bb974-a3d7-07a1-f7e4-876f6da87e62",
    "_uuid": "5fefaa1b37c537dda164c87a757fe705a99815d9",
    "papermill": {
     "duration": 0.038075,
     "end_time": "2022-10-13T22:40:03.484630",
     "exception": false,
     "start_time": "2022-10-13T22:40:03.446555",
     "status": "completed"
    },
    "tags": []
   },
   "source": [
    "Agora podemos descartar com segurança o recurso Nome dos conjuntos de dados de treinamento e teste. Também não precisamos do recurso PassengerId no conjunto de dados de treinamento."
   ]
  },
  {
   "cell_type": "code",
   "execution_count": 52,
   "id": "ec5e8cdc",
   "metadata": {
    "_cell_guid": "9d61dded-5ff0-5018-7580-aecb4ea17506",
    "_uuid": "1da299cf2ffd399fd5b37d74fb40665d16ba5347",
    "execution": {
     "iopub.execute_input": "2022-10-13T22:40:03.563402Z",
     "iopub.status.busy": "2022-10-13T22:40:03.562706Z",
     "iopub.status.idle": "2022-10-13T22:40:03.572710Z",
     "shell.execute_reply": "2022-10-13T22:40:03.571918Z"
    },
    "papermill": {
     "duration": 0.051877,
     "end_time": "2022-10-13T22:40:03.574820",
     "exception": false,
     "start_time": "2022-10-13T22:40:03.522943",
     "status": "completed"
    },
    "tags": []
   },
   "outputs": [
    {
     "data": {
      "text/plain": [
       "((891, 10), (418, 10))"
      ]
     },
     "execution_count": 52,
     "metadata": {},
     "output_type": "execute_result"
    }
   ],
   "source": [
    "df_treino = df_treino.drop(['Name', 'PassengerId'], axis=1)\n",
    "df_test = df_test.drop(['Name'], axis=1)\n",
    "datasets = [df_treino, df_test]\n",
    "df_treino.shape, df_test.shape"
   ]
  },
  {
   "cell_type": "markdown",
   "id": "7432e43d",
   "metadata": {
    "_cell_guid": "2c8e84bb-196d-bd4a-4df9-f5213561b5d3",
    "_uuid": "a1ac66c79b279d94860e66996d3d8dba801a6d9a",
    "papermill": {
     "duration": 0.038146,
     "end_time": "2022-10-13T22:40:03.651928",
     "exception": false,
     "start_time": "2022-10-13T22:40:03.613782",
     "status": "completed"
    },
    "tags": []
   },
   "source": [
    "### Convertendo um recurso categórico\n",
    "\n",
    "Agora podemos converter as variáveis que contêm strings em valores numéricos. Isso é exigido pela maioria dos algoritmos de modelo. Isso também nos ajudará atingir a variável alvo.\n",
    "\n",
    "Vamos começar convertendo a variável Sex em uma nova variável chamada Gender, onde feminino=1 e masculino=0."
   ]
  },
  {
   "cell_type": "code",
   "execution_count": 53,
   "id": "172da4fa",
   "metadata": {
    "_cell_guid": "c20c1df2-157c-e5a0-3e24-15a828095c96",
    "_uuid": "840498eaee7baaca228499b0a5652da9d4edaf37",
    "execution": {
     "iopub.execute_input": "2022-10-13T22:40:03.731934Z",
     "iopub.status.busy": "2022-10-13T22:40:03.730864Z",
     "iopub.status.idle": "2022-10-13T22:40:03.747743Z",
     "shell.execute_reply": "2022-10-13T22:40:03.746946Z"
    },
    "papermill": {
     "duration": 0.05889,
     "end_time": "2022-10-13T22:40:03.749816",
     "exception": false,
     "start_time": "2022-10-13T22:40:03.690926",
     "status": "completed"
    },
    "tags": []
   },
   "outputs": [
    {
     "data": {
      "text/html": [
       "<div>\n",
       "<style scoped>\n",
       "    .dataframe tbody tr th:only-of-type {\n",
       "        vertical-align: middle;\n",
       "    }\n",
       "\n",
       "    .dataframe tbody tr th {\n",
       "        vertical-align: top;\n",
       "    }\n",
       "\n",
       "    .dataframe thead th {\n",
       "        text-align: right;\n",
       "    }\n",
       "</style>\n",
       "<table border=\"1\" class=\"dataframe\">\n",
       "  <thead>\n",
       "    <tr style=\"text-align: right;\">\n",
       "      <th></th>\n",
       "      <th>Survived</th>\n",
       "      <th>Pclass</th>\n",
       "      <th>Sex</th>\n",
       "      <th>Age</th>\n",
       "      <th>SibSp</th>\n",
       "      <th>Parch</th>\n",
       "      <th>Fare</th>\n",
       "      <th>Embarked</th>\n",
       "      <th>Surname</th>\n",
       "      <th>Title</th>\n",
       "    </tr>\n",
       "  </thead>\n",
       "  <tbody>\n",
       "    <tr>\n",
       "      <th>0</th>\n",
       "      <td>0</td>\n",
       "      <td>3</td>\n",
       "      <td>0</td>\n",
       "      <td>22.0</td>\n",
       "      <td>1</td>\n",
       "      <td>0</td>\n",
       "      <td>7.2500</td>\n",
       "      <td>S</td>\n",
       "      <td>Braund</td>\n",
       "      <td>1</td>\n",
       "    </tr>\n",
       "    <tr>\n",
       "      <th>1</th>\n",
       "      <td>1</td>\n",
       "      <td>1</td>\n",
       "      <td>1</td>\n",
       "      <td>38.0</td>\n",
       "      <td>1</td>\n",
       "      <td>0</td>\n",
       "      <td>71.2833</td>\n",
       "      <td>C</td>\n",
       "      <td>Cumings</td>\n",
       "      <td>3</td>\n",
       "    </tr>\n",
       "    <tr>\n",
       "      <th>2</th>\n",
       "      <td>1</td>\n",
       "      <td>3</td>\n",
       "      <td>1</td>\n",
       "      <td>26.0</td>\n",
       "      <td>0</td>\n",
       "      <td>0</td>\n",
       "      <td>7.9250</td>\n",
       "      <td>S</td>\n",
       "      <td>Heikkinen</td>\n",
       "      <td>2</td>\n",
       "    </tr>\n",
       "    <tr>\n",
       "      <th>3</th>\n",
       "      <td>1</td>\n",
       "      <td>1</td>\n",
       "      <td>1</td>\n",
       "      <td>35.0</td>\n",
       "      <td>1</td>\n",
       "      <td>0</td>\n",
       "      <td>53.1000</td>\n",
       "      <td>S</td>\n",
       "      <td>Futrelle</td>\n",
       "      <td>3</td>\n",
       "    </tr>\n",
       "    <tr>\n",
       "      <th>4</th>\n",
       "      <td>0</td>\n",
       "      <td>3</td>\n",
       "      <td>0</td>\n",
       "      <td>35.0</td>\n",
       "      <td>0</td>\n",
       "      <td>0</td>\n",
       "      <td>8.0500</td>\n",
       "      <td>S</td>\n",
       "      <td>Allen</td>\n",
       "      <td>1</td>\n",
       "    </tr>\n",
       "  </tbody>\n",
       "</table>\n",
       "</div>"
      ],
      "text/plain": [
       "   Survived  Pclass  Sex   Age  SibSp  Parch     Fare Embarked    Surname  \\\n",
       "0         0       3    0  22.0      1      0   7.2500        S     Braund   \n",
       "1         1       1    1  38.0      1      0  71.2833        C    Cumings   \n",
       "2         1       3    1  26.0      0      0   7.9250        S  Heikkinen   \n",
       "3         1       1    1  35.0      1      0  53.1000        S   Futrelle   \n",
       "4         0       3    0  35.0      0      0   8.0500        S      Allen   \n",
       "\n",
       "   Title  \n",
       "0      1  \n",
       "1      3  \n",
       "2      2  \n",
       "3      3  \n",
       "4      1  "
      ]
     },
     "execution_count": 53,
     "metadata": {},
     "output_type": "execute_result"
    }
   ],
   "source": [
    "for dataset in datasets:\n",
    "    dataset['Sex'] = dataset['Sex'].map( {'female': 1, 'male': 0} ).astype(int)\n",
    "\n",
    "df_treino.head()"
   ]
  },
  {
   "cell_type": "markdown",
   "id": "1e88378e",
   "metadata": {
    "_cell_guid": "d72cb29e-5034-1597-b459-83a9640d3d3a",
    "_uuid": "6da8bfe6c832f4bd2aa1312bdd6b8b4af48a012e",
    "papermill": {
     "duration": 0.039297,
     "end_time": "2022-10-13T22:40:03.829346",
     "exception": false,
     "start_time": "2022-10-13T22:40:03.790049",
     "status": "completed"
    },
    "tags": []
   },
   "source": [
    "### Concluindo um recurso contínuo numérico\n",
    "\n",
    "Agora devemos começar a estimar e completar as variáveis com valores ausentes ou nulos. Faremos isso primeiro para a variável Idade.\n",
    "\n",
    "Podemos considerar três métodos para completar uma variável numérica contínua.\n",
    "\n",
    "1. Uma maneira simples é gerar números aleatórios entre média e [desvio padrão](https://en.wikipedia.org/wiki/Standard_deviation).\n",
    "\n",
    "2. Uma maneira mais precisa de adivinhar valores ausentes é usar outras variáveis correlacionadas. No nosso caso notamos correlação entre Age, Gender e Pclasse. Adivinhar valores de Age usando valores [mediana](https://en.wikipedia.org/wiki/Median) para idade em conjuntos de combinações de variáveis de Pclasse e gênero. Então, idade mediana para Pclass=1 e Gender=0, Pclass=1 e Gender=1, e assim por diante...\n",
    "\n",
    "3. Combine os métodos 1 e 2. Então, em vez de adivinhar valores de idade com base na mediana, use números aleatórios entre média e desvio padrão, com base em conjuntos de combinações de Pclass e Gender.\n",
    "\n",
    "Os métodos 1 e 3 introduzirão ruído aleatório em nossos modelos. Os resultados de várias execuções podem variar. Vamos preferir o método 2."
   ]
  },
  {
   "cell_type": "code",
   "execution_count": 54,
   "id": "070ee4f0",
   "metadata": {
    "_cell_guid": "c311c43d-6554-3b52-8ef8-533ca08b2f68",
    "_uuid": "345038c8dd1bac9a9bc5e2cfee13fcc1f833eee0",
    "execution": {
     "iopub.execute_input": "2022-10-13T22:40:03.909041Z",
     "iopub.status.busy": "2022-10-13T22:40:03.908110Z",
     "iopub.status.idle": "2022-10-13T22:40:05.283962Z",
     "shell.execute_reply": "2022-10-13T22:40:05.282749Z"
    },
    "papermill": {
     "duration": 1.41828,
     "end_time": "2022-10-13T22:40:05.286332",
     "exception": false,
     "start_time": "2022-10-13T22:40:03.868052",
     "status": "completed"
    },
    "tags": []
   },
   "outputs": [
    {
     "data": {
      "text/plain": [
       "<seaborn.axisgrid.FacetGrid at 0x7f1793a98dd0>"
      ]
     },
     "execution_count": 54,
     "metadata": {},
     "output_type": "execute_result"
    },
    {
     "data": {
      "image/png": "[encoded data removed]",
      "text/plain": [
       "<Figure size 514.88x475.2 with 6 Axes>"
      ]
     },
     "metadata": {
      "needs_background": "light"
     },
     "output_type": "display_data"
    }
   ],
   "source": [
    "grid = sns.FacetGrid(df_treino, row='Pclass', col='Sex', height=2.2, aspect=1.6)\n",
    "grid.map(plt.hist, 'Age', alpha=.5, bins=20)\n",
    "grid.add_legend()"
   ]
  },
  {
   "cell_type": "markdown",
   "id": "7055ff89",
   "metadata": {
    "_cell_guid": "a4f166f9-f5f9-1819-66c3-d89dd5b0d8ff",
    "_uuid": "6b22ac53d95c7979d5f4580bd5fd29d27155c347",
    "papermill": {
     "duration": 0.040039,
     "end_time": "2022-10-13T22:40:05.366062",
     "exception": false,
     "start_time": "2022-10-13T22:40:05.326023",
     "status": "completed"
    },
    "tags": []
   },
   "source": [
    "Vamos começar preparando um array vazio para conter valores de idade estimados com base nas combinações de Pclass x Gender."
   ]
  },
  {
   "cell_type": "code",
   "execution_count": 55,
   "id": "d7be25ea",
   "metadata": {
    "_cell_guid": "9299523c-dcf1-fb00-e52f-e2fb860a3920",
    "_uuid": "24a0971daa4cbc3aa700bae42e68c17ce9f3a6e2",
    "execution": {
     "iopub.execute_input": "2022-10-13T22:40:05.446748Z",
     "iopub.status.busy": "2022-10-13T22:40:05.446333Z",
     "iopub.status.idle": "2022-10-13T22:40:05.453552Z",
     "shell.execute_reply": "2022-10-13T22:40:05.452373Z"
    },
    "papermill": {
     "duration": 0.050441,
     "end_time": "2022-10-13T22:40:05.455843",
     "exception": false,
     "start_time": "2022-10-13T22:40:05.405402",
     "status": "completed"
    },
    "tags": []
   },
   "outputs": [
    {
     "data": {
      "text/plain": [
       "array([[0., 0., 0.],\n",
       "       [0., 0., 0.]])"
      ]
     },
     "execution_count": 55,
     "metadata": {},
     "output_type": "execute_result"
    }
   ],
   "source": [
    "guess_ages = np.zeros((2,3))\n",
    "guess_ages"
   ]
  },
  {
   "cell_type": "markdown",
   "id": "d68921e7",
   "metadata": {
    "_cell_guid": "ec9fed37-16b1-5518-4fa8-0a7f579dbc82",
    "_uuid": "8acd90569767b544f055d573bbbb8f6012853385",
    "papermill": {
     "duration": 0.038873,
     "end_time": "2022-10-13T22:40:05.534596",
     "exception": false,
     "start_time": "2022-10-13T22:40:05.495723",
     "status": "completed"
    },
    "tags": []
   },
   "source": [
    "Agora iteramos sobre Sex (0 ou 1) e Pclass (1, 2, 3) para calcular os valores estimados de Age para as seis combinações."
   ]
  },
  {
   "cell_type": "code",
   "execution_count": 56,
   "id": "ba46ca46",
   "metadata": {
    "_cell_guid": "a4015dfa-a0ab-65bc-0cbe-efecf1eb2569",
    "_uuid": "31198f0ad0dbbb74290ebe135abffa994b8f58f3",
    "execution": {
     "iopub.execute_input": "2022-10-13T22:40:05.615103Z",
     "iopub.status.busy": "2022-10-13T22:40:05.614388Z",
     "iopub.status.idle": "2022-10-13T22:40:05.659062Z",
     "shell.execute_reply": "2022-10-13T22:40:05.658221Z"
    },
    "papermill": {
     "duration": 0.087284,
     "end_time": "2022-10-13T22:40:05.661194",
     "exception": false,
     "start_time": "2022-10-13T22:40:05.573910",
     "status": "completed"
    },
    "tags": []
   },
   "outputs": [
    {
     "data": {
      "text/html": [
       "<div>\n",
       "<style scoped>\n",
       "    .dataframe tbody tr th:only-of-type {\n",
       "        vertical-align: middle;\n",
       "    }\n",
       "\n",
       "    .dataframe tbody tr th {\n",
       "        vertical-align: top;\n",
       "    }\n",
       "\n",
       "    .dataframe thead th {\n",
       "        text-align: right;\n",
       "    }\n",
       "</style>\n",
       "<table border=\"1\" class=\"dataframe\">\n",
       "  <thead>\n",
       "    <tr style=\"text-align: right;\">\n",
       "      <th></th>\n",
       "      <th>Survived</th>\n",
       "      <th>Pclass</th>\n",
       "      <th>Sex</th>\n",
       "      <th>Age</th>\n",
       "      <th>SibSp</th>\n",
       "      <th>Parch</th>\n",
       "      <th>Fare</th>\n",
       "      <th>Embarked</th>\n",
       "      <th>Surname</th>\n",
       "      <th>Title</th>\n",
       "    </tr>\n",
       "  </thead>\n",
       "  <tbody>\n",
       "    <tr>\n",
       "      <th>0</th>\n",
       "      <td>0</td>\n",
       "      <td>3</td>\n",
       "      <td>0</td>\n",
       "      <td>22</td>\n",
       "      <td>1</td>\n",
       "      <td>0</td>\n",
       "      <td>7.2500</td>\n",
       "      <td>S</td>\n",
       "      <td>Braund</td>\n",
       "      <td>1</td>\n",
       "    </tr>\n",
       "    <tr>\n",
       "      <th>1</th>\n",
       "      <td>1</td>\n",
       "      <td>1</td>\n",
       "      <td>1</td>\n",
       "      <td>38</td>\n",
       "      <td>1</td>\n",
       "      <td>0</td>\n",
       "      <td>71.2833</td>\n",
       "      <td>C</td>\n",
       "      <td>Cumings</td>\n",
       "      <td>3</td>\n",
       "    </tr>\n",
       "    <tr>\n",
       "      <th>2</th>\n",
       "      <td>1</td>\n",
       "      <td>3</td>\n",
       "      <td>1</td>\n",
       "      <td>26</td>\n",
       "      <td>0</td>\n",
       "      <td>0</td>\n",
       "      <td>7.9250</td>\n",
       "      <td>S</td>\n",
       "      <td>Heikkinen</td>\n",
       "      <td>2</td>\n",
       "    </tr>\n",
       "    <tr>\n",
       "      <th>3</th>\n",
       "      <td>1</td>\n",
       "      <td>1</td>\n",
       "      <td>1</td>\n",
       "      <td>35</td>\n",
       "      <td>1</td>\n",
       "      <td>0</td>\n",
       "      <td>53.1000</td>\n",
       "      <td>S</td>\n",
       "      <td>Futrelle</td>\n",
       "      <td>3</td>\n",
       "    </tr>\n",
       "    <tr>\n",
       "      <th>4</th>\n",
       "      <td>0</td>\n",
       "      <td>3</td>\n",
       "      <td>0</td>\n",
       "      <td>35</td>\n",
       "      <td>0</td>\n",
       "      <td>0</td>\n",
       "      <td>8.0500</td>\n",
       "      <td>S</td>\n",
       "      <td>Allen</td>\n",
       "      <td>1</td>\n",
       "    </tr>\n",
       "  </tbody>\n",
       "</table>\n",
       "</div>"
      ],
      "text/plain": [
       "   Survived  Pclass  Sex  Age  SibSp  Parch     Fare Embarked    Surname  \\\n",
       "0         0       3    0   22      1      0   7.2500        S     Braund   \n",
       "1         1       1    1   38      1      0  71.2833        C    Cumings   \n",
       "2         1       3    1   26      0      0   7.9250        S  Heikkinen   \n",
       "3         1       1    1   35      1      0  53.1000        S   Futrelle   \n",
       "4         0       3    0   35      0      0   8.0500        S      Allen   \n",
       "\n",
       "   Title  \n",
       "0      1  \n",
       "1      3  \n",
       "2      2  \n",
       "3      3  \n",
       "4      1  "
      ]
     },
     "execution_count": 56,
     "metadata": {},
     "output_type": "execute_result"
    }
   ],
   "source": [
    "for dataset in datasets:\n",
    "    for i in range(0, 2):\n",
    "        for j in range(0, 3):\n",
    "            guess_df = dataset[(dataset['Sex'] == i) & (\n",
    "                dataset['Pclass'] == j+1)]['Age'].dropna()\n",
    "\n",
    "            age_guess = guess_df.median()\n",
    "\n",
    "            # Converte de idade aleatória para a idade 0,5 mais próxima\n",
    "            guess_ages[i, j] = int(age_guess/0.5 + 0.5) * 0.5\n",
    "\n",
    "    for i in range(0, 2):\n",
    "        for j in range(0, 3):\n",
    "            dataset.loc[(dataset.Age.isnull()) & \n",
    "                        (dataset.Sex == i) & \n",
    "                        (dataset.Pclass == j+1), 'Age'] = guess_ages[i, j]\n",
    "\n",
    "    dataset['Age'] = dataset['Age'].astype(int)\n",
    "\n",
    "df_treino.head()"
   ]
  },
  {
   "cell_type": "markdown",
   "id": "a963af91",
   "metadata": {
    "_cell_guid": "dbe0a8bf-40bc-c581-e10e-76f07b3b71d4",
    "_uuid": "e7c52b44b703f28e4b6f4ddba67ab65f40274550",
    "papermill": {
     "duration": 0.039072,
     "end_time": "2022-10-13T22:40:05.740129",
     "exception": false,
     "start_time": "2022-10-13T22:40:05.701057",
     "status": "completed"
    },
    "tags": []
   },
   "source": [
    "Vamos criar faixas etárias e determinar correlações com Sobrevivência."
   ]
  },
  {
   "cell_type": "code",
   "execution_count": 57,
   "id": "9a44ea0f",
   "metadata": {
    "_cell_guid": "725d1c84-6323-9d70-5812-baf9994d3aa1",
    "_uuid": "5c8b4cbb302f439ef0d6278dcfbdafd952675353",
    "execution": {
     "iopub.execute_input": "2022-10-13T22:40:05.821451Z",
     "iopub.status.busy": "2022-10-13T22:40:05.820797Z",
     "iopub.status.idle": "2022-10-13T22:40:05.848774Z",
     "shell.execute_reply": "2022-10-13T22:40:05.847469Z"
    },
    "papermill": {
     "duration": 0.071336,
     "end_time": "2022-10-13T22:40:05.851190",
     "exception": false,
     "start_time": "2022-10-13T22:40:05.779854",
     "status": "completed"
    },
    "tags": []
   },
   "outputs": [
    {
     "data": {
      "text/html": [
       "<div>\n",
       "<style scoped>\n",
       "    .dataframe tbody tr th:only-of-type {\n",
       "        vertical-align: middle;\n",
       "    }\n",
       "\n",
       "    .dataframe tbody tr th {\n",
       "        vertical-align: top;\n",
       "    }\n",
       "\n",
       "    .dataframe thead th {\n",
       "        text-align: right;\n",
       "    }\n",
       "</style>\n",
       "<table border=\"1\" class=\"dataframe\">\n",
       "  <thead>\n",
       "    <tr style=\"text-align: right;\">\n",
       "      <th></th>\n",
       "      <th>AgeBand</th>\n",
       "      <th>Survived</th>\n",
       "    </tr>\n",
       "  </thead>\n",
       "  <tbody>\n",
       "    <tr>\n",
       "      <th>0</th>\n",
       "      <td>(-0.08, 16.0]</td>\n",
       "      <td>0.550000</td>\n",
       "    </tr>\n",
       "    <tr>\n",
       "      <th>1</th>\n",
       "      <td>(16.0, 32.0]</td>\n",
       "      <td>0.337374</td>\n",
       "    </tr>\n",
       "    <tr>\n",
       "      <th>2</th>\n",
       "      <td>(32.0, 48.0]</td>\n",
       "      <td>0.412037</td>\n",
       "    </tr>\n",
       "    <tr>\n",
       "      <th>3</th>\n",
       "      <td>(48.0, 64.0]</td>\n",
       "      <td>0.434783</td>\n",
       "    </tr>\n",
       "    <tr>\n",
       "      <th>4</th>\n",
       "      <td>(64.0, 80.0]</td>\n",
       "      <td>0.090909</td>\n",
       "    </tr>\n",
       "  </tbody>\n",
       "</table>\n",
       "</div>"
      ],
      "text/plain": [
       "         AgeBand  Survived\n",
       "0  (-0.08, 16.0]  0.550000\n",
       "1   (16.0, 32.0]  0.337374\n",
       "2   (32.0, 48.0]  0.412037\n",
       "3   (48.0, 64.0]  0.434783\n",
       "4   (64.0, 80.0]  0.090909"
      ]
     },
     "execution_count": 57,
     "metadata": {},
     "output_type": "execute_result"
    }
   ],
   "source": [
    "df_treino['AgeBand'] = pd.cut(df_treino['Age'], 5)\n",
    "df_treino[['AgeBand', 'Survived']].groupby(['AgeBand'], as_index=False).mean().sort_values(by='AgeBand', ascending=True)"
   ]
  },
  {
   "cell_type": "markdown",
   "id": "22b681b6",
   "metadata": {
    "papermill": {
     "duration": 0.040322,
     "end_time": "2022-10-13T22:40:05.931368",
     "exception": false,
     "start_time": "2022-10-13T22:40:05.891046",
     "status": "completed"
    },
    "tags": []
   },
   "source": [
    "Vamos converter os sobrenomes em uma distribuição de frequência "
   ]
  },
  {
   "cell_type": "code",
   "execution_count": 58,
   "id": "3fa07f31",
   "metadata": {
    "execution": {
     "iopub.execute_input": "2022-10-13T22:40:06.026707Z",
     "iopub.status.busy": "2022-10-13T22:40:06.025908Z",
     "iopub.status.idle": "2022-10-13T22:40:06.042130Z",
     "shell.execute_reply": "2022-10-13T22:40:06.041003Z"
    },
    "papermill": {
     "duration": 0.069948,
     "end_time": "2022-10-13T22:40:06.044615",
     "exception": false,
     "start_time": "2022-10-13T22:40:05.974667",
     "status": "completed"
    },
    "tags": []
   },
   "outputs": [
    {
     "data": {
      "text/plain": [
       "0      2\n",
       "1      1\n",
       "2      1\n",
       "3      2\n",
       "4      2\n",
       "      ..\n",
       "886    1\n",
       "887    3\n",
       "888    2\n",
       "889    1\n",
       "890    1\n",
       "Name: SurnameFrequency, Length: 891, dtype: int64"
      ]
     },
     "execution_count": 58,
     "metadata": {},
     "output_type": "execute_result"
    }
   ],
   "source": [
    "surnames = []\n",
    "for dataset in datasets:\n",
    "    surnames = dataset['Surname'].to_list()\n",
    "    \n",
    "    vector_surnames = {}\n",
    "    for surname in surnames:\n",
    "\n",
    "        norm_surname = surname.lower()\n",
    "        if norm_surname in vector_surnames:\n",
    "            vector_surnames[norm_surname] +=1\n",
    "        else:\n",
    "            vector_surnames[norm_surname] = 1\n",
    "            \n",
    "    dataset['SurnameFrequency'] = dataset['Surname'].apply(lambda x: vector_surnames[x.lower()])\n",
    "    \n",
    "    del dataset['Surname']\n",
    "    \n",
    "df_treino['SurnameFrequency']"
   ]
  },
  {
   "cell_type": "markdown",
   "id": "40122c51",
   "metadata": {
    "_cell_guid": "ba4be3a0-e524-9c57-fbec-c8ecc5cde5c6",
    "_uuid": "856392dd415ac14ab74a885a37d068fc7a58f3a5",
    "papermill": {
     "duration": 0.041331,
     "end_time": "2022-10-13T22:40:06.132279",
     "exception": false,
     "start_time": "2022-10-13T22:40:06.090948",
     "status": "completed"
    },
    "tags": []
   },
   "source": [
    "Vamos substituir Age por ordinais baseados nessas faixas."
   ]
  },
  {
   "cell_type": "code",
   "execution_count": 59,
   "id": "41d9d546",
   "metadata": {
    "_cell_guid": "797b986d-2c45-a9ee-e5b5-088de817c8b2",
    "_uuid": "ee13831345f389db407c178f66c19cc8331445b0",
    "execution": {
     "iopub.execute_input": "2022-10-13T22:40:06.221934Z",
     "iopub.status.busy": "2022-10-13T22:40:06.221137Z",
     "iopub.status.idle": "2022-10-13T22:40:06.247503Z",
     "shell.execute_reply": "2022-10-13T22:40:06.246318Z"
    },
    "papermill": {
     "duration": 0.07171,
     "end_time": "2022-10-13T22:40:06.249986",
     "exception": false,
     "start_time": "2022-10-13T22:40:06.178276",
     "status": "completed"
    },
    "tags": []
   },
   "outputs": [
    {
     "data": {
      "text/html": [
       "<div>\n",
       "<style scoped>\n",
       "    .dataframe tbody tr th:only-of-type {\n",
       "        vertical-align: middle;\n",
       "    }\n",
       "\n",
       "    .dataframe tbody tr th {\n",
       "        vertical-align: top;\n",
       "    }\n",
       "\n",
       "    .dataframe thead th {\n",
       "        text-align: right;\n",
       "    }\n",
       "</style>\n",
       "<table border=\"1\" class=\"dataframe\">\n",
       "  <thead>\n",
       "    <tr style=\"text-align: right;\">\n",
       "      <th></th>\n",
       "      <th>Survived</th>\n",
       "      <th>Pclass</th>\n",
       "      <th>Sex</th>\n",
       "      <th>Age</th>\n",
       "      <th>SibSp</th>\n",
       "      <th>Parch</th>\n",
       "      <th>Fare</th>\n",
       "      <th>Embarked</th>\n",
       "      <th>Title</th>\n",
       "      <th>AgeBand</th>\n",
       "      <th>SurnameFrequency</th>\n",
       "    </tr>\n",
       "  </thead>\n",
       "  <tbody>\n",
       "    <tr>\n",
       "      <th>0</th>\n",
       "      <td>0</td>\n",
       "      <td>3</td>\n",
       "      <td>0</td>\n",
       "      <td>1</td>\n",
       "      <td>1</td>\n",
       "      <td>0</td>\n",
       "      <td>7.2500</td>\n",
       "      <td>S</td>\n",
       "      <td>1</td>\n",
       "      <td>(16.0, 32.0]</td>\n",
       "      <td>2</td>\n",
       "    </tr>\n",
       "    <tr>\n",
       "      <th>1</th>\n",
       "      <td>1</td>\n",
       "      <td>1</td>\n",
       "      <td>1</td>\n",
       "      <td>2</td>\n",
       "      <td>1</td>\n",
       "      <td>0</td>\n",
       "      <td>71.2833</td>\n",
       "      <td>C</td>\n",
       "      <td>3</td>\n",
       "      <td>(32.0, 48.0]</td>\n",
       "      <td>1</td>\n",
       "    </tr>\n",
       "    <tr>\n",
       "      <th>2</th>\n",
       "      <td>1</td>\n",
       "      <td>3</td>\n",
       "      <td>1</td>\n",
       "      <td>1</td>\n",
       "      <td>0</td>\n",
       "      <td>0</td>\n",
       "      <td>7.9250</td>\n",
       "      <td>S</td>\n",
       "      <td>2</td>\n",
       "      <td>(16.0, 32.0]</td>\n",
       "      <td>1</td>\n",
       "    </tr>\n",
       "    <tr>\n",
       "      <th>3</th>\n",
       "      <td>1</td>\n",
       "      <td>1</td>\n",
       "      <td>1</td>\n",
       "      <td>2</td>\n",
       "      <td>1</td>\n",
       "      <td>0</td>\n",
       "      <td>53.1000</td>\n",
       "      <td>S</td>\n",
       "      <td>3</td>\n",
       "      <td>(32.0, 48.0]</td>\n",
       "      <td>2</td>\n",
       "    </tr>\n",
       "    <tr>\n",
       "      <th>4</th>\n",
       "      <td>0</td>\n",
       "      <td>3</td>\n",
       "      <td>0</td>\n",
       "      <td>2</td>\n",
       "      <td>0</td>\n",
       "      <td>0</td>\n",
       "      <td>8.0500</td>\n",
       "      <td>S</td>\n",
       "      <td>1</td>\n",
       "      <td>(32.0, 48.0]</td>\n",
       "      <td>2</td>\n",
       "    </tr>\n",
       "  </tbody>\n",
       "</table>\n",
       "</div>"
      ],
      "text/plain": [
       "   Survived  Pclass  Sex  Age  SibSp  Parch     Fare Embarked  Title  \\\n",
       "0         0       3    0    1      1      0   7.2500        S      1   \n",
       "1         1       1    1    2      1      0  71.2833        C      3   \n",
       "2         1       3    1    1      0      0   7.9250        S      2   \n",
       "3         1       1    1    2      1      0  53.1000        S      3   \n",
       "4         0       3    0    2      0      0   8.0500        S      1   \n",
       "\n",
       "        AgeBand  SurnameFrequency  \n",
       "0  (16.0, 32.0]                 2  \n",
       "1  (32.0, 48.0]                 1  \n",
       "2  (16.0, 32.0]                 1  \n",
       "3  (32.0, 48.0]                 2  \n",
       "4  (32.0, 48.0]                 2  "
      ]
     },
     "execution_count": 59,
     "metadata": {},
     "output_type": "execute_result"
    }
   ],
   "source": [
    "for dataset in datasets:    \n",
    "    dataset.loc[ dataset['Age'] <= 16, 'Age'] = 0\n",
    "    dataset.loc[(dataset['Age'] > 16) & (dataset['Age'] <= 32), 'Age'] = 1\n",
    "    dataset.loc[(dataset['Age'] > 32) & (dataset['Age'] <= 48), 'Age'] = 2\n",
    "    dataset.loc[(dataset['Age'] > 48) & (dataset['Age'] <= 64), 'Age'] = 3\n",
    "    dataset.loc[ dataset['Age'] > 64, 'Age']\n",
    "df_treino.head()"
   ]
  },
  {
   "cell_type": "markdown",
   "id": "b8259de1",
   "metadata": {
    "_cell_guid": "004568b6-dd9a-ff89-43d5-13d4e9370b1d",
    "_uuid": "8e3fbc95e0fd6600e28347567416d3f0d77a24cc",
    "papermill": {
     "duration": 0.043904,
     "end_time": "2022-10-13T22:40:06.337016",
     "exception": false,
     "start_time": "2022-10-13T22:40:06.293112",
     "status": "completed"
    },
    "tags": []
   },
   "source": [
    "We can not remove the AgeBand feature."
   ]
  },
  {
   "cell_type": "code",
   "execution_count": 60,
   "id": "e3c9b0af",
   "metadata": {
    "_cell_guid": "875e55d4-51b0-5061-b72c-8a23946133a3",
    "_uuid": "1ea01ccc4a24e8951556d97c990aa0136da19721",
    "execution": {
     "iopub.execute_input": "2022-10-13T22:40:06.423469Z",
     "iopub.status.busy": "2022-10-13T22:40:06.422658Z",
     "iopub.status.idle": "2022-10-13T22:40:06.438303Z",
     "shell.execute_reply": "2022-10-13T22:40:06.437273Z"
    },
    "papermill": {
     "duration": 0.063183,
     "end_time": "2022-10-13T22:40:06.440586",
     "exception": false,
     "start_time": "2022-10-13T22:40:06.377403",
     "status": "completed"
    },
    "tags": []
   },
   "outputs": [
    {
     "data": {
      "text/html": [
       "<div>\n",
       "<style scoped>\n",
       "    .dataframe tbody tr th:only-of-type {\n",
       "        vertical-align: middle;\n",
       "    }\n",
       "\n",
       "    .dataframe tbody tr th {\n",
       "        vertical-align: top;\n",
       "    }\n",
       "\n",
       "    .dataframe thead th {\n",
       "        text-align: right;\n",
       "    }\n",
       "</style>\n",
       "<table border=\"1\" class=\"dataframe\">\n",
       "  <thead>\n",
       "    <tr style=\"text-align: right;\">\n",
       "      <th></th>\n",
       "      <th>Survived</th>\n",
       "      <th>Pclass</th>\n",
       "      <th>Sex</th>\n",
       "      <th>Age</th>\n",
       "      <th>SibSp</th>\n",
       "      <th>Parch</th>\n",
       "      <th>Fare</th>\n",
       "      <th>Embarked</th>\n",
       "      <th>Title</th>\n",
       "      <th>SurnameFrequency</th>\n",
       "    </tr>\n",
       "  </thead>\n",
       "  <tbody>\n",
       "    <tr>\n",
       "      <th>0</th>\n",
       "      <td>0</td>\n",
       "      <td>3</td>\n",
       "      <td>0</td>\n",
       "      <td>1</td>\n",
       "      <td>1</td>\n",
       "      <td>0</td>\n",
       "      <td>7.2500</td>\n",
       "      <td>S</td>\n",
       "      <td>1</td>\n",
       "      <td>2</td>\n",
       "    </tr>\n",
       "    <tr>\n",
       "      <th>1</th>\n",
       "      <td>1</td>\n",
       "      <td>1</td>\n",
       "      <td>1</td>\n",
       "      <td>2</td>\n",
       "      <td>1</td>\n",
       "      <td>0</td>\n",
       "      <td>71.2833</td>\n",
       "      <td>C</td>\n",
       "      <td>3</td>\n",
       "      <td>1</td>\n",
       "    </tr>\n",
       "    <tr>\n",
       "      <th>2</th>\n",
       "      <td>1</td>\n",
       "      <td>3</td>\n",
       "      <td>1</td>\n",
       "      <td>1</td>\n",
       "      <td>0</td>\n",
       "      <td>0</td>\n",
       "      <td>7.9250</td>\n",
       "      <td>S</td>\n",
       "      <td>2</td>\n",
       "      <td>1</td>\n",
       "    </tr>\n",
       "    <tr>\n",
       "      <th>3</th>\n",
       "      <td>1</td>\n",
       "      <td>1</td>\n",
       "      <td>1</td>\n",
       "      <td>2</td>\n",
       "      <td>1</td>\n",
       "      <td>0</td>\n",
       "      <td>53.1000</td>\n",
       "      <td>S</td>\n",
       "      <td>3</td>\n",
       "      <td>2</td>\n",
       "    </tr>\n",
       "    <tr>\n",
       "      <th>4</th>\n",
       "      <td>0</td>\n",
       "      <td>3</td>\n",
       "      <td>0</td>\n",
       "      <td>2</td>\n",
       "      <td>0</td>\n",
       "      <td>0</td>\n",
       "      <td>8.0500</td>\n",
       "      <td>S</td>\n",
       "      <td>1</td>\n",
       "      <td>2</td>\n",
       "    </tr>\n",
       "  </tbody>\n",
       "</table>\n",
       "</div>"
      ],
      "text/plain": [
       "   Survived  Pclass  Sex  Age  SibSp  Parch     Fare Embarked  Title  \\\n",
       "0         0       3    0    1      1      0   7.2500        S      1   \n",
       "1         1       1    1    2      1      0  71.2833        C      3   \n",
       "2         1       3    1    1      0      0   7.9250        S      2   \n",
       "3         1       1    1    2      1      0  53.1000        S      3   \n",
       "4         0       3    0    2      0      0   8.0500        S      1   \n",
       "\n",
       "   SurnameFrequency  \n",
       "0                 2  \n",
       "1                 1  \n",
       "2                 1  \n",
       "3                 2  \n",
       "4                 2  "
      ]
     },
     "execution_count": 60,
     "metadata": {},
     "output_type": "execute_result"
    }
   ],
   "source": [
    "df_treino = df_treino.drop(['AgeBand'], axis=1)\n",
    "datasets = [df_treino, df_test]\n",
    "df_treino.head()"
   ]
  },
  {
   "cell_type": "markdown",
   "id": "53f8fe32",
   "metadata": {
    "_cell_guid": "1c237b76-d7ac-098f-0156-480a838a64a9",
    "_uuid": "e3d4a2040c053fbd0486c8cfc4fec3224bd3ebb3",
    "papermill": {
     "duration": 0.039523,
     "end_time": "2022-10-13T22:40:06.520372",
     "exception": false,
     "start_time": "2022-10-13T22:40:06.480849",
     "status": "completed"
    },
    "tags": []
   },
   "source": [
    "### Criar uma nova variável combinando variáveis existentes\n",
    "\n",
    "Podemos criar uma nova variável para tamanho da familia que combina Parch e SibSp. Isso nos permitirá remover Parch e SibSp de nossos conjuntos de dados."
   ]
  },
  {
   "cell_type": "code",
   "execution_count": 61,
   "id": "148984d1",
   "metadata": {
    "_cell_guid": "7e6c04ed-cfaa-3139-4378-574fd095d6ba",
    "_uuid": "33d1236ce4a8ab888b9fac2d5af1c78d174b32c7",
    "execution": {
     "iopub.execute_input": "2022-10-13T22:40:06.602475Z",
     "iopub.status.busy": "2022-10-13T22:40:06.601673Z",
     "iopub.status.idle": "2022-10-13T22:40:06.618598Z",
     "shell.execute_reply": "2022-10-13T22:40:06.617585Z"
    },
    "papermill": {
     "duration": 0.060536,
     "end_time": "2022-10-13T22:40:06.620887",
     "exception": false,
     "start_time": "2022-10-13T22:40:06.560351",
     "status": "completed"
    },
    "tags": []
   },
   "outputs": [
    {
     "data": {
      "text/html": [
       "<div>\n",
       "<style scoped>\n",
       "    .dataframe tbody tr th:only-of-type {\n",
       "        vertical-align: middle;\n",
       "    }\n",
       "\n",
       "    .dataframe tbody tr th {\n",
       "        vertical-align: top;\n",
       "    }\n",
       "\n",
       "    .dataframe thead th {\n",
       "        text-align: right;\n",
       "    }\n",
       "</style>\n",
       "<table border=\"1\" class=\"dataframe\">\n",
       "  <thead>\n",
       "    <tr style=\"text-align: right;\">\n",
       "      <th></th>\n",
       "      <th>FamilySize</th>\n",
       "      <th>Survived</th>\n",
       "    </tr>\n",
       "  </thead>\n",
       "  <tbody>\n",
       "    <tr>\n",
       "      <th>3</th>\n",
       "      <td>4</td>\n",
       "      <td>0.724138</td>\n",
       "    </tr>\n",
       "    <tr>\n",
       "      <th>2</th>\n",
       "      <td>3</td>\n",
       "      <td>0.578431</td>\n",
       "    </tr>\n",
       "    <tr>\n",
       "      <th>1</th>\n",
       "      <td>2</td>\n",
       "      <td>0.552795</td>\n",
       "    </tr>\n",
       "    <tr>\n",
       "      <th>6</th>\n",
       "      <td>7</td>\n",
       "      <td>0.333333</td>\n",
       "    </tr>\n",
       "    <tr>\n",
       "      <th>0</th>\n",
       "      <td>1</td>\n",
       "      <td>0.303538</td>\n",
       "    </tr>\n",
       "    <tr>\n",
       "      <th>4</th>\n",
       "      <td>5</td>\n",
       "      <td>0.200000</td>\n",
       "    </tr>\n",
       "    <tr>\n",
       "      <th>5</th>\n",
       "      <td>6</td>\n",
       "      <td>0.136364</td>\n",
       "    </tr>\n",
       "    <tr>\n",
       "      <th>7</th>\n",
       "      <td>8</td>\n",
       "      <td>0.000000</td>\n",
       "    </tr>\n",
       "    <tr>\n",
       "      <th>8</th>\n",
       "      <td>11</td>\n",
       "      <td>0.000000</td>\n",
       "    </tr>\n",
       "  </tbody>\n",
       "</table>\n",
       "</div>"
      ],
      "text/plain": [
       "   FamilySize  Survived\n",
       "3           4  0.724138\n",
       "2           3  0.578431\n",
       "1           2  0.552795\n",
       "6           7  0.333333\n",
       "0           1  0.303538\n",
       "4           5  0.200000\n",
       "5           6  0.136364\n",
       "7           8  0.000000\n",
       "8          11  0.000000"
      ]
     },
     "execution_count": 61,
     "metadata": {},
     "output_type": "execute_result"
    }
   ],
   "source": [
    "for dataset in datasets:\n",
    "    dataset['FamilySize'] = dataset['SibSp'] + dataset['Parch'] + 1\n",
    "\n",
    "df_treino[['FamilySize', 'Survived']].groupby(['FamilySize'], as_index=False).mean().sort_values(by='Survived', ascending=False)"
   ]
  },
  {
   "cell_type": "markdown",
   "id": "9da6c0e9",
   "metadata": {
    "_cell_guid": "842188e6-acf8-2476-ccec-9e3451e4fa86",
    "_uuid": "67f8e4474cd1ecf4261c153ce8b40ea23cf659e4",
    "papermill": {
     "duration": 0.039875,
     "end_time": "2022-10-13T22:40:06.701175",
     "exception": false,
     "start_time": "2022-10-13T22:40:06.661300",
     "status": "completed"
    },
    "tags": []
   },
   "source": [
    "Podemos criar outra variável chamado para quem estava sozinho."
   ]
  },
  {
   "cell_type": "code",
   "execution_count": 62,
   "id": "db77b183",
   "metadata": {
    "_cell_guid": "5c778c69-a9ae-1b6b-44fe-a0898d07be7a",
    "_uuid": "3b8db81cc3513b088c6bcd9cd1938156fe77992f",
    "execution": {
     "iopub.execute_input": "2022-10-13T22:40:06.783961Z",
     "iopub.status.busy": "2022-10-13T22:40:06.783184Z",
     "iopub.status.idle": "2022-10-13T22:40:06.799662Z",
     "shell.execute_reply": "2022-10-13T22:40:06.798655Z"
    },
    "papermill": {
     "duration": 0.060542,
     "end_time": "2022-10-13T22:40:06.801919",
     "exception": false,
     "start_time": "2022-10-13T22:40:06.741377",
     "status": "completed"
    },
    "tags": []
   },
   "outputs": [
    {
     "data": {
      "text/html": [
       "<div>\n",
       "<style scoped>\n",
       "    .dataframe tbody tr th:only-of-type {\n",
       "        vertical-align: middle;\n",
       "    }\n",
       "\n",
       "    .dataframe tbody tr th {\n",
       "        vertical-align: top;\n",
       "    }\n",
       "\n",
       "    .dataframe thead th {\n",
       "        text-align: right;\n",
       "    }\n",
       "</style>\n",
       "<table border=\"1\" class=\"dataframe\">\n",
       "  <thead>\n",
       "    <tr style=\"text-align: right;\">\n",
       "      <th></th>\n",
       "      <th>IsAlone</th>\n",
       "      <th>Survived</th>\n",
       "    </tr>\n",
       "  </thead>\n",
       "  <tbody>\n",
       "    <tr>\n",
       "      <th>0</th>\n",
       "      <td>0</td>\n",
       "      <td>0.505650</td>\n",
       "    </tr>\n",
       "    <tr>\n",
       "      <th>1</th>\n",
       "      <td>1</td>\n",
       "      <td>0.303538</td>\n",
       "    </tr>\n",
       "  </tbody>\n",
       "</table>\n",
       "</div>"
      ],
      "text/plain": [
       "   IsAlone  Survived\n",
       "0        0  0.505650\n",
       "1        1  0.303538"
      ]
     },
     "execution_count": 62,
     "metadata": {},
     "output_type": "execute_result"
    }
   ],
   "source": [
    "for dataset in datasets:\n",
    "    dataset['IsAlone'] = 0\n",
    "    dataset.loc[dataset['FamilySize'] == 1, 'IsAlone'] = 1\n",
    "\n",
    "df_treino[['IsAlone', 'Survived']].groupby(['IsAlone'], as_index=False).mean()"
   ]
  },
  {
   "cell_type": "markdown",
   "id": "52336cb6",
   "metadata": {
    "_cell_guid": "e6b87c09-e7b2-f098-5b04-4360080d26bc",
    "_uuid": "3da4204b2c78faa54a94bbad78a8aa85fbf90c87",
    "papermill": {
     "duration": 0.039806,
     "end_time": "2022-10-13T22:40:06.882397",
     "exception": false,
     "start_time": "2022-10-13T22:40:06.842591",
     "status": "completed"
    },
    "tags": []
   },
   "source": [
    "Deixemos de lado os as variáveis Parch, SibSp e FamilySize em favor do IsAlone."
   ]
  },
  {
   "cell_type": "code",
   "execution_count": 63,
   "id": "5ffb2494",
   "metadata": {
    "_cell_guid": "74ee56a6-7357-f3bc-b605-6c41f8aa6566",
    "_uuid": "1e3479690ef7cd8ee10538d4f39d7117246887f0",
    "execution": {
     "iopub.execute_input": "2022-10-13T22:40:06.965943Z",
     "iopub.status.busy": "2022-10-13T22:40:06.965169Z",
     "iopub.status.idle": "2022-10-13T22:40:06.981889Z",
     "shell.execute_reply": "2022-10-13T22:40:06.980759Z"
    },
    "papermill": {
     "duration": 0.061425,
     "end_time": "2022-10-13T22:40:06.984044",
     "exception": false,
     "start_time": "2022-10-13T22:40:06.922619",
     "status": "completed"
    },
    "tags": []
   },
   "outputs": [
    {
     "data": {
      "text/html": [
       "<div>\n",
       "<style scoped>\n",
       "    .dataframe tbody tr th:only-of-type {\n",
       "        vertical-align: middle;\n",
       "    }\n",
       "\n",
       "    .dataframe tbody tr th {\n",
       "        vertical-align: top;\n",
       "    }\n",
       "\n",
       "    .dataframe thead th {\n",
       "        text-align: right;\n",
       "    }\n",
       "</style>\n",
       "<table border=\"1\" class=\"dataframe\">\n",
       "  <thead>\n",
       "    <tr style=\"text-align: right;\">\n",
       "      <th></th>\n",
       "      <th>Survived</th>\n",
       "      <th>Pclass</th>\n",
       "      <th>Sex</th>\n",
       "      <th>Age</th>\n",
       "      <th>Fare</th>\n",
       "      <th>Embarked</th>\n",
       "      <th>Title</th>\n",
       "      <th>SurnameFrequency</th>\n",
       "      <th>IsAlone</th>\n",
       "    </tr>\n",
       "  </thead>\n",
       "  <tbody>\n",
       "    <tr>\n",
       "      <th>0</th>\n",
       "      <td>0</td>\n",
       "      <td>3</td>\n",
       "      <td>0</td>\n",
       "      <td>1</td>\n",
       "      <td>7.2500</td>\n",
       "      <td>S</td>\n",
       "      <td>1</td>\n",
       "      <td>2</td>\n",
       "      <td>0</td>\n",
       "    </tr>\n",
       "    <tr>\n",
       "      <th>1</th>\n",
       "      <td>1</td>\n",
       "      <td>1</td>\n",
       "      <td>1</td>\n",
       "      <td>2</td>\n",
       "      <td>71.2833</td>\n",
       "      <td>C</td>\n",
       "      <td>3</td>\n",
       "      <td>1</td>\n",
       "      <td>0</td>\n",
       "    </tr>\n",
       "    <tr>\n",
       "      <th>2</th>\n",
       "      <td>1</td>\n",
       "      <td>3</td>\n",
       "      <td>1</td>\n",
       "      <td>1</td>\n",
       "      <td>7.9250</td>\n",
       "      <td>S</td>\n",
       "      <td>2</td>\n",
       "      <td>1</td>\n",
       "      <td>1</td>\n",
       "    </tr>\n",
       "    <tr>\n",
       "      <th>3</th>\n",
       "      <td>1</td>\n",
       "      <td>1</td>\n",
       "      <td>1</td>\n",
       "      <td>2</td>\n",
       "      <td>53.1000</td>\n",
       "      <td>S</td>\n",
       "      <td>3</td>\n",
       "      <td>2</td>\n",
       "      <td>0</td>\n",
       "    </tr>\n",
       "    <tr>\n",
       "      <th>4</th>\n",
       "      <td>0</td>\n",
       "      <td>3</td>\n",
       "      <td>0</td>\n",
       "      <td>2</td>\n",
       "      <td>8.0500</td>\n",
       "      <td>S</td>\n",
       "      <td>1</td>\n",
       "      <td>2</td>\n",
       "      <td>1</td>\n",
       "    </tr>\n",
       "  </tbody>\n",
       "</table>\n",
       "</div>"
      ],
      "text/plain": [
       "   Survived  Pclass  Sex  Age     Fare Embarked  Title  SurnameFrequency  \\\n",
       "0         0       3    0    1   7.2500        S      1                 2   \n",
       "1         1       1    1    2  71.2833        C      3                 1   \n",
       "2         1       3    1    1   7.9250        S      2                 1   \n",
       "3         1       1    1    2  53.1000        S      3                 2   \n",
       "4         0       3    0    2   8.0500        S      1                 2   \n",
       "\n",
       "   IsAlone  \n",
       "0        0  \n",
       "1        0  \n",
       "2        1  \n",
       "3        0  \n",
       "4        1  "
      ]
     },
     "execution_count": 63,
     "metadata": {},
     "output_type": "execute_result"
    }
   ],
   "source": [
    "df_treino = df_treino.drop(['Parch', 'SibSp', 'FamilySize'], axis=1)\n",
    "df_test = df_test.drop(['Parch', 'SibSp', 'FamilySize'], axis=1)\n",
    "datasets = [df_treino, df_test]\n",
    "\n",
    "df_treino.head()"
   ]
  },
  {
   "cell_type": "markdown",
   "id": "6ac65cae",
   "metadata": {
    "_cell_guid": "f890b730-b1fe-919e-fb07-352fbd7edd44",
    "_uuid": "71b800ed96407eba05220f76a1288366a22ec887",
    "papermill": {
     "duration": 0.040374,
     "end_time": "2022-10-13T22:40:07.066086",
     "exception": false,
     "start_time": "2022-10-13T22:40:07.025712",
     "status": "completed"
    },
    "tags": []
   },
   "source": [
    "Também podemos criar uma variável artificial combinando Pclass e Age."
   ]
  },
  {
   "cell_type": "code",
   "execution_count": 64,
   "id": "dc0b2f7e",
   "metadata": {
    "_cell_guid": "305402aa-1ea1-c245-c367-056eef8fe453",
    "_uuid": "aac2c5340c06210a8b0199e15461e9049fbf2cff",
    "execution": {
     "iopub.execute_input": "2022-10-13T22:40:07.151207Z",
     "iopub.status.busy": "2022-10-13T22:40:07.150159Z",
     "iopub.status.idle": "2022-10-13T22:40:07.163587Z",
     "shell.execute_reply": "2022-10-13T22:40:07.162711Z"
    },
    "papermill": {
     "duration": 0.057583,
     "end_time": "2022-10-13T22:40:07.165641",
     "exception": false,
     "start_time": "2022-10-13T22:40:07.108058",
     "status": "completed"
    },
    "tags": []
   },
   "outputs": [
    {
     "data": {
      "text/html": [
       "<div>\n",
       "<style scoped>\n",
       "    .dataframe tbody tr th:only-of-type {\n",
       "        vertical-align: middle;\n",
       "    }\n",
       "\n",
       "    .dataframe tbody tr th {\n",
       "        vertical-align: top;\n",
       "    }\n",
       "\n",
       "    .dataframe thead th {\n",
       "        text-align: right;\n",
       "    }\n",
       "</style>\n",
       "<table border=\"1\" class=\"dataframe\">\n",
       "  <thead>\n",
       "    <tr style=\"text-align: right;\">\n",
       "      <th></th>\n",
       "      <th>Age*Class</th>\n",
       "      <th>Age</th>\n",
       "      <th>Pclass</th>\n",
       "    </tr>\n",
       "  </thead>\n",
       "  <tbody>\n",
       "    <tr>\n",
       "      <th>0</th>\n",
       "      <td>3</td>\n",
       "      <td>1</td>\n",
       "      <td>3</td>\n",
       "    </tr>\n",
       "    <tr>\n",
       "      <th>1</th>\n",
       "      <td>2</td>\n",
       "      <td>2</td>\n",
       "      <td>1</td>\n",
       "    </tr>\n",
       "    <tr>\n",
       "      <th>2</th>\n",
       "      <td>3</td>\n",
       "      <td>1</td>\n",
       "      <td>3</td>\n",
       "    </tr>\n",
       "    <tr>\n",
       "      <th>3</th>\n",
       "      <td>2</td>\n",
       "      <td>2</td>\n",
       "      <td>1</td>\n",
       "    </tr>\n",
       "    <tr>\n",
       "      <th>4</th>\n",
       "      <td>6</td>\n",
       "      <td>2</td>\n",
       "      <td>3</td>\n",
       "    </tr>\n",
       "    <tr>\n",
       "      <th>5</th>\n",
       "      <td>3</td>\n",
       "      <td>1</td>\n",
       "      <td>3</td>\n",
       "    </tr>\n",
       "    <tr>\n",
       "      <th>6</th>\n",
       "      <td>3</td>\n",
       "      <td>3</td>\n",
       "      <td>1</td>\n",
       "    </tr>\n",
       "    <tr>\n",
       "      <th>7</th>\n",
       "      <td>0</td>\n",
       "      <td>0</td>\n",
       "      <td>3</td>\n",
       "    </tr>\n",
       "    <tr>\n",
       "      <th>8</th>\n",
       "      <td>3</td>\n",
       "      <td>1</td>\n",
       "      <td>3</td>\n",
       "    </tr>\n",
       "    <tr>\n",
       "      <th>9</th>\n",
       "      <td>0</td>\n",
       "      <td>0</td>\n",
       "      <td>2</td>\n",
       "    </tr>\n",
       "  </tbody>\n",
       "</table>\n",
       "</div>"
      ],
      "text/plain": [
       "   Age*Class  Age  Pclass\n",
       "0          3    1       3\n",
       "1          2    2       1\n",
       "2          3    1       3\n",
       "3          2    2       1\n",
       "4          6    2       3\n",
       "5          3    1       3\n",
       "6          3    3       1\n",
       "7          0    0       3\n",
       "8          3    1       3\n",
       "9          0    0       2"
      ]
     },
     "execution_count": 64,
     "metadata": {},
     "output_type": "execute_result"
    }
   ],
   "source": [
    "for dataset in datasets:\n",
    "    dataset['Age*Class'] = dataset.Age * dataset.Pclass\n",
    "\n",
    "df_treino.loc[:, ['Age*Class', 'Age', 'Pclass']].head(10)"
   ]
  },
  {
   "cell_type": "markdown",
   "id": "c9d3c7b2",
   "metadata": {
    "_cell_guid": "13292c1b-020d-d9aa-525c-941331bb996a",
    "_uuid": "8264cc5676db8cd3e0b3e3f078cbaa74fd585a3c",
    "papermill": {
     "duration": 0.040532,
     "end_time": "2022-10-13T22:40:07.247294",
     "exception": false,
     "start_time": "2022-10-13T22:40:07.206762",
     "status": "completed"
    },
    "tags": []
   },
   "source": [
    "### Concluindo um recurso categórico\n",
    "\n",
    "A variável Embarked leva os valores S, Q, C com base no porto de embarque. Nosso conjunto de dados de treinamento tem dois valores ausentes. Nós simplesmente os preenchemos com a ocorrência mais comum."
   ]
  },
  {
   "cell_type": "code",
   "execution_count": 65,
   "id": "fa3d4164",
   "metadata": {
    "_cell_guid": "bf351113-9b7f-ef56-7211-e8dd00665b18",
    "_uuid": "1e3f8af166f60a1b3125a6b046eff5fff02d63cf",
    "execution": {
     "iopub.execute_input": "2022-10-13T22:40:07.330947Z",
     "iopub.status.busy": "2022-10-13T22:40:07.330229Z",
     "iopub.status.idle": "2022-10-13T22:40:07.338602Z",
     "shell.execute_reply": "2022-10-13T22:40:07.337518Z"
    },
    "papermill": {
     "duration": 0.052574,
     "end_time": "2022-10-13T22:40:07.340703",
     "exception": false,
     "start_time": "2022-10-13T22:40:07.288129",
     "status": "completed"
    },
    "tags": []
   },
   "outputs": [
    {
     "data": {
      "text/plain": [
       "'S'"
      ]
     },
     "execution_count": 65,
     "metadata": {},
     "output_type": "execute_result"
    }
   ],
   "source": [
    "freq_port = df_treino.Embarked.dropna().mode()[0]\n",
    "freq_port"
   ]
  },
  {
   "cell_type": "code",
   "execution_count": 66,
   "id": "9348b8e3",
   "metadata": {
    "_cell_guid": "51c21fcc-f066-cd80-18c8-3d140be6cbae",
    "_uuid": "d85b5575fb45f25749298641f6a0a38803e1ff22",
    "execution": {
     "iopub.execute_input": "2022-10-13T22:40:07.424681Z",
     "iopub.status.busy": "2022-10-13T22:40:07.423863Z",
     "iopub.status.idle": "2022-10-13T22:40:07.441531Z",
     "shell.execute_reply": "2022-10-13T22:40:07.440348Z"
    },
    "papermill": {
     "duration": 0.062107,
     "end_time": "2022-10-13T22:40:07.443974",
     "exception": false,
     "start_time": "2022-10-13T22:40:07.381867",
     "status": "completed"
    },
    "tags": []
   },
   "outputs": [
    {
     "data": {
      "text/html": [
       "<div>\n",
       "<style scoped>\n",
       "    .dataframe tbody tr th:only-of-type {\n",
       "        vertical-align: middle;\n",
       "    }\n",
       "\n",
       "    .dataframe tbody tr th {\n",
       "        vertical-align: top;\n",
       "    }\n",
       "\n",
       "    .dataframe thead th {\n",
       "        text-align: right;\n",
       "    }\n",
       "</style>\n",
       "<table border=\"1\" class=\"dataframe\">\n",
       "  <thead>\n",
       "    <tr style=\"text-align: right;\">\n",
       "      <th></th>\n",
       "      <th>Embarked</th>\n",
       "      <th>Survived</th>\n",
       "    </tr>\n",
       "  </thead>\n",
       "  <tbody>\n",
       "    <tr>\n",
       "      <th>0</th>\n",
       "      <td>C</td>\n",
       "      <td>0.553571</td>\n",
       "    </tr>\n",
       "    <tr>\n",
       "      <th>1</th>\n",
       "      <td>Q</td>\n",
       "      <td>0.389610</td>\n",
       "    </tr>\n",
       "    <tr>\n",
       "      <th>2</th>\n",
       "      <td>S</td>\n",
       "      <td>0.339009</td>\n",
       "    </tr>\n",
       "  </tbody>\n",
       "</table>\n",
       "</div>"
      ],
      "text/plain": [
       "  Embarked  Survived\n",
       "0        C  0.553571\n",
       "1        Q  0.389610\n",
       "2        S  0.339009"
      ]
     },
     "execution_count": 66,
     "metadata": {},
     "output_type": "execute_result"
    }
   ],
   "source": [
    "for dataset in datasets:\n",
    "    dataset['Embarked'] = dataset['Embarked'].fillna(freq_port)\n",
    "    \n",
    "df_treino[['Embarked', 'Survived']].groupby(['Embarked'], as_index=False).mean().sort_values(by='Survived', ascending=False)"
   ]
  },
  {
   "cell_type": "markdown",
   "id": "0b45a15d",
   "metadata": {
    "_cell_guid": "f6acf7b2-0db3-e583-de50-7e14b495de34",
    "_uuid": "d8830e997995145314328b6218b5606df04499b0",
    "papermill": {
     "duration": 0.040895,
     "end_time": "2022-10-13T22:40:07.526257",
     "exception": false,
     "start_time": "2022-10-13T22:40:07.485362",
     "status": "completed"
    },
    "tags": []
   },
   "source": [
    "### Convertendo recurso categórico em numérico\n",
    "\n",
    "Agora podemos converter o recurso Embarked criando uma nova variável numérica."
   ]
  },
  {
   "cell_type": "code",
   "execution_count": 67,
   "id": "3db2b282",
   "metadata": {
    "_cell_guid": "89a91d76-2cc0-9bbb-c5c5-3c9ecae33c66",
    "_uuid": "e480a1ef145de0b023821134896391d568a6f4f9",
    "execution": {
     "iopub.execute_input": "2022-10-13T22:40:07.610762Z",
     "iopub.status.busy": "2022-10-13T22:40:07.610336Z",
     "iopub.status.idle": "2022-10-13T22:40:07.629196Z",
     "shell.execute_reply": "2022-10-13T22:40:07.628349Z"
    },
    "papermill": {
     "duration": 0.063852,
     "end_time": "2022-10-13T22:40:07.631330",
     "exception": false,
     "start_time": "2022-10-13T22:40:07.567478",
     "status": "completed"
    },
    "tags": []
   },
   "outputs": [
    {
     "data": {
      "text/html": [
       "<div>\n",
       "<style scoped>\n",
       "    .dataframe tbody tr th:only-of-type {\n",
       "        vertical-align: middle;\n",
       "    }\n",
       "\n",
       "    .dataframe tbody tr th {\n",
       "        vertical-align: top;\n",
       "    }\n",
       "\n",
       "    .dataframe thead th {\n",
       "        text-align: right;\n",
       "    }\n",
       "</style>\n",
       "<table border=\"1\" class=\"dataframe\">\n",
       "  <thead>\n",
       "    <tr style=\"text-align: right;\">\n",
       "      <th></th>\n",
       "      <th>Survived</th>\n",
       "      <th>Pclass</th>\n",
       "      <th>Sex</th>\n",
       "      <th>Age</th>\n",
       "      <th>Fare</th>\n",
       "      <th>Embarked</th>\n",
       "      <th>Title</th>\n",
       "      <th>SurnameFrequency</th>\n",
       "      <th>IsAlone</th>\n",
       "      <th>Age*Class</th>\n",
       "    </tr>\n",
       "  </thead>\n",
       "  <tbody>\n",
       "    <tr>\n",
       "      <th>0</th>\n",
       "      <td>0</td>\n",
       "      <td>3</td>\n",
       "      <td>0</td>\n",
       "      <td>1</td>\n",
       "      <td>7.2500</td>\n",
       "      <td>0</td>\n",
       "      <td>1</td>\n",
       "      <td>2</td>\n",
       "      <td>0</td>\n",
       "      <td>3</td>\n",
       "    </tr>\n",
       "    <tr>\n",
       "      <th>1</th>\n",
       "      <td>1</td>\n",
       "      <td>1</td>\n",
       "      <td>1</td>\n",
       "      <td>2</td>\n",
       "      <td>71.2833</td>\n",
       "      <td>1</td>\n",
       "      <td>3</td>\n",
       "      <td>1</td>\n",
       "      <td>0</td>\n",
       "      <td>2</td>\n",
       "    </tr>\n",
       "    <tr>\n",
       "      <th>2</th>\n",
       "      <td>1</td>\n",
       "      <td>3</td>\n",
       "      <td>1</td>\n",
       "      <td>1</td>\n",
       "      <td>7.9250</td>\n",
       "      <td>0</td>\n",
       "      <td>2</td>\n",
       "      <td>1</td>\n",
       "      <td>1</td>\n",
       "      <td>3</td>\n",
       "    </tr>\n",
       "    <tr>\n",
       "      <th>3</th>\n",
       "      <td>1</td>\n",
       "      <td>1</td>\n",
       "      <td>1</td>\n",
       "      <td>2</td>\n",
       "      <td>53.1000</td>\n",
       "      <td>0</td>\n",
       "      <td>3</td>\n",
       "      <td>2</td>\n",
       "      <td>0</td>\n",
       "      <td>2</td>\n",
       "    </tr>\n",
       "    <tr>\n",
       "      <th>4</th>\n",
       "      <td>0</td>\n",
       "      <td>3</td>\n",
       "      <td>0</td>\n",
       "      <td>2</td>\n",
       "      <td>8.0500</td>\n",
       "      <td>0</td>\n",
       "      <td>1</td>\n",
       "      <td>2</td>\n",
       "      <td>1</td>\n",
       "      <td>6</td>\n",
       "    </tr>\n",
       "  </tbody>\n",
       "</table>\n",
       "</div>"
      ],
      "text/plain": [
       "   Survived  Pclass  Sex  Age     Fare  Embarked  Title  SurnameFrequency  \\\n",
       "0         0       3    0    1   7.2500         0      1                 2   \n",
       "1         1       1    1    2  71.2833         1      3                 1   \n",
       "2         1       3    1    1   7.9250         0      2                 1   \n",
       "3         1       1    1    2  53.1000         0      3                 2   \n",
       "4         0       3    0    2   8.0500         0      1                 2   \n",
       "\n",
       "   IsAlone  Age*Class  \n",
       "0        0          3  \n",
       "1        0          2  \n",
       "2        1          3  \n",
       "3        0          2  \n",
       "4        1          6  "
      ]
     },
     "execution_count": 67,
     "metadata": {},
     "output_type": "execute_result"
    }
   ],
   "source": [
    "for dataset in datasets:\n",
    "    dataset['Embarked'] = dataset['Embarked'].map( {'S': 0, 'C': 1, 'Q': 2} ).astype(int)\n",
    "\n",
    "df_treino.head()"
   ]
  },
  {
   "cell_type": "markdown",
   "id": "65980925",
   "metadata": {
    "_cell_guid": "e3dfc817-e1c1-a274-a111-62c1c814cecf",
    "_uuid": "d79834ebc4ab9d48ed404584711475dbf8611b91",
    "papermill": {
     "duration": 0.040804,
     "end_time": "2022-10-13T22:40:07.713742",
     "exception": false,
     "start_time": "2022-10-13T22:40:07.672938",
     "status": "completed"
    },
    "tags": []
   },
   "source": [
    "### Conclusão e conversão rápida de um recurso numérico\n",
    "\n",
    "Agora podemos concluir o recurso Tarifa para um único valor ausente no conjunto de dados de teste usando o modo para obter o valor que ocorre com mais frequência para esse recurso. Fazemos isso em uma única linha de código.\n",
    "\n",
    "Observe que não estamos criando um novo recurso intermediário ou fazendo qualquer análise adicional de correlação para adivinhar a variável ausente, pois estamos substituindo apenas um único valor. A meta de conclusão atinge o requisito desejado para que o algoritmo do modelo opere em valores não nulos.\n",
    "\n",
    "Também podemos querer arredondar a tarifa para duas casas decimais, pois representa a moeda."
   ]
  },
  {
   "cell_type": "code",
   "execution_count": 68,
   "id": "d5db003d",
   "metadata": {
    "_cell_guid": "3600cb86-cf5f-d87b-1b33-638dc8db1564",
    "_uuid": "aacb62f3526072a84795a178bd59222378bab180",
    "execution": {
     "iopub.execute_input": "2022-10-13T22:40:07.800343Z",
     "iopub.status.busy": "2022-10-13T22:40:07.799650Z",
     "iopub.status.idle": "2022-10-13T22:40:07.814630Z",
     "shell.execute_reply": "2022-10-13T22:40:07.813397Z"
    },
    "papermill": {
     "duration": 0.05989,
     "end_time": "2022-10-13T22:40:07.816879",
     "exception": false,
     "start_time": "2022-10-13T22:40:07.756989",
     "status": "completed"
    },
    "tags": []
   },
   "outputs": [
    {
     "data": {
      "text/html": [
       "<div>\n",
       "<style scoped>\n",
       "    .dataframe tbody tr th:only-of-type {\n",
       "        vertical-align: middle;\n",
       "    }\n",
       "\n",
       "    .dataframe tbody tr th {\n",
       "        vertical-align: top;\n",
       "    }\n",
       "\n",
       "    .dataframe thead th {\n",
       "        text-align: right;\n",
       "    }\n",
       "</style>\n",
       "<table border=\"1\" class=\"dataframe\">\n",
       "  <thead>\n",
       "    <tr style=\"text-align: right;\">\n",
       "      <th></th>\n",
       "      <th>PassengerId</th>\n",
       "      <th>Pclass</th>\n",
       "      <th>Sex</th>\n",
       "      <th>Age</th>\n",
       "      <th>Fare</th>\n",
       "      <th>Embarked</th>\n",
       "      <th>Title</th>\n",
       "      <th>SurnameFrequency</th>\n",
       "      <th>IsAlone</th>\n",
       "      <th>Age*Class</th>\n",
       "    </tr>\n",
       "  </thead>\n",
       "  <tbody>\n",
       "    <tr>\n",
       "      <th>0</th>\n",
       "      <td>892</td>\n",
       "      <td>3</td>\n",
       "      <td>0</td>\n",
       "      <td>2</td>\n",
       "      <td>7.8292</td>\n",
       "      <td>2</td>\n",
       "      <td>1</td>\n",
       "      <td>1</td>\n",
       "      <td>1</td>\n",
       "      <td>6</td>\n",
       "    </tr>\n",
       "    <tr>\n",
       "      <th>1</th>\n",
       "      <td>893</td>\n",
       "      <td>3</td>\n",
       "      <td>1</td>\n",
       "      <td>2</td>\n",
       "      <td>7.0000</td>\n",
       "      <td>0</td>\n",
       "      <td>3</td>\n",
       "      <td>1</td>\n",
       "      <td>0</td>\n",
       "      <td>6</td>\n",
       "    </tr>\n",
       "    <tr>\n",
       "      <th>2</th>\n",
       "      <td>894</td>\n",
       "      <td>2</td>\n",
       "      <td>0</td>\n",
       "      <td>3</td>\n",
       "      <td>9.6875</td>\n",
       "      <td>2</td>\n",
       "      <td>1</td>\n",
       "      <td>1</td>\n",
       "      <td>1</td>\n",
       "      <td>6</td>\n",
       "    </tr>\n",
       "    <tr>\n",
       "      <th>3</th>\n",
       "      <td>895</td>\n",
       "      <td>3</td>\n",
       "      <td>0</td>\n",
       "      <td>1</td>\n",
       "      <td>8.6625</td>\n",
       "      <td>0</td>\n",
       "      <td>1</td>\n",
       "      <td>1</td>\n",
       "      <td>1</td>\n",
       "      <td>3</td>\n",
       "    </tr>\n",
       "    <tr>\n",
       "      <th>4</th>\n",
       "      <td>896</td>\n",
       "      <td>3</td>\n",
       "      <td>1</td>\n",
       "      <td>1</td>\n",
       "      <td>12.2875</td>\n",
       "      <td>0</td>\n",
       "      <td>3</td>\n",
       "      <td>1</td>\n",
       "      <td>0</td>\n",
       "      <td>3</td>\n",
       "    </tr>\n",
       "  </tbody>\n",
       "</table>\n",
       "</div>"
      ],
      "text/plain": [
       "   PassengerId  Pclass  Sex  Age     Fare  Embarked  Title  SurnameFrequency  \\\n",
       "0          892       3    0    2   7.8292         2      1                 1   \n",
       "1          893       3    1    2   7.0000         0      3                 1   \n",
       "2          894       2    0    3   9.6875         2      1                 1   \n",
       "3          895       3    0    1   8.6625         0      1                 1   \n",
       "4          896       3    1    1  12.2875         0      3                 1   \n",
       "\n",
       "   IsAlone  Age*Class  \n",
       "0        1          6  \n",
       "1        0          6  \n",
       "2        1          6  \n",
       "3        1          3  \n",
       "4        0          3  "
      ]
     },
     "execution_count": 68,
     "metadata": {},
     "output_type": "execute_result"
    }
   ],
   "source": [
    "df_test['Fare'].fillna(df_test['Fare'].dropna().median(), inplace=True)\n",
    "df_test.head()"
   ]
  },
  {
   "cell_type": "markdown",
   "id": "a98a9aa1",
   "metadata": {
    "_cell_guid": "4b816bc7-d1fb-c02b-ed1d-ee34b819497d",
    "_uuid": "3466d98e83899d8b38a36ede794c68c5656f48e6",
    "papermill": {
     "duration": 0.04139,
     "end_time": "2022-10-13T22:40:07.900783",
     "exception": false,
     "start_time": "2022-10-13T22:40:07.859393",
     "status": "completed"
    },
    "tags": []
   },
   "source": [
    "Podemos criar FareBand."
   ]
  },
  {
   "cell_type": "code",
   "execution_count": 69,
   "id": "edb32921",
   "metadata": {
    "_cell_guid": "0e9018b1-ced5-9999-8ce1-258a0952cbf2",
    "_uuid": "b9a78f6b4c72520d4ad99d2c89c84c591216098d",
    "execution": {
     "iopub.execute_input": "2022-10-13T22:40:07.987041Z",
     "iopub.status.busy": "2022-10-13T22:40:07.986280Z",
     "iopub.status.idle": "2022-10-13T22:40:08.005134Z",
     "shell.execute_reply": "2022-10-13T22:40:08.003891Z"
    },
    "papermill": {
     "duration": 0.064761,
     "end_time": "2022-10-13T22:40:08.007445",
     "exception": false,
     "start_time": "2022-10-13T22:40:07.942684",
     "status": "completed"
    },
    "tags": []
   },
   "outputs": [
    {
     "data": {
      "text/html": [
       "<div>\n",
       "<style scoped>\n",
       "    .dataframe tbody tr th:only-of-type {\n",
       "        vertical-align: middle;\n",
       "    }\n",
       "\n",
       "    .dataframe tbody tr th {\n",
       "        vertical-align: top;\n",
       "    }\n",
       "\n",
       "    .dataframe thead th {\n",
       "        text-align: right;\n",
       "    }\n",
       "</style>\n",
       "<table border=\"1\" class=\"dataframe\">\n",
       "  <thead>\n",
       "    <tr style=\"text-align: right;\">\n",
       "      <th></th>\n",
       "      <th>FareBand</th>\n",
       "      <th>Survived</th>\n",
       "    </tr>\n",
       "  </thead>\n",
       "  <tbody>\n",
       "    <tr>\n",
       "      <th>0</th>\n",
       "      <td>(-0.001, 7.91]</td>\n",
       "      <td>0.197309</td>\n",
       "    </tr>\n",
       "    <tr>\n",
       "      <th>1</th>\n",
       "      <td>(7.91, 14.454]</td>\n",
       "      <td>0.303571</td>\n",
       "    </tr>\n",
       "    <tr>\n",
       "      <th>2</th>\n",
       "      <td>(14.454, 31.0]</td>\n",
       "      <td>0.454955</td>\n",
       "    </tr>\n",
       "    <tr>\n",
       "      <th>3</th>\n",
       "      <td>(31.0, 512.329]</td>\n",
       "      <td>0.581081</td>\n",
       "    </tr>\n",
       "  </tbody>\n",
       "</table>\n",
       "</div>"
      ],
      "text/plain": [
       "          FareBand  Survived\n",
       "0   (-0.001, 7.91]  0.197309\n",
       "1   (7.91, 14.454]  0.303571\n",
       "2   (14.454, 31.0]  0.454955\n",
       "3  (31.0, 512.329]  0.581081"
      ]
     },
     "execution_count": 69,
     "metadata": {},
     "output_type": "execute_result"
    }
   ],
   "source": [
    "df_treino['FareBand'] = pd.qcut(df_treino['Fare'], 4)\n",
    "df_treino[['FareBand', 'Survived']].groupby(['FareBand'], as_index=False).mean().sort_values(by='FareBand', ascending=True)"
   ]
  },
  {
   "cell_type": "markdown",
   "id": "35d58c02",
   "metadata": {
    "_cell_guid": "d65901a5-3684-6869-e904-5f1a7cce8a6d",
    "_uuid": "89400fba71af02d09ff07adf399fb36ac4913db6",
    "papermill": {
     "duration": 0.042398,
     "end_time": "2022-10-13T22:40:08.093245",
     "exception": false,
     "start_time": "2022-10-13T22:40:08.050847",
     "status": "completed"
    },
    "tags": []
   },
   "source": [
    "Converta a variável Tarifa em valores ordinais com base na faixa das tarifas"
   ]
  },
  {
   "cell_type": "code",
   "execution_count": 70,
   "id": "d30cde0c",
   "metadata": {
    "_cell_guid": "385f217a-4e00-76dc-1570-1de4eec0c29c",
    "_uuid": "640f305061ec4221a45ba250f8d54bb391035a57",
    "execution": {
     "iopub.execute_input": "2022-10-13T22:40:08.179934Z",
     "iopub.status.busy": "2022-10-13T22:40:08.179254Z",
     "iopub.status.idle": "2022-10-13T22:40:08.203838Z",
     "shell.execute_reply": "2022-10-13T22:40:08.202628Z"
    },
    "papermill": {
     "duration": 0.070534,
     "end_time": "2022-10-13T22:40:08.206044",
     "exception": false,
     "start_time": "2022-10-13T22:40:08.135510",
     "status": "completed"
    },
    "tags": []
   },
   "outputs": [
    {
     "data": {
      "text/html": [
       "<div>\n",
       "<style scoped>\n",
       "    .dataframe tbody tr th:only-of-type {\n",
       "        vertical-align: middle;\n",
       "    }\n",
       "\n",
       "    .dataframe tbody tr th {\n",
       "        vertical-align: top;\n",
       "    }\n",
       "\n",
       "    .dataframe thead th {\n",
       "        text-align: right;\n",
       "    }\n",
       "</style>\n",
       "<table border=\"1\" class=\"dataframe\">\n",
       "  <thead>\n",
       "    <tr style=\"text-align: right;\">\n",
       "      <th></th>\n",
       "      <th>Survived</th>\n",
       "      <th>Pclass</th>\n",
       "      <th>Sex</th>\n",
       "      <th>Age</th>\n",
       "      <th>Fare</th>\n",
       "      <th>Embarked</th>\n",
       "      <th>Title</th>\n",
       "      <th>SurnameFrequency</th>\n",
       "      <th>IsAlone</th>\n",
       "      <th>Age*Class</th>\n",
       "    </tr>\n",
       "  </thead>\n",
       "  <tbody>\n",
       "    <tr>\n",
       "      <th>0</th>\n",
       "      <td>0</td>\n",
       "      <td>3</td>\n",
       "      <td>0</td>\n",
       "      <td>1</td>\n",
       "      <td>0</td>\n",
       "      <td>0</td>\n",
       "      <td>1</td>\n",
       "      <td>2</td>\n",
       "      <td>0</td>\n",
       "      <td>3</td>\n",
       "    </tr>\n",
       "    <tr>\n",
       "      <th>1</th>\n",
       "      <td>1</td>\n",
       "      <td>1</td>\n",
       "      <td>1</td>\n",
       "      <td>2</td>\n",
       "      <td>3</td>\n",
       "      <td>1</td>\n",
       "      <td>3</td>\n",
       "      <td>1</td>\n",
       "      <td>0</td>\n",
       "      <td>2</td>\n",
       "    </tr>\n",
       "    <tr>\n",
       "      <th>2</th>\n",
       "      <td>1</td>\n",
       "      <td>3</td>\n",
       "      <td>1</td>\n",
       "      <td>1</td>\n",
       "      <td>1</td>\n",
       "      <td>0</td>\n",
       "      <td>2</td>\n",
       "      <td>1</td>\n",
       "      <td>1</td>\n",
       "      <td>3</td>\n",
       "    </tr>\n",
       "    <tr>\n",
       "      <th>3</th>\n",
       "      <td>1</td>\n",
       "      <td>1</td>\n",
       "      <td>1</td>\n",
       "      <td>2</td>\n",
       "      <td>3</td>\n",
       "      <td>0</td>\n",
       "      <td>3</td>\n",
       "      <td>2</td>\n",
       "      <td>0</td>\n",
       "      <td>2</td>\n",
       "    </tr>\n",
       "    <tr>\n",
       "      <th>4</th>\n",
       "      <td>0</td>\n",
       "      <td>3</td>\n",
       "      <td>0</td>\n",
       "      <td>2</td>\n",
       "      <td>1</td>\n",
       "      <td>0</td>\n",
       "      <td>1</td>\n",
       "      <td>2</td>\n",
       "      <td>1</td>\n",
       "      <td>6</td>\n",
       "    </tr>\n",
       "    <tr>\n",
       "      <th>5</th>\n",
       "      <td>0</td>\n",
       "      <td>3</td>\n",
       "      <td>0</td>\n",
       "      <td>1</td>\n",
       "      <td>1</td>\n",
       "      <td>2</td>\n",
       "      <td>1</td>\n",
       "      <td>3</td>\n",
       "      <td>1</td>\n",
       "      <td>3</td>\n",
       "    </tr>\n",
       "    <tr>\n",
       "      <th>6</th>\n",
       "      <td>0</td>\n",
       "      <td>1</td>\n",
       "      <td>0</td>\n",
       "      <td>3</td>\n",
       "      <td>3</td>\n",
       "      <td>0</td>\n",
       "      <td>1</td>\n",
       "      <td>1</td>\n",
       "      <td>1</td>\n",
       "      <td>3</td>\n",
       "    </tr>\n",
       "    <tr>\n",
       "      <th>7</th>\n",
       "      <td>0</td>\n",
       "      <td>3</td>\n",
       "      <td>0</td>\n",
       "      <td>0</td>\n",
       "      <td>2</td>\n",
       "      <td>0</td>\n",
       "      <td>4</td>\n",
       "      <td>4</td>\n",
       "      <td>0</td>\n",
       "      <td>0</td>\n",
       "    </tr>\n",
       "    <tr>\n",
       "      <th>8</th>\n",
       "      <td>1</td>\n",
       "      <td>3</td>\n",
       "      <td>1</td>\n",
       "      <td>1</td>\n",
       "      <td>1</td>\n",
       "      <td>0</td>\n",
       "      <td>3</td>\n",
       "      <td>6</td>\n",
       "      <td>0</td>\n",
       "      <td>3</td>\n",
       "    </tr>\n",
       "    <tr>\n",
       "      <th>9</th>\n",
       "      <td>1</td>\n",
       "      <td>2</td>\n",
       "      <td>1</td>\n",
       "      <td>0</td>\n",
       "      <td>2</td>\n",
       "      <td>1</td>\n",
       "      <td>3</td>\n",
       "      <td>2</td>\n",
       "      <td>0</td>\n",
       "      <td>0</td>\n",
       "    </tr>\n",
       "  </tbody>\n",
       "</table>\n",
       "</div>"
      ],
      "text/plain": [
       "   Survived  Pclass  Sex  Age  Fare  Embarked  Title  SurnameFrequency  \\\n",
       "0         0       3    0    1     0         0      1                 2   \n",
       "1         1       1    1    2     3         1      3                 1   \n",
       "2         1       3    1    1     1         0      2                 1   \n",
       "3         1       1    1    2     3         0      3                 2   \n",
       "4         0       3    0    2     1         0      1                 2   \n",
       "5         0       3    0    1     1         2      1                 3   \n",
       "6         0       1    0    3     3         0      1                 1   \n",
       "7         0       3    0    0     2         0      4                 4   \n",
       "8         1       3    1    1     1         0      3                 6   \n",
       "9         1       2    1    0     2         1      3                 2   \n",
       "\n",
       "   IsAlone  Age*Class  \n",
       "0        0          3  \n",
       "1        0          2  \n",
       "2        1          3  \n",
       "3        0          2  \n",
       "4        1          6  \n",
       "5        1          3  \n",
       "6        1          3  \n",
       "7        0          0  \n",
       "8        0          3  \n",
       "9        0          0  "
      ]
     },
     "execution_count": 70,
     "metadata": {},
     "output_type": "execute_result"
    }
   ],
   "source": [
    "for dataset in datasets:\n",
    "    dataset.loc[ dataset['Fare'] <= 7.91, 'Fare'] = 0\n",
    "    dataset.loc[(dataset['Fare'] > 7.91) & (dataset['Fare'] <= 14.454), 'Fare'] = 1\n",
    "    dataset.loc[(dataset['Fare'] > 14.454) & (dataset['Fare'] <= 31), 'Fare']   = 2\n",
    "    dataset.loc[ dataset['Fare'] > 31, 'Fare'] = 3\n",
    "    dataset['Fare'] = dataset['Fare'].astype(int)\n",
    "\n",
    "df_treino = df_treino.drop(['FareBand'], axis=1)\n",
    "datasets = [df_treino, df_test]\n",
    "    \n",
    "df_treino.head(10)"
   ]
  },
  {
   "cell_type": "markdown",
   "id": "61ec3a9d",
   "metadata": {
    "_cell_guid": "27272bb9-3c64-4f9a-4a3b-54f02e1c8289",
    "_uuid": "531994ed95a3002d1759ceb74d9396db706a41e2",
    "papermill": {
     "duration": 0.041512,
     "end_time": "2022-10-13T22:40:08.289625",
     "exception": false,
     "start_time": "2022-10-13T22:40:08.248113",
     "status": "completed"
    },
    "tags": []
   },
   "source": [
    "E o conjunto de dados de teste."
   ]
  },
  {
   "cell_type": "code",
   "execution_count": 71,
   "id": "d9345bdd",
   "metadata": {
    "_cell_guid": "d2334d33-4fe5-964d-beac-6aa620066e15",
    "_uuid": "8453cecad81fcc44de3f4e4e4c3ce6afa977740d",
    "execution": {
     "iopub.execute_input": "2022-10-13T22:40:08.376402Z",
     "iopub.status.busy": "2022-10-13T22:40:08.375751Z",
     "iopub.status.idle": "2022-10-13T22:40:08.389346Z",
     "shell.execute_reply": "2022-10-13T22:40:08.388440Z"
    },
    "papermill": {
     "duration": 0.060007,
     "end_time": "2022-10-13T22:40:08.391484",
     "exception": false,
     "start_time": "2022-10-13T22:40:08.331477",
     "status": "completed"
    },
    "tags": []
   },
   "outputs": [
    {
     "data": {
      "text/html": [
       "<div>\n",
       "<style scoped>\n",
       "    .dataframe tbody tr th:only-of-type {\n",
       "        vertical-align: middle;\n",
       "    }\n",
       "\n",
       "    .dataframe tbody tr th {\n",
       "        vertical-align: top;\n",
       "    }\n",
       "\n",
       "    .dataframe thead th {\n",
       "        text-align: right;\n",
       "    }\n",
       "</style>\n",
       "<table border=\"1\" class=\"dataframe\">\n",
       "  <thead>\n",
       "    <tr style=\"text-align: right;\">\n",
       "      <th></th>\n",
       "      <th>PassengerId</th>\n",
       "      <th>Pclass</th>\n",
       "      <th>Sex</th>\n",
       "      <th>Age</th>\n",
       "      <th>Fare</th>\n",
       "      <th>Embarked</th>\n",
       "      <th>Title</th>\n",
       "      <th>SurnameFrequency</th>\n",
       "      <th>IsAlone</th>\n",
       "      <th>Age*Class</th>\n",
       "    </tr>\n",
       "  </thead>\n",
       "  <tbody>\n",
       "    <tr>\n",
       "      <th>0</th>\n",
       "      <td>892</td>\n",
       "      <td>3</td>\n",
       "      <td>0</td>\n",
       "      <td>2</td>\n",
       "      <td>0</td>\n",
       "      <td>2</td>\n",
       "      <td>1</td>\n",
       "      <td>1</td>\n",
       "      <td>1</td>\n",
       "      <td>6</td>\n",
       "    </tr>\n",
       "    <tr>\n",
       "      <th>1</th>\n",
       "      <td>893</td>\n",
       "      <td>3</td>\n",
       "      <td>1</td>\n",
       "      <td>2</td>\n",
       "      <td>0</td>\n",
       "      <td>0</td>\n",
       "      <td>3</td>\n",
       "      <td>1</td>\n",
       "      <td>0</td>\n",
       "      <td>6</td>\n",
       "    </tr>\n",
       "    <tr>\n",
       "      <th>2</th>\n",
       "      <td>894</td>\n",
       "      <td>2</td>\n",
       "      <td>0</td>\n",
       "      <td>3</td>\n",
       "      <td>1</td>\n",
       "      <td>2</td>\n",
       "      <td>1</td>\n",
       "      <td>1</td>\n",
       "      <td>1</td>\n",
       "      <td>6</td>\n",
       "    </tr>\n",
       "    <tr>\n",
       "      <th>3</th>\n",
       "      <td>895</td>\n",
       "      <td>3</td>\n",
       "      <td>0</td>\n",
       "      <td>1</td>\n",
       "      <td>1</td>\n",
       "      <td>0</td>\n",
       "      <td>1</td>\n",
       "      <td>1</td>\n",
       "      <td>1</td>\n",
       "      <td>3</td>\n",
       "    </tr>\n",
       "    <tr>\n",
       "      <th>4</th>\n",
       "      <td>896</td>\n",
       "      <td>3</td>\n",
       "      <td>1</td>\n",
       "      <td>1</td>\n",
       "      <td>1</td>\n",
       "      <td>0</td>\n",
       "      <td>3</td>\n",
       "      <td>1</td>\n",
       "      <td>0</td>\n",
       "      <td>3</td>\n",
       "    </tr>\n",
       "    <tr>\n",
       "      <th>5</th>\n",
       "      <td>897</td>\n",
       "      <td>3</td>\n",
       "      <td>0</td>\n",
       "      <td>0</td>\n",
       "      <td>1</td>\n",
       "      <td>0</td>\n",
       "      <td>1</td>\n",
       "      <td>1</td>\n",
       "      <td>1</td>\n",
       "      <td>0</td>\n",
       "    </tr>\n",
       "    <tr>\n",
       "      <th>6</th>\n",
       "      <td>898</td>\n",
       "      <td>3</td>\n",
       "      <td>1</td>\n",
       "      <td>1</td>\n",
       "      <td>0</td>\n",
       "      <td>2</td>\n",
       "      <td>2</td>\n",
       "      <td>1</td>\n",
       "      <td>1</td>\n",
       "      <td>3</td>\n",
       "    </tr>\n",
       "    <tr>\n",
       "      <th>7</th>\n",
       "      <td>899</td>\n",
       "      <td>2</td>\n",
       "      <td>0</td>\n",
       "      <td>1</td>\n",
       "      <td>2</td>\n",
       "      <td>0</td>\n",
       "      <td>1</td>\n",
       "      <td>1</td>\n",
       "      <td>0</td>\n",
       "      <td>2</td>\n",
       "    </tr>\n",
       "    <tr>\n",
       "      <th>8</th>\n",
       "      <td>900</td>\n",
       "      <td>3</td>\n",
       "      <td>1</td>\n",
       "      <td>1</td>\n",
       "      <td>0</td>\n",
       "      <td>1</td>\n",
       "      <td>3</td>\n",
       "      <td>1</td>\n",
       "      <td>1</td>\n",
       "      <td>3</td>\n",
       "    </tr>\n",
       "    <tr>\n",
       "      <th>9</th>\n",
       "      <td>901</td>\n",
       "      <td>3</td>\n",
       "      <td>0</td>\n",
       "      <td>1</td>\n",
       "      <td>2</td>\n",
       "      <td>0</td>\n",
       "      <td>1</td>\n",
       "      <td>4</td>\n",
       "      <td>0</td>\n",
       "      <td>3</td>\n",
       "    </tr>\n",
       "  </tbody>\n",
       "</table>\n",
       "</div>"
      ],
      "text/plain": [
       "   PassengerId  Pclass  Sex  Age  Fare  Embarked  Title  SurnameFrequency  \\\n",
       "0          892       3    0    2     0         2      1                 1   \n",
       "1          893       3    1    2     0         0      3                 1   \n",
       "2          894       2    0    3     1         2      1                 1   \n",
       "3          895       3    0    1     1         0      1                 1   \n",
       "4          896       3    1    1     1         0      3                 1   \n",
       "5          897       3    0    0     1         0      1                 1   \n",
       "6          898       3    1    1     0         2      2                 1   \n",
       "7          899       2    0    1     2         0      1                 1   \n",
       "8          900       3    1    1     0         1      3                 1   \n",
       "9          901       3    0    1     2         0      1                 4   \n",
       "\n",
       "   IsAlone  Age*Class  \n",
       "0        1          6  \n",
       "1        0          6  \n",
       "2        1          6  \n",
       "3        1          3  \n",
       "4        0          3  \n",
       "5        1          0  \n",
       "6        1          3  \n",
       "7        0          2  \n",
       "8        1          3  \n",
       "9        0          3  "
      ]
     },
     "execution_count": 71,
     "metadata": {},
     "output_type": "execute_result"
    }
   ],
   "source": [
    "df_test.head(10)"
   ]
  },
  {
   "cell_type": "markdown",
   "id": "3ad4999c",
   "metadata": {
    "_cell_guid": "69783c08-c8cc-a6ca-2a9a-5e75581c6d31",
    "_uuid": "a55f20dd6654610ff2d66c1bf3e4c6c73dcef9e5",
    "papermill": {
     "duration": 0.043202,
     "end_time": "2022-10-13T22:40:08.478738",
     "exception": false,
     "start_time": "2022-10-13T22:40:08.435536",
     "status": "completed"
    },
    "tags": []
   },
   "source": [
    "## Modele, preveja e resolva\n",
    "\n",
    "Agora estamos prontos para treinar um modelo e prever a solução necessária. Existem mais de 60 algoritmos de modelagem preditiva para escolher. Devemos entender o tipo de problema e requisito de solução para restringir a alguns modelos selecionados que podemos avaliar. Nosso problema é um problema de classificação e regressão. Queremos identificar a relação entre a saída (Sobreviveu ou não) com outras variáveis ou características (Sexo, Idade, Porto...). Também estamos realizando uma categoria de aprendizado de máquina que é chamada de aprendizado supervisionado, pois estamos treinando nosso modelo com um determinado conjunto de dados. Com esses dois critérios - Aprendizado Supervisionado mais Classificação e Regressão, podemos reduzir nossa escolha de modelos a alguns. Esses incluem:\n",
    "\n",
    "- Logistic Regression\n",
    "- KNN or k-Nearest Neighbors\n",
    "- Support Vector Machines\n",
    "- Naive Bayes classifier\n",
    "- Decision Tree\n",
    "- Random Forrest\n",
    "- Perceptron\n",
    "- Artificial neural network\n",
    "- RVM or Relevance Vector Machine"
   ]
  },
  {
   "cell_type": "code",
   "execution_count": 72,
   "id": "4b1ed802",
   "metadata": {
    "_cell_guid": "0acf54f9-6cf5-24b5-72d9-29b30052823a",
    "_uuid": "04d2235855f40cffd81f76b977a500fceaae87ad",
    "execution": {
     "iopub.execute_input": "2022-10-13T22:40:08.567011Z",
     "iopub.status.busy": "2022-10-13T22:40:08.566283Z",
     "iopub.status.idle": "2022-10-13T22:40:08.575616Z",
     "shell.execute_reply": "2022-10-13T22:40:08.574650Z"
    },
    "papermill": {
     "duration": 0.056028,
     "end_time": "2022-10-13T22:40:08.577959",
     "exception": false,
     "start_time": "2022-10-13T22:40:08.521931",
     "status": "completed"
    },
    "tags": []
   },
   "outputs": [
    {
     "data": {
      "text/plain": [
       "((891, 9), (891,), (418, 9))"
      ]
     },
     "execution_count": 72,
     "metadata": {},
     "output_type": "execute_result"
    }
   ],
   "source": [
    "X_treino = df_treino.drop(\"Survived\", axis=1)\n",
    "Y_treino = df_treino[\"Survived\"]\n",
    "X_test  = df_test.drop(\"PassengerId\", axis=1).copy()\n",
    "\n",
    "X_treino.shape, Y_treino.shape, X_test.shape"
   ]
  },
  {
   "cell_type": "markdown",
   "id": "e37a670a",
   "metadata": {
    "_cell_guid": "579bc004-926a-bcfe-e9bb-c8df83356876",
    "_uuid": "782903c09ec9ee4b6f3e03f7c8b5a62c00461deb",
    "papermill": {
     "duration": 0.043214,
     "end_time": "2022-10-13T22:40:08.664285",
     "exception": false,
     "start_time": "2022-10-13T22:40:08.621071",
     "status": "completed"
    },
    "tags": []
   },
   "source": [
    "A regressão logística é um modelo útil para ser executado no início do fluxo de trabalho. A regressão logística mede a relação entre a variável dependente categórica (característica) e uma ou mais variáveis independentes (características) estimando probabilidades usando uma função logística, que é a distribuição logística cumulativa. Referência [Wikipedia](https://en.wikipedia.org/wiki/Logistic_regression).\n",
    "\n",
    "Observe a pontuação de confiança gerada pelo modelo com base em nosso conjunto de dados de treinamento."
   ]
  },
  {
   "cell_type": "code",
   "execution_count": 73,
   "id": "03d5d17c",
   "metadata": {
    "_cell_guid": "0edd9322-db0b-9c37-172d-a3a4f8dec229",
    "_uuid": "a649b9c53f4c7b40694f60f5c8dc14ec5ef519ec",
    "execution": {
     "iopub.execute_input": "2022-10-13T22:40:08.753252Z",
     "iopub.status.busy": "2022-10-13T22:40:08.752842Z",
     "iopub.status.idle": "2022-10-13T22:40:08.783073Z",
     "shell.execute_reply": "2022-10-13T22:40:08.781932Z"
    },
    "papermill": {
     "duration": 0.078158,
     "end_time": "2022-10-13T22:40:08.785546",
     "exception": false,
     "start_time": "2022-10-13T22:40:08.707388",
     "status": "completed"
    },
    "tags": []
   },
   "outputs": [
    {
     "data": {
      "text/plain": [
       "81.14"
      ]
     },
     "execution_count": 73,
     "metadata": {},
     "output_type": "execute_result"
    }
   ],
   "source": [
    "# Logistic Regression\n",
    "\n",
    "logreg = LogisticRegression()\n",
    "logreg.fit(X_treino, Y_treino)\n",
    "\n",
    "Y_pred = logreg.predict(X_test)\n",
    "\n",
    "acc_log = round(logreg.score(X_treino, Y_treino) * 100, 2)\n",
    "acc_log"
   ]
  },
  {
   "cell_type": "markdown",
   "id": "4cb432a9",
   "metadata": {
    "_cell_guid": "3af439ae-1f04-9236-cdc2-ec8170a0d4ee",
    "_uuid": "180e27c96c821656a84889f73986c6ddfff51ed3",
    "papermill": {
     "duration": 0.0437,
     "end_time": "2022-10-13T22:40:08.872338",
     "exception": false,
     "start_time": "2022-10-13T22:40:08.828638",
     "status": "completed"
    },
    "tags": []
   },
   "source": [
    "Podemos usar a regressão logística para validar nossas suposições e decisões para criação de variáveis e conclusão de metas. Isso pode ser feito calculando o coeficiente das características na função de decisão.\n",
    "\n",
    "Os coeficientes positivos aumentam as probabilidades logarítmicas da resposta (e, portanto, aumentam a probabilidade), e os coeficientes negativos diminuem as probabilidades logarítmicas da resposta (e, portanto, diminuem a probabilidade).\n",
    "\n",
    "- Sexo é o coeficiente positivo mais alto, implicando que quanto mais o valor de Sexo aumenta (masculino: 0 a feminino: 1), a probabilidade de Sobrevivência=1 aumenta mais.\n",
    "- Inversamente à medida que Pclass aumenta, a probabilidade de Sobrevivência=1 diminui mais.\n",
    "- Desta forma, Age*Class é um bom recurso artificial para modelar, pois tem a segunda maior correlação negativa com o Survived.\n",
    "- O título também é a segunda correlação positiva mais alta."
   ]
  },
  {
   "cell_type": "code",
   "execution_count": 74,
   "id": "4add194b",
   "metadata": {
    "_cell_guid": "e545d5aa-4767-7a41-5799-a4c5e529ce72",
    "_uuid": "6e6f58053fae405fc93d312fc999f3904e708dbe",
    "execution": {
     "iopub.execute_input": "2022-10-13T22:40:08.961136Z",
     "iopub.status.busy": "2022-10-13T22:40:08.960710Z",
     "iopub.status.idle": "2022-10-13T22:40:08.974500Z",
     "shell.execute_reply": "2022-10-13T22:40:08.973512Z"
    },
    "papermill": {
     "duration": 0.061124,
     "end_time": "2022-10-13T22:40:08.976682",
     "exception": false,
     "start_time": "2022-10-13T22:40:08.915558",
     "status": "completed"
    },
    "tags": []
   },
   "outputs": [
    {
     "data": {
      "text/html": [
       "<div>\n",
       "<style scoped>\n",
       "    .dataframe tbody tr th:only-of-type {\n",
       "        vertical-align: middle;\n",
       "    }\n",
       "\n",
       "    .dataframe tbody tr th {\n",
       "        vertical-align: top;\n",
       "    }\n",
       "\n",
       "    .dataframe thead th {\n",
       "        text-align: right;\n",
       "    }\n",
       "</style>\n",
       "<table border=\"1\" class=\"dataframe\">\n",
       "  <thead>\n",
       "    <tr style=\"text-align: right;\">\n",
       "      <th></th>\n",
       "      <th>Feature</th>\n",
       "      <th>Correlation</th>\n",
       "    </tr>\n",
       "  </thead>\n",
       "  <tbody>\n",
       "    <tr>\n",
       "      <th>1</th>\n",
       "      <td>Sex</td>\n",
       "      <td>2.204567</td>\n",
       "    </tr>\n",
       "    <tr>\n",
       "      <th>5</th>\n",
       "      <td>Title</td>\n",
       "      <td>0.430690</td>\n",
       "    </tr>\n",
       "    <tr>\n",
       "      <th>2</th>\n",
       "      <td>Age</td>\n",
       "      <td>0.350841</td>\n",
       "    </tr>\n",
       "    <tr>\n",
       "      <th>4</th>\n",
       "      <td>Embarked</td>\n",
       "      <td>0.220893</td>\n",
       "    </tr>\n",
       "    <tr>\n",
       "      <th>3</th>\n",
       "      <td>Fare</td>\n",
       "      <td>0.074454</td>\n",
       "    </tr>\n",
       "    <tr>\n",
       "      <th>7</th>\n",
       "      <td>IsAlone</td>\n",
       "      <td>-0.143555</td>\n",
       "    </tr>\n",
       "    <tr>\n",
       "      <th>6</th>\n",
       "      <td>SurnameFrequency</td>\n",
       "      <td>-0.320074</td>\n",
       "    </tr>\n",
       "    <tr>\n",
       "      <th>8</th>\n",
       "      <td>Age*Class</td>\n",
       "      <td>-0.376911</td>\n",
       "    </tr>\n",
       "    <tr>\n",
       "      <th>0</th>\n",
       "      <td>Pclass</td>\n",
       "      <td>-0.484317</td>\n",
       "    </tr>\n",
       "  </tbody>\n",
       "</table>\n",
       "</div>"
      ],
      "text/plain": [
       "            Feature  Correlation\n",
       "1               Sex     2.204567\n",
       "5             Title     0.430690\n",
       "2               Age     0.350841\n",
       "4          Embarked     0.220893\n",
       "3              Fare     0.074454\n",
       "7           IsAlone    -0.143555\n",
       "6  SurnameFrequency    -0.320074\n",
       "8         Age*Class    -0.376911\n",
       "0            Pclass    -0.484317"
      ]
     },
     "execution_count": 74,
     "metadata": {},
     "output_type": "execute_result"
    }
   ],
   "source": [
    "coeff_df = pd.DataFrame(df_treino.columns.delete(0))\n",
    "coeff_df.columns = ['Feature']\n",
    "\n",
    "coeff_df[\"Correlation\"] = pd.Series(logreg.coef_[0])\n",
    "\n",
    "coeff_df.sort_values(by='Correlation', ascending=False)"
   ]
  },
  {
   "cell_type": "markdown",
   "id": "934a54bd",
   "metadata": {
    "_cell_guid": "ac041064-1693-8584-156b-66674117e4d0",
    "_uuid": "ccba9ac0a9c3c648ef9bc778977ab99066ab3945",
    "papermill": {
     "duration": 0.045041,
     "end_time": "2022-10-13T22:40:09.065209",
     "exception": false,
     "start_time": "2022-10-13T22:40:09.020168",
     "status": "completed"
    },
    "tags": []
   },
   "source": [
    "Em seguida, modelamos usando Support Vector Machines, que são modelos de aprendizado supervisionado com algoritmos de aprendizado associados que analisam dados usados para classificação e análise de regressão. Dado um conjunto de amostras de treinamento, cada uma marcada como pertencente a uma ou outra de **duas categorias**, um algoritmo de treinamento SVM cria um modelo que atribui novas amostras de teste a uma categoria ou outra, tornando-o um binário não probabilístico classificador linear. Referência [Wikipedia](https://en.wikipedia.org/wiki/Support_vector_machine).\n",
    "\n",
    "Observe que o modelo gera uma pontuação de confiança maior que o modelo de regressão logística."
   ]
  },
  {
   "cell_type": "code",
   "execution_count": 75,
   "id": "c97d36d2",
   "metadata": {
    "_cell_guid": "7a63bf04-a410-9c81-5310-bdef7963298f",
    "_uuid": "60039d5377da49f1aa9ac4a924331328bd69add1",
    "execution": {
     "iopub.execute_input": "2022-10-13T22:40:09.154498Z",
     "iopub.status.busy": "2022-10-13T22:40:09.153874Z",
     "iopub.status.idle": "2022-10-13T22:40:09.237858Z",
     "shell.execute_reply": "2022-10-13T22:40:09.237037Z"
    },
    "papermill": {
     "duration": 0.131579,
     "end_time": "2022-10-13T22:40:09.240117",
     "exception": false,
     "start_time": "2022-10-13T22:40:09.108538",
     "status": "completed"
    },
    "tags": []
   },
   "outputs": [
    {
     "data": {
      "text/plain": [
       "81.26"
      ]
     },
     "execution_count": 75,
     "metadata": {},
     "output_type": "execute_result"
    }
   ],
   "source": [
    "# Support Vector Machines\n",
    "\n",
    "svc = SVC()\n",
    "svc.fit(X_treino, Y_treino)\n",
    "Y_pred = svc.predict(X_test)\n",
    "acc_svc = round(svc.score(X_treino, Y_treino) * 100, 2)\n",
    "acc_svc"
   ]
  },
  {
   "cell_type": "markdown",
   "id": "8554d189",
   "metadata": {
    "_cell_guid": "172a6286-d495-5ac4-1a9c-5b77b74ca6d2",
    "_uuid": "bb3ed027c45664148b61e3aa5e2ca8111aac8793",
    "papermill": {
     "duration": 0.042562,
     "end_time": "2022-10-13T22:40:09.326593",
     "exception": false,
     "start_time": "2022-10-13T22:40:09.284031",
     "status": "completed"
    },
    "tags": []
   },
   "source": [
    "No reconhecimento de padrões, o algoritmo k-Nearest Neighbors (ou k-NN para abreviar) é um método não paramétrico usado para classificação e regressão. Uma amostra é classificada pelo voto majoritário de seus vizinhos, com a amostra sendo atribuída à classe mais comum entre seus k vizinhos mais próximos (k é um inteiro positivo, tipicamente pequeno). Se k = 1, então o objeto é simplesmente atribuído à classe daquele único vizinho mais próximo. Referência [Wikipedia](https://en.wikipedia.org/wiki/K-nearest_neighbors_algorithm).\n",
    "\n",
    "A pontuação de confiança do KNN é melhor do que a regressão logística, e do que o SVM."
   ]
  },
  {
   "cell_type": "code",
   "execution_count": 76,
   "id": "7338c4b0",
   "metadata": {
    "_cell_guid": "ca14ae53-f05e-eb73-201c-064d7c3ed610",
    "_uuid": "54d86cd45703d459d452f89572771deaa8877999",
    "execution": {
     "iopub.execute_input": "2022-10-13T22:40:09.414566Z",
     "iopub.status.busy": "2022-10-13T22:40:09.414143Z",
     "iopub.status.idle": "2022-10-13T22:40:09.471909Z",
     "shell.execute_reply": "2022-10-13T22:40:09.470758Z"
    },
    "papermill": {
     "duration": 0.104595,
     "end_time": "2022-10-13T22:40:09.474390",
     "exception": false,
     "start_time": "2022-10-13T22:40:09.369795",
     "status": "completed"
    },
    "tags": []
   },
   "outputs": [
    {
     "data": {
      "text/plain": [
       "85.07"
      ]
     },
     "execution_count": 76,
     "metadata": {},
     "output_type": "execute_result"
    }
   ],
   "source": [
    "knn = KNeighborsClassifier(n_neighbors = 3)\n",
    "knn.fit(X_treino, Y_treino)\n",
    "Y_pred = knn.predict(X_test)\n",
    "acc_knn = round(knn.score(X_treino, Y_treino) * 100, 2)\n",
    "acc_knn"
   ]
  },
  {
   "cell_type": "markdown",
   "id": "f320cc06",
   "metadata": {
    "_cell_guid": "810f723d-2313-8dfd-e3e2-26673b9caa90",
    "_uuid": "1535f18113f851e480cd53e0c612dc05835690f3",
    "papermill": {
     "duration": 0.043478,
     "end_time": "2022-10-13T22:40:09.562465",
     "exception": false,
     "start_time": "2022-10-13T22:40:09.518987",
     "status": "completed"
    },
    "tags": []
   },
   "source": [
    "No aprendizado de máquina, os classificadores Bayes ingênuos são uma família de classificadores probabilísticos simples baseados na aplicação do teorema de Bayes com suposições de independência fortes (ingênuas) entre os recursos. Os classificadores Naive Bayes são altamente escaláveis, exigindo uma série de parâmetros lineares no número de variáveis (características) em um problema de aprendizado. Referência [Wikipedia](https://en.wikipedia.org/wiki/Naive_Bayes_classifier).\n",
    "\n",
    "O escore de confiança gerado pelo modelo é o mais baixo entre os modelos avaliados até o momento."
   ]
  },
  {
   "cell_type": "code",
   "execution_count": 77,
   "id": "e275c6c7",
   "metadata": {
    "_cell_guid": "50378071-7043-ed8d-a782-70c947520dae",
    "_uuid": "723c835c29e8727bc9bad4b564731f2ca98025d0",
    "execution": {
     "iopub.execute_input": "2022-10-13T22:40:09.652728Z",
     "iopub.status.busy": "2022-10-13T22:40:09.651583Z",
     "iopub.status.idle": "2022-10-13T22:40:09.666618Z",
     "shell.execute_reply": "2022-10-13T22:40:09.665653Z"
    },
    "papermill": {
     "duration": 0.062838,
     "end_time": "2022-10-13T22:40:09.668786",
     "exception": false,
     "start_time": "2022-10-13T22:40:09.605948",
     "status": "completed"
    },
    "tags": []
   },
   "outputs": [
    {
     "data": {
      "text/plain": [
       "72.62"
      ]
     },
     "execution_count": 77,
     "metadata": {},
     "output_type": "execute_result"
    }
   ],
   "source": [
    "# Gaussian Naive Bayes\n",
    "\n",
    "gaussian = GaussianNB()\n",
    "gaussian.fit(X_treino, Y_treino)\n",
    "Y_pred = gaussian.predict(X_test)\n",
    "acc_gaussian = round(gaussian.score(X_treino, Y_treino) * 100, 2)\n",
    "acc_gaussian"
   ]
  },
  {
   "cell_type": "markdown",
   "id": "7efc59be",
   "metadata": {
    "_cell_guid": "1e286e19-b714-385a-fcfa-8cf5ec19956a",
    "_uuid": "df148bf93e11c9ec2c97162d5c0c0605b75d9334",
    "papermill": {
     "duration": 0.042664,
     "end_time": "2022-10-13T22:40:09.754658",
     "exception": false,
     "start_time": "2022-10-13T22:40:09.711994",
     "status": "completed"
    },
    "tags": []
   },
   "source": [
    "O perceptron é um algoritmo para aprendizado supervisionado de classificadores binários (funções que podem decidir se uma entrada, representada por um vetor de números, pertence ou não a alguma classe específica). É um tipo de classificador linear, ou seja, um algoritmo de classificação que faz suas previsões com base em uma função de previsão linear combinando um conjunto de pesos com o vetor de características. O algoritmo permite o aprendizado online, pois processa os elementos do conjunto de treinamento um de cada vez. Referência [Wikipedia](https://en.wikipedia.org/wiki/Perceptron)."
   ]
  },
  {
   "cell_type": "code",
   "execution_count": 78,
   "id": "1a894623",
   "metadata": {
    "_cell_guid": "ccc22a86-b7cb-c2dd-74bd-53b218d6ed0d",
    "_uuid": "c19d08949f9c3a26931e28adedc848b4deaa8ab6",
    "execution": {
     "iopub.execute_input": "2022-10-13T22:40:09.843335Z",
     "iopub.status.busy": "2022-10-13T22:40:09.842349Z",
     "iopub.status.idle": "2022-10-13T22:40:09.858603Z",
     "shell.execute_reply": "2022-10-13T22:40:09.857217Z"
    },
    "papermill": {
     "duration": 0.063206,
     "end_time": "2022-10-13T22:40:09.861151",
     "exception": false,
     "start_time": "2022-10-13T22:40:09.797945",
     "status": "completed"
    },
    "tags": []
   },
   "outputs": [
    {
     "data": {
      "text/plain": [
       "52.19"
      ]
     },
     "execution_count": 78,
     "metadata": {},
     "output_type": "execute_result"
    }
   ],
   "source": [
    "# Perceptron\n",
    "\n",
    "perceptron = Perceptron()\n",
    "perceptron.fit(X_treino, Y_treino)\n",
    "Y_pred = perceptron.predict(X_test)\n",
    "acc_perceptron = round(perceptron.score(X_treino, Y_treino) * 100, 2)\n",
    "acc_perceptron"
   ]
  },
  {
   "cell_type": "code",
   "execution_count": 79,
   "id": "a9673535",
   "metadata": {
    "_cell_guid": "a4d56857-9432-55bb-14c0-52ebeb64d198",
    "_uuid": "52ea4f44dd626448dd2199cb284b592670b1394b",
    "execution": {
     "iopub.execute_input": "2022-10-13T22:40:09.951039Z",
     "iopub.status.busy": "2022-10-13T22:40:09.949828Z",
     "iopub.status.idle": "2022-10-13T22:40:10.018304Z",
     "shell.execute_reply": "2022-10-13T22:40:10.017083Z"
    },
    "papermill": {
     "duration": 0.115307,
     "end_time": "2022-10-13T22:40:10.020726",
     "exception": false,
     "start_time": "2022-10-13T22:40:09.905419",
     "status": "completed"
    },
    "tags": []
   },
   "outputs": [
    {
     "name": "stderr",
     "output_type": "stream",
     "text": [
      "/opt/conda/lib/python3.7/site-packages/sklearn/svm/_base.py:1208: ConvergenceWarning: Liblinear failed to converge, increase the number of iterations.\n",
      "  ConvergenceWarning,\n"
     ]
    },
    {
     "data": {
      "text/plain": [
       "80.81"
      ]
     },
     "execution_count": 79,
     "metadata": {},
     "output_type": "execute_result"
    }
   ],
   "source": [
    "# Linear SVC\n",
    "\n",
    "linear_svc = LinearSVC()\n",
    "linear_svc.fit(X_treino, Y_treino)\n",
    "Y_pred = linear_svc.predict(X_test)\n",
    "acc_linear_svc = round(linear_svc.score(X_treino, Y_treino) * 100, 2)\n",
    "acc_linear_svc"
   ]
  },
  {
   "cell_type": "code",
   "execution_count": 80,
   "id": "f426a671",
   "metadata": {
    "_cell_guid": "dc98ed72-3aeb-861f-804d-b6e3d178bf4b",
    "_uuid": "3a016c1f24da59c85648204302d61ea15920e740",
    "execution": {
     "iopub.execute_input": "2022-10-13T22:40:10.111939Z",
     "iopub.status.busy": "2022-10-13T22:40:10.110532Z",
     "iopub.status.idle": "2022-10-13T22:40:10.125610Z",
     "shell.execute_reply": "2022-10-13T22:40:10.124508Z"
    },
    "papermill": {
     "duration": 0.06378,
     "end_time": "2022-10-13T22:40:10.127935",
     "exception": false,
     "start_time": "2022-10-13T22:40:10.064155",
     "status": "completed"
    },
    "tags": []
   },
   "outputs": [
    {
     "data": {
      "text/plain": [
       "77.1"
      ]
     },
     "execution_count": 80,
     "metadata": {},
     "output_type": "execute_result"
    }
   ],
   "source": [
    "# Stochastic Gradient Descent\n",
    "\n",
    "sgd = SGDClassifier()\n",
    "sgd.fit(X_treino, Y_treino)\n",
    "Y_pred = sgd.predict(X_test)\n",
    "acc_sgd = round(sgd.score(X_treino, Y_treino) * 100, 2)\n",
    "acc_sgd"
   ]
  },
  {
   "cell_type": "markdown",
   "id": "86ce5500",
   "metadata": {
    "_cell_guid": "bae7f8d7-9da0-f4fd-bdb1-d97e719a18d7",
    "_uuid": "1c70e99920ae34adce03aaef38d61e2b83ff6a9c",
    "papermill": {
     "duration": 0.043368,
     "end_time": "2022-10-13T22:40:10.215202",
     "exception": false,
     "start_time": "2022-10-13T22:40:10.171834",
     "status": "completed"
    },
    "tags": []
   },
   "source": [
    "Este modelo usa uma árvore de decisão como um modelo preditivo que mapeia características (galhos de árvore) para conclusões sobre o valor alvo (folhas de árvore). Os modelos de árvore em que a variável de destino pode assumir um conjunto finito de valores são chamados de árvores de classificação; nessas estruturas de árvore, as folhas representam rótulos de classe e ramos representam conjunções de recursos que levam a esses rótulos de classe. As árvores de decisão em que a variável de destino pode assumir valores contínuos (geralmente números reais) são chamadas de árvores de regressão. Referência [Wikipedia](https://en.wikipedia.org/wiki/Decision_tree_learning).\n",
    "\n",
    "A pontuação de confiança do modelo é a mais alta entre os modelos avaliados até o momento."
   ]
  },
  {
   "cell_type": "code",
   "execution_count": 81,
   "id": "175c768f",
   "metadata": {
    "_cell_guid": "dd85f2b7-ace2-0306-b4ec-79c68cd3fea0",
    "_uuid": "1f94308b23b934123c03067e84027b507b989e52",
    "execution": {
     "iopub.execute_input": "2022-10-13T22:40:10.305291Z",
     "iopub.status.busy": "2022-10-13T22:40:10.304494Z",
     "iopub.status.idle": "2022-10-13T22:40:10.318877Z",
     "shell.execute_reply": "2022-10-13T22:40:10.317757Z"
    },
    "papermill": {
     "duration": 0.062109,
     "end_time": "2022-10-13T22:40:10.321180",
     "exception": false,
     "start_time": "2022-10-13T22:40:10.259071",
     "status": "completed"
    },
    "tags": []
   },
   "outputs": [
    {
     "data": {
      "text/plain": [
       "89.67"
      ]
     },
     "execution_count": 81,
     "metadata": {},
     "output_type": "execute_result"
    }
   ],
   "source": [
    "# Decision Tree\n",
    "\n",
    "decision_tree = DecisionTreeClassifier()\n",
    "decision_tree.fit(X_treino, Y_treino)\n",
    "Y_pred = decision_tree.predict(X_test)\n",
    "acc_decision_tree = round(decision_tree.score(X_treino, Y_treino) * 100, 2)\n",
    "acc_decision_tree"
   ]
  },
  {
   "cell_type": "markdown",
   "id": "6be6a3ef",
   "metadata": {
    "_cell_guid": "85693668-0cd5-4319-7768-eddb62d2b7d0",
    "_uuid": "24f4e46f202a858076be91752170cad52aa9aefa",
    "papermill": {
     "duration": 0.043517,
     "end_time": "2022-10-13T22:40:10.408554",
     "exception": false,
     "start_time": "2022-10-13T22:40:10.365037",
     "status": "completed"
    },
    "tags": []
   },
   "source": [
    "O próximo modelo Random Forests é um dos mais populares. Florestas aleatórias ou florestas de decisão aleatória são um método de aprendizado conjunto para classificação, regressão e outras tarefas, que operam construindo uma infinidade de árvores de decisão (n_estimators = 100) no tempo de treinamento e gerando a classe que é o modo das classes (classificação) ou previsão média (regressão) das árvores individuais. Referência [Wikipedia](https://en.wikipedia.org/wiki/Random_forest).\n",
    "\n",
    "A pontuação de confiança do modelo é a mais alta entre os modelos avaliados até o momento. Decidimos usar a saída deste modelo (Y_pred) para criar nossa submissão de resultados de competição."
   ]
  },
  {
   "cell_type": "code",
   "execution_count": 82,
   "id": "8d255c46",
   "metadata": {
    "_cell_guid": "f0694a8e-b618-8ed9-6f0d-8c6fba2c4567",
    "_uuid": "483c647d2759a2703d20785a44f51b6dee47d0db",
    "execution": {
     "iopub.execute_input": "2022-10-13T22:40:10.498017Z",
     "iopub.status.busy": "2022-10-13T22:40:10.497284Z",
     "iopub.status.idle": "2022-10-13T22:40:10.757117Z",
     "shell.execute_reply": "2022-10-13T22:40:10.755994Z"
    },
    "papermill": {
     "duration": 0.307346,
     "end_time": "2022-10-13T22:40:10.759475",
     "exception": false,
     "start_time": "2022-10-13T22:40:10.452129",
     "status": "completed"
    },
    "tags": []
   },
   "outputs": [
    {
     "data": {
      "text/plain": [
       "89.67"
      ]
     },
     "execution_count": 82,
     "metadata": {},
     "output_type": "execute_result"
    }
   ],
   "source": [
    "# Random Forest\n",
    "\n",
    "random_forest = RandomForestClassifier(n_estimators=100)\n",
    "random_forest.fit(X_treino, Y_treino)\n",
    "Y_pred = random_forest.predict(X_test)\n",
    "\n",
    "random_forest.score(X_treino, Y_treino)\n",
    "\n",
    "acc_random_forest = round(random_forest.score(X_treino, Y_treino) * 100, 2)\n",
    "acc_random_forest"
   ]
  },
  {
   "cell_type": "markdown",
   "id": "94e54613",
   "metadata": {
    "_cell_guid": "f6c9eef8-83dd-581c-2d8e-ce932fe3a44d",
    "_uuid": "2c1428d022430ea594af983a433757e11b47c50c",
    "papermill": {
     "duration": 0.043568,
     "end_time": "2022-10-13T22:40:10.847321",
     "exception": false,
     "start_time": "2022-10-13T22:40:10.803753",
     "status": "completed"
    },
    "tags": []
   },
   "source": [
    "### Avaliação do modelo\n",
    "\n",
    "Agora podemos classificar nossa avaliação de todos os modelos para escolher o melhor para nosso problema. Embora tanto a Decision Tree quanto a Random Forest tenham a mesma pontuação, optamos por usar a Random Forest, pois corrigem o hábito de overfitting das árvores de decisão ao seu conjunto de treinamento."
   ]
  },
  {
   "cell_type": "code",
   "execution_count": 83,
   "id": "830aba60",
   "metadata": {
    "_cell_guid": "1f3cebe0-31af-70b2-1ce4-0fd406bcdfc6",
    "_uuid": "06a52babe50e0dd837b553c78fc73872168e1c7d",
    "execution": {
     "iopub.execute_input": "2022-10-13T22:40:10.937085Z",
     "iopub.status.busy": "2022-10-13T22:40:10.936632Z",
     "iopub.status.idle": "2022-10-13T22:40:10.951374Z",
     "shell.execute_reply": "2022-10-13T22:40:10.950078Z"
    },
    "papermill": {
     "duration": 0.062139,
     "end_time": "2022-10-13T22:40:10.953565",
     "exception": false,
     "start_time": "2022-10-13T22:40:10.891426",
     "status": "completed"
    },
    "tags": []
   },
   "outputs": [
    {
     "data": {
      "text/html": [
       "<div>\n",
       "<style scoped>\n",
       "    .dataframe tbody tr th:only-of-type {\n",
       "        vertical-align: middle;\n",
       "    }\n",
       "\n",
       "    .dataframe tbody tr th {\n",
       "        vertical-align: top;\n",
       "    }\n",
       "\n",
       "    .dataframe thead th {\n",
       "        text-align: right;\n",
       "    }\n",
       "</style>\n",
       "<table border=\"1\" class=\"dataframe\">\n",
       "  <thead>\n",
       "    <tr style=\"text-align: right;\">\n",
       "      <th></th>\n",
       "      <th>Model</th>\n",
       "      <th>Score</th>\n",
       "    </tr>\n",
       "  </thead>\n",
       "  <tbody>\n",
       "    <tr>\n",
       "      <th>3</th>\n",
       "      <td>Random Forest</td>\n",
       "      <td>89.67</td>\n",
       "    </tr>\n",
       "    <tr>\n",
       "      <th>8</th>\n",
       "      <td>Decision Tree</td>\n",
       "      <td>89.67</td>\n",
       "    </tr>\n",
       "    <tr>\n",
       "      <th>1</th>\n",
       "      <td>KNN</td>\n",
       "      <td>85.07</td>\n",
       "    </tr>\n",
       "    <tr>\n",
       "      <th>0</th>\n",
       "      <td>Support Vector Machines</td>\n",
       "      <td>81.26</td>\n",
       "    </tr>\n",
       "    <tr>\n",
       "      <th>2</th>\n",
       "      <td>Logistic Regression</td>\n",
       "      <td>81.14</td>\n",
       "    </tr>\n",
       "    <tr>\n",
       "      <th>7</th>\n",
       "      <td>Linear SVC</td>\n",
       "      <td>80.81</td>\n",
       "    </tr>\n",
       "    <tr>\n",
       "      <th>6</th>\n",
       "      <td>Stochastic Gradient Decent</td>\n",
       "      <td>77.10</td>\n",
       "    </tr>\n",
       "    <tr>\n",
       "      <th>4</th>\n",
       "      <td>Naive Bayes</td>\n",
       "      <td>72.62</td>\n",
       "    </tr>\n",
       "    <tr>\n",
       "      <th>5</th>\n",
       "      <td>Perceptron</td>\n",
       "      <td>52.19</td>\n",
       "    </tr>\n",
       "  </tbody>\n",
       "</table>\n",
       "</div>"
      ],
      "text/plain": [
       "                        Model  Score\n",
       "3               Random Forest  89.67\n",
       "8               Decision Tree  89.67\n",
       "1                         KNN  85.07\n",
       "0     Support Vector Machines  81.26\n",
       "2         Logistic Regression  81.14\n",
       "7                  Linear SVC  80.81\n",
       "6  Stochastic Gradient Decent  77.10\n",
       "4                 Naive Bayes  72.62\n",
       "5                  Perceptron  52.19"
      ]
     },
     "execution_count": 83,
     "metadata": {},
     "output_type": "execute_result"
    }
   ],
   "source": [
    "models = pd.DataFrame({\n",
    "    'Model': ['Support Vector Machines', 'KNN', 'Logistic Regression', \n",
    "              'Random Forest', 'Naive Bayes', 'Perceptron', \n",
    "              'Stochastic Gradient Decent', 'Linear SVC', \n",
    "              'Decision Tree'],\n",
    "    'Score': [acc_svc, acc_knn, acc_log, \n",
    "              acc_random_forest, acc_gaussian, acc_perceptron, \n",
    "              acc_sgd, acc_linear_svc, acc_decision_tree]})\n",
    "models.sort_values(by='Score', ascending=False)"
   ]
  },
  {
   "cell_type": "code",
   "execution_count": 84,
   "id": "95328bab",
   "metadata": {
    "_cell_guid": "28854d36-051f-3ef0-5535-fa5ba6a9bef7",
    "_uuid": "82b31ea933b3026bd038a8370d651efdcdb3e4d7",
    "execution": {
     "iopub.execute_input": "2022-10-13T22:40:11.049150Z",
     "iopub.status.busy": "2022-10-13T22:40:11.048035Z",
     "iopub.status.idle": "2022-10-13T22:40:11.054709Z",
     "shell.execute_reply": "2022-10-13T22:40:11.053500Z"
    },
    "papermill": {
     "duration": 0.056486,
     "end_time": "2022-10-13T22:40:11.056980",
     "exception": false,
     "start_time": "2022-10-13T22:40:11.000494",
     "status": "completed"
    },
    "tags": []
   },
   "outputs": [],
   "source": [
    "submission = pd.DataFrame({\n",
    "        \"PassengerId\": df_test[\"PassengerId\"],\n",
    "        \"Survived\": Y_pred\n",
    "    })"
   ]
  },
  {
   "cell_type": "code",
   "execution_count": 85,
   "id": "43757ed9",
   "metadata": {
    "execution": {
     "iopub.execute_input": "2022-10-13T22:40:11.148301Z",
     "iopub.status.busy": "2022-10-13T22:40:11.147154Z",
     "iopub.status.idle": "2022-10-13T22:40:11.156071Z",
     "shell.execute_reply": "2022-10-13T22:40:11.155151Z"
    },
    "papermill": {
     "duration": 0.056984,
     "end_time": "2022-10-13T22:40:11.158635",
     "exception": false,
     "start_time": "2022-10-13T22:40:11.101651",
     "status": "completed"
    },
    "tags": []
   },
   "outputs": [],
   "source": [
    "submission.to_csv('./submission.csv', index=False)"
   ]
  },
  {
   "cell_type": "code",
   "execution_count": 86,
   "id": "550d5282",
   "metadata": {
    "execution": {
     "iopub.execute_input": "2022-10-13T22:40:11.251089Z",
     "iopub.status.busy": "2022-10-13T22:40:11.250701Z",
     "iopub.status.idle": "2022-10-13T22:40:11.262455Z",
     "shell.execute_reply": "2022-10-13T22:40:11.261388Z"
    },
    "papermill": {
     "duration": 0.060739,
     "end_time": "2022-10-13T22:40:11.264711",
     "exception": false,
     "start_time": "2022-10-13T22:40:11.203972",
     "status": "completed"
    },
    "tags": []
   },
   "outputs": [
    {
     "data": {
      "text/html": [
       "<div>\n",
       "<style scoped>\n",
       "    .dataframe tbody tr th:only-of-type {\n",
       "        vertical-align: middle;\n",
       "    }\n",
       "\n",
       "    .dataframe tbody tr th {\n",
       "        vertical-align: top;\n",
       "    }\n",
       "\n",
       "    .dataframe thead th {\n",
       "        text-align: right;\n",
       "    }\n",
       "</style>\n",
       "<table border=\"1\" class=\"dataframe\">\n",
       "  <thead>\n",
       "    <tr style=\"text-align: right;\">\n",
       "      <th></th>\n",
       "      <th>PassengerId</th>\n",
       "      <th>Survived</th>\n",
       "    </tr>\n",
       "  </thead>\n",
       "  <tbody>\n",
       "    <tr>\n",
       "      <th>0</th>\n",
       "      <td>892</td>\n",
       "      <td>0</td>\n",
       "    </tr>\n",
       "    <tr>\n",
       "      <th>1</th>\n",
       "      <td>893</td>\n",
       "      <td>0</td>\n",
       "    </tr>\n",
       "    <tr>\n",
       "      <th>2</th>\n",
       "      <td>894</td>\n",
       "      <td>0</td>\n",
       "    </tr>\n",
       "    <tr>\n",
       "      <th>3</th>\n",
       "      <td>895</td>\n",
       "      <td>0</td>\n",
       "    </tr>\n",
       "    <tr>\n",
       "      <th>4</th>\n",
       "      <td>896</td>\n",
       "      <td>1</td>\n",
       "    </tr>\n",
       "    <tr>\n",
       "      <th>...</th>\n",
       "      <td>...</td>\n",
       "      <td>...</td>\n",
       "    </tr>\n",
       "    <tr>\n",
       "      <th>413</th>\n",
       "      <td>1305</td>\n",
       "      <td>0</td>\n",
       "    </tr>\n",
       "    <tr>\n",
       "      <th>414</th>\n",
       "      <td>1306</td>\n",
       "      <td>1</td>\n",
       "    </tr>\n",
       "    <tr>\n",
       "      <th>415</th>\n",
       "      <td>1307</td>\n",
       "      <td>0</td>\n",
       "    </tr>\n",
       "    <tr>\n",
       "      <th>416</th>\n",
       "      <td>1308</td>\n",
       "      <td>0</td>\n",
       "    </tr>\n",
       "    <tr>\n",
       "      <th>417</th>\n",
       "      <td>1309</td>\n",
       "      <td>1</td>\n",
       "    </tr>\n",
       "  </tbody>\n",
       "</table>\n",
       "<p>418 rows × 2 columns</p>\n",
       "</div>"
      ],
      "text/plain": [
       "     PassengerId  Survived\n",
       "0            892         0\n",
       "1            893         0\n",
       "2            894         0\n",
       "3            895         0\n",
       "4            896         1\n",
       "..           ...       ...\n",
       "413         1305         0\n",
       "414         1306         1\n",
       "415         1307         0\n",
       "416         1308         0\n",
       "417         1309         1\n",
       "\n",
       "[418 rows x 2 columns]"
      ]
     },
     "execution_count": 86,
     "metadata": {},
     "output_type": "execute_result"
    }
   ],
   "source": [
    "submission"
   ]
  },
  {
   "cell_type": "code",
   "execution_count": null,
   "id": "036f0669",
   "metadata": {
    "papermill": {
     "duration": 0.043888,
     "end_time": "2022-10-13T22:40:11.353080",
     "exception": false,
     "start_time": "2022-10-13T22:40:11.309192",
     "status": "completed"
    },
    "tags": []
   },
   "outputs": [],
   "source": []
  }
 ],
 "metadata": {
  "kernelspec": {
   "display_name": "Python 3",
   "language": "python",
   "name": "python3"
  },
  "language_info": {
   "codemirror_mode": {
    "name": "ipython",
    "version": 3
   },
   "file_extension": ".py",
   "mimetype": "text/x-python",
   "name": "python",
   "nbconvert_exporter": "python",
   "pygments_lexer": "ipython3",
   "version": "3.7.12"
  },
  "papermill": {
   "default_parameters": {},
   "duration": 31.207188,
   "end_time": "2022-10-13T22:40:12.270798",
   "environment_variables": {},
   "exception": null,
   "input_path": "__notebook__.ipynb",
   "output_path": "__notebook__.ipynb",
   "parameters": {},
   "start_time": "2022-10-13T22:39:41.063610",
   "version": "2.3.4"
  }
 },
 "nbformat": 4,
 "nbformat_minor": 5
}
