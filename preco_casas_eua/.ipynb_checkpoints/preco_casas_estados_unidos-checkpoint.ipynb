{
 "cells": [
  {
   "cell_type": "markdown",
   "id": "fbe3ba29",
   "metadata": {},
   "source": [
    "# Libs"
   ]
  },
  {
   "cell_type": "code",
   "execution_count": 14,
   "id": "d7ed79af",
   "metadata": {
    "ExecuteTime": {
     "end_time": "2022-12-08T14:26:05.104614Z",
     "start_time": "2022-12-08T14:26:05.096212Z"
    }
   },
   "outputs": [],
   "source": [
    "### Bibliotecas utilizadas\n",
    "import pandas as pd\n",
    "import matplotlib.pyplot as plt\n",
    "import numpy as np\n",
    "import seaborn as sns\n",
    "import datetime\n",
    "\n",
    "from sklearn.model_selection import train_test_split\n",
    "from sklearn.linear_model import LinearRegression\n",
    "from sklearn import metrics\n",
    "import joblib\n",
    "\n",
    "%matplotlib inline"
   ]
  },
  {
   "cell_type": "markdown",
   "id": "d54a9db0",
   "metadata": {},
   "source": [
    "# Funções"
   ]
  },
  {
   "cell_type": "code",
   "execution_count": 3,
   "id": "ab9c4872",
   "metadata": {
    "ExecuteTime": {
     "end_time": "2022-12-08T14:25:39.377537Z",
     "start_time": "2022-12-08T14:25:39.356335Z"
    }
   },
   "outputs": [],
   "source": [
    "def calcula_outliers(serie):\n",
    "\n",
    "    q1 = serie.quantile(0.25)\n",
    "    q3 = serie.quantile(0.75)\n",
    "    \n",
    "    menor_valor = q1- 1.5 * (q3-q1)\n",
    "    maior_valor = q3+ 1.5 * (q3-q1)\n",
    "    \n",
    "    if ((serie.max() > maior_valor) | \n",
    "        (serie.min() < menor_valor)):\n",
    "        \n",
    "        return [menor_valor, maior_valor]\n",
    "        \n",
    "    return None"
   ]
  },
  {
   "cell_type": "markdown",
   "id": "230117bb",
   "metadata": {},
   "source": [
    "# Dados"
   ]
  },
  {
   "cell_type": "code",
   "execution_count": 4,
   "id": "0699ed31",
   "metadata": {
    "ExecuteTime": {
     "end_time": "2022-12-08T14:25:40.736945Z",
     "start_time": "2022-12-08T14:25:40.153858Z"
    }
   },
   "outputs": [
    {
     "data": {
      "text/html": [
       "<div>\n",
       "<style scoped>\n",
       "    .dataframe tbody tr th:only-of-type {\n",
       "        vertical-align: middle;\n",
       "    }\n",
       "\n",
       "    .dataframe tbody tr th {\n",
       "        vertical-align: top;\n",
       "    }\n",
       "\n",
       "    .dataframe thead th {\n",
       "        text-align: right;\n",
       "    }\n",
       "</style>\n",
       "<table border=\"1\" class=\"dataframe\">\n",
       "  <thead>\n",
       "    <tr style=\"text-align: right;\">\n",
       "      <th></th>\n",
       "      <th>date</th>\n",
       "      <th>price</th>\n",
       "      <th>bedrooms</th>\n",
       "      <th>bathrooms</th>\n",
       "      <th>sqft_living</th>\n",
       "      <th>sqft_lot</th>\n",
       "      <th>floors</th>\n",
       "      <th>waterfront</th>\n",
       "      <th>view</th>\n",
       "      <th>condition</th>\n",
       "      <th>sqft_above</th>\n",
       "      <th>sqft_basement</th>\n",
       "      <th>yr_built</th>\n",
       "      <th>yr_renovated</th>\n",
       "      <th>street</th>\n",
       "      <th>city</th>\n",
       "      <th>statezip</th>\n",
       "      <th>country</th>\n",
       "    </tr>\n",
       "  </thead>\n",
       "  <tbody>\n",
       "    <tr>\n",
       "      <th>0</th>\n",
       "      <td>2014-05-02</td>\n",
       "      <td>313000.0</td>\n",
       "      <td>3</td>\n",
       "      <td>1.50</td>\n",
       "      <td>1340</td>\n",
       "      <td>7912</td>\n",
       "      <td>1.5</td>\n",
       "      <td>0</td>\n",
       "      <td>0</td>\n",
       "      <td>3</td>\n",
       "      <td>1340</td>\n",
       "      <td>0</td>\n",
       "      <td>1955</td>\n",
       "      <td>2005</td>\n",
       "      <td>18810 Densmore Ave N</td>\n",
       "      <td>Shoreline</td>\n",
       "      <td>WA 98133</td>\n",
       "      <td>USA</td>\n",
       "    </tr>\n",
       "    <tr>\n",
       "      <th>1</th>\n",
       "      <td>2014-05-02</td>\n",
       "      <td>2384000.0</td>\n",
       "      <td>5</td>\n",
       "      <td>2.50</td>\n",
       "      <td>3650</td>\n",
       "      <td>9050</td>\n",
       "      <td>2.0</td>\n",
       "      <td>0</td>\n",
       "      <td>4</td>\n",
       "      <td>5</td>\n",
       "      <td>3370</td>\n",
       "      <td>280</td>\n",
       "      <td>1921</td>\n",
       "      <td>0</td>\n",
       "      <td>709 W Blaine St</td>\n",
       "      <td>Seattle</td>\n",
       "      <td>WA 98119</td>\n",
       "      <td>USA</td>\n",
       "    </tr>\n",
       "    <tr>\n",
       "      <th>2</th>\n",
       "      <td>2014-05-02</td>\n",
       "      <td>342000.0</td>\n",
       "      <td>3</td>\n",
       "      <td>2.00</td>\n",
       "      <td>1930</td>\n",
       "      <td>11947</td>\n",
       "      <td>1.0</td>\n",
       "      <td>0</td>\n",
       "      <td>0</td>\n",
       "      <td>4</td>\n",
       "      <td>1930</td>\n",
       "      <td>0</td>\n",
       "      <td>1966</td>\n",
       "      <td>0</td>\n",
       "      <td>26206-26214 143rd Ave SE</td>\n",
       "      <td>Kent</td>\n",
       "      <td>WA 98042</td>\n",
       "      <td>USA</td>\n",
       "    </tr>\n",
       "    <tr>\n",
       "      <th>3</th>\n",
       "      <td>2014-05-02</td>\n",
       "      <td>420000.0</td>\n",
       "      <td>3</td>\n",
       "      <td>2.25</td>\n",
       "      <td>2000</td>\n",
       "      <td>8030</td>\n",
       "      <td>1.0</td>\n",
       "      <td>0</td>\n",
       "      <td>0</td>\n",
       "      <td>4</td>\n",
       "      <td>1000</td>\n",
       "      <td>1000</td>\n",
       "      <td>1963</td>\n",
       "      <td>0</td>\n",
       "      <td>857 170th Pl NE</td>\n",
       "      <td>Bellevue</td>\n",
       "      <td>WA 98008</td>\n",
       "      <td>USA</td>\n",
       "    </tr>\n",
       "    <tr>\n",
       "      <th>4</th>\n",
       "      <td>2014-05-02</td>\n",
       "      <td>550000.0</td>\n",
       "      <td>4</td>\n",
       "      <td>2.50</td>\n",
       "      <td>1940</td>\n",
       "      <td>10500</td>\n",
       "      <td>1.0</td>\n",
       "      <td>0</td>\n",
       "      <td>0</td>\n",
       "      <td>4</td>\n",
       "      <td>1140</td>\n",
       "      <td>800</td>\n",
       "      <td>1976</td>\n",
       "      <td>1992</td>\n",
       "      <td>9105 170th Ave NE</td>\n",
       "      <td>Redmond</td>\n",
       "      <td>WA 98052</td>\n",
       "      <td>USA</td>\n",
       "    </tr>\n",
       "  </tbody>\n",
       "</table>\n",
       "</div>"
      ],
      "text/plain": [
       "        date      price  bedrooms  bathrooms  sqft_living  sqft_lot  floors  \\\n",
       "0 2014-05-02   313000.0         3       1.50         1340      7912     1.5   \n",
       "1 2014-05-02  2384000.0         5       2.50         3650      9050     2.0   \n",
       "2 2014-05-02   342000.0         3       2.00         1930     11947     1.0   \n",
       "3 2014-05-02   420000.0         3       2.25         2000      8030     1.0   \n",
       "4 2014-05-02   550000.0         4       2.50         1940     10500     1.0   \n",
       "\n",
       "   waterfront  view  condition  sqft_above  sqft_basement  yr_built  \\\n",
       "0           0     0          3        1340              0      1955   \n",
       "1           0     4          5        3370            280      1921   \n",
       "2           0     0          4        1930              0      1966   \n",
       "3           0     0          4        1000           1000      1963   \n",
       "4           0     0          4        1140            800      1976   \n",
       "\n",
       "   yr_renovated                    street       city  statezip country  \n",
       "0          2005      18810 Densmore Ave N  Shoreline  WA 98133     USA  \n",
       "1             0           709 W Blaine St    Seattle  WA 98119     USA  \n",
       "2             0  26206-26214 143rd Ave SE       Kent  WA 98042     USA  \n",
       "3             0           857 170th Pl NE   Bellevue  WA 98008     USA  \n",
       "4          1992         9105 170th Ave NE    Redmond  WA 98052     USA  "
      ]
     },
     "execution_count": 4,
     "metadata": {},
     "output_type": "execute_result"
    }
   ],
   "source": [
    "dados = pd.read_excel('data.xls')\n",
    "dados.head()"
   ]
  },
  {
   "cell_type": "code",
   "execution_count": 5,
   "id": "01f77ae3",
   "metadata": {
    "ExecuteTime": {
     "end_time": "2022-12-08T14:25:40.754111Z",
     "start_time": "2022-12-08T14:25:40.739684Z"
    }
   },
   "outputs": [
    {
     "name": "stdout",
     "output_type": "stream",
     "text": [
      "<class 'pandas.core.frame.DataFrame'>\n",
      "RangeIndex: 4600 entries, 0 to 4599\n",
      "Data columns (total 18 columns):\n",
      " #   Column         Non-Null Count  Dtype         \n",
      "---  ------         --------------  -----         \n",
      " 0   date           4600 non-null   datetime64[ns]\n",
      " 1   price          4600 non-null   float64       \n",
      " 2   bedrooms       4600 non-null   int64         \n",
      " 3   bathrooms      4600 non-null   float64       \n",
      " 4   sqft_living    4600 non-null   int64         \n",
      " 5   sqft_lot       4600 non-null   int64         \n",
      " 6   floors         4600 non-null   float64       \n",
      " 7   waterfront     4600 non-null   int64         \n",
      " 8   view           4600 non-null   int64         \n",
      " 9   condition      4600 non-null   int64         \n",
      " 10  sqft_above     4600 non-null   int64         \n",
      " 11  sqft_basement  4600 non-null   int64         \n",
      " 12  yr_built       4600 non-null   int64         \n",
      " 13  yr_renovated   4600 non-null   int64         \n",
      " 14  street         4600 non-null   object        \n",
      " 15  city           4600 non-null   object        \n",
      " 16  statezip       4600 non-null   object        \n",
      " 17  country        4600 non-null   object        \n",
      "dtypes: datetime64[ns](1), float64(3), int64(10), object(4)\n",
      "memory usage: 647.0+ KB\n"
     ]
    }
   ],
   "source": [
    "dados.info()"
   ]
  },
  {
   "cell_type": "markdown",
   "id": "1822f3b9",
   "metadata": {},
   "source": [
    "## Transformando dados"
   ]
  },
  {
   "cell_type": "code",
   "execution_count": 6,
   "id": "292f2f81",
   "metadata": {
    "ExecuteTime": {
     "end_time": "2022-12-08T14:25:42.209342Z",
     "start_time": "2022-12-08T14:25:42.200977Z"
    }
   },
   "outputs": [],
   "source": [
    "# somando a quantidade de comodos\n",
    "dados['rooms'] = dados['bedrooms'] + dados['bathrooms']\n",
    "dados = dados[dados['price']>10000]"
   ]
  },
  {
   "cell_type": "code",
   "execution_count": 7,
   "id": "bd5089bb",
   "metadata": {
    "ExecuteTime": {
     "end_time": "2022-12-08T14:25:42.527022Z",
     "start_time": "2022-12-08T14:25:42.514977Z"
    }
   },
   "outputs": [
    {
     "data": {
      "text/plain": [
       "Index(['date', 'price', 'bedrooms', 'bathrooms', 'sqft_living', 'sqft_lot',\n",
       "       'floors', 'waterfront', 'view', 'condition', 'sqft_above',\n",
       "       'sqft_basement', 'yr_built', 'yr_renovated', 'street', 'city',\n",
       "       'statezip', 'country', 'rooms'],\n",
       "      dtype='object')"
      ]
     },
     "execution_count": 7,
     "metadata": {},
     "output_type": "execute_result"
    }
   ],
   "source": [
    "dados.columns"
   ]
  },
  {
   "cell_type": "code",
   "execution_count": 8,
   "id": "ef07883f",
   "metadata": {
    "ExecuteTime": {
     "end_time": "2022-12-08T14:25:43.225586Z",
     "start_time": "2022-12-08T14:25:43.065675Z"
    }
   },
   "outputs": [],
   "source": [
    "# criando indicador de idade do imóvel\n",
    "ano_atual = datetime.date.today().year\n",
    "\n",
    "dados['age'] = dados.apply(lambda x: ano_atual - x['yr_built']\n",
    "                           if x['yr_renovated'] == 0\n",
    "                           else ano_atual - x['yr_renovated'], axis=1)"
   ]
  },
  {
   "cell_type": "code",
   "execution_count": 9,
   "id": "56331baf",
   "metadata": {
    "ExecuteTime": {
     "end_time": "2022-12-08T14:25:44.610538Z",
     "start_time": "2022-12-08T14:25:43.473666Z"
    },
    "scrolled": false
   },
   "outputs": [
    {
     "data": {
      "image/png": "[encoded data removed]",
      "text/plain": [
       "<Figure size 432x288 with 1 Axes>"
      ]
     },
     "metadata": {
      "needs_background": "light"
     },
     "output_type": "display_data"
    },
    {
     "data": {
      "image/png": "[encoded data removed]",
      "text/plain": [
       "<Figure size 432x288 with 1 Axes>"
      ]
     },
     "metadata": {
      "needs_background": "light"
     },
     "output_type": "display_data"
    },
    {
     "data": {
      "image/png": "[encoded data removed]",
      "text/plain": [
       "<Figure size 432x288 with 1 Axes>"
      ]
     },
     "metadata": {
      "needs_background": "light"
     },
     "output_type": "display_data"
    },
    {
     "data": {
      "image/png": "[encoded data removed]",
      "text/plain": [
       "<Figure size 432x288 with 1 Axes>"
      ]
     },
     "metadata": {
      "needs_background": "light"
     },
     "output_type": "display_data"
    },
    {
     "data": {
      "image/png": "[encoded data removed]",
      "text/plain": [
       "<Figure size 432x288 with 1 Axes>"
      ]
     },
     "metadata": {
      "needs_background": "light"
     },
     "output_type": "display_data"
    },
    {
     "data": {
      "image/png": "[encoded data removed]",
      "text/plain": [
       "<Figure size 432x288 with 1 Axes>"
      ]
     },
     "metadata": {
      "needs_background": "light"
     },
     "output_type": "display_data"
    },
    {
     "data": {
      "image/png": "[encoded data removed]",
      "text/plain": [
       "<Figure size 432x288 with 1 Axes>"
      ]
     },
     "metadata": {
      "needs_background": "light"
     },
     "output_type": "display_data"
    },
    {
     "data": {
      "image/png": "[encoded data removed]",
      "text/plain": [
       "<Figure size 432x288 with 1 Axes>"
      ]
     },
     "metadata": {
      "needs_background": "light"
     },
     "output_type": "display_data"
    },
    {
     "data": {
      "image/png": "[encoded data removed]",
      "text/plain": [
       "<Figure size 432x288 with 1 Axes>"
      ]
     },
     "metadata": {
      "needs_background": "light"
     },
     "output_type": "display_data"
    }
   ],
   "source": [
    "cols = ['price', 'rooms', 'sqft_living', 'sqft_lot',\n",
    "       'floors', 'condition', 'sqft_above',\n",
    "       'sqft_basement', 'age']\n",
    "\n",
    "#removendo outliers\n",
    "for col in cols:\n",
    "    while True:\n",
    "        limites = calcula_outliers(dados[col])\n",
    "        if limites:\n",
    "            dados = dados[((dados[col] >= limites[0]) &\n",
    "                       (dados[col] <= limites[1]))]\n",
    "        else:\n",
    "            break\n",
    "\n",
    "    sns.boxplot(dados[col])\n",
    "    plt.title(col)\n",
    "    plt.show()"
   ]
  },
  {
   "cell_type": "markdown",
   "id": "ad350eab",
   "metadata": {},
   "source": [
    "# Treinando modelo de predição"
   ]
  },
  {
   "cell_type": "code",
   "execution_count": 10,
   "id": "0c89cbbb",
   "metadata": {
    "ExecuteTime": {
     "end_time": "2022-12-08T14:25:44.619537Z",
     "start_time": "2022-12-08T14:25:44.613440Z"
    }
   },
   "outputs": [],
   "source": [
    "# features\n",
    "X = dados[['rooms','view', 'sqft_living','floors', 'condition', 'age', \n",
    "           'condition', 'yr_built', 'floors', 'sqft_basement']]\n",
    "\n",
    "#target\n",
    "y = dados[['price']]"
   ]
  },
  {
   "cell_type": "code",
   "execution_count": 11,
   "id": "3bed05e5",
   "metadata": {
    "ExecuteTime": {
     "end_time": "2022-12-08T14:25:45.008499Z",
     "start_time": "2022-12-08T14:25:44.992411Z"
    }
   },
   "outputs": [],
   "source": [
    "# separando dados de treino e teste\n",
    "X_train, X_test, y_train, y_test = train_test_split(X, y, test_size=0.3, random_state=42)\n",
    "\n",
    "# montando modelo de regressão linear\n",
    "lm = LinearRegression()\n",
    "lm.fit(X_train, y_train)\n",
    "ỹ = lm.predict(X_test)"
   ]
  },
  {
   "cell_type": "markdown",
   "id": "c2927ce9",
   "metadata": {},
   "source": [
    "## Avaliando modelo"
   ]
  },
  {
   "cell_type": "code",
   "execution_count": 12,
   "id": "c4b7627c",
   "metadata": {
    "ExecuteTime": {
     "end_time": "2022-12-08T14:25:45.904873Z",
     "start_time": "2022-12-08T14:25:45.681136Z"
    }
   },
   "outputs": [
    {
     "data": {
      "text/plain": [
       "Text(0, 0.5, 'ỹ predito')"
      ]
     },
     "execution_count": 12,
     "metadata": {},
     "output_type": "execute_result"
    },
    {
     "data": {
      "image/png": "[encoded data removed]",
      "text/plain": [
       "<Figure size 432x288 with 1 Axes>"
      ]
     },
     "metadata": {
      "needs_background": "light"
     },
     "output_type": "display_data"
    }
   ],
   "source": [
    "# visualização do predito vs real\n",
    "plt.scatter(y_test, ỹ)\n",
    "plt.xlabel('y real')\n",
    "plt.ylabel('ỹ predito')"
   ]
  },
  {
   "cell_type": "code",
   "execution_count": 15,
   "id": "2e471598",
   "metadata": {
    "ExecuteTime": {
     "end_time": "2022-12-08T14:26:10.562536Z",
     "start_time": "2022-12-08T14:26:10.537073Z"
    }
   },
   "outputs": [
    {
     "name": "stdout",
     "output_type": "stream",
     "text": [
      "MAE: 115254.10510972113\n",
      "MSE: 20743827160.852345\n",
      "RMSE: 144027.17507766493\n",
      "R: 0.3629014859634744\n"
     ]
    }
   ],
   "source": [
    "# visualizando métricas\n",
    "print('MAE:', metrics.mean_absolute_error(y_test, ỹ))\n",
    "print('MSE:', metrics.mean_squared_error(y_test, ỹ))\n",
    "print('RMSE:', np.sqrt(metrics.mean_squared_error(y_test, ỹ)))\n",
    "print('R:', metrics.r2_score(y_test,ỹ))"
   ]
  },
  {
   "cell_type": "markdown",
   "id": "d552203f",
   "metadata": {},
   "source": [
    "## Exportando modelo"
   ]
  },
  {
   "cell_type": "code",
   "execution_count": 16,
   "id": "b873a151",
   "metadata": {
    "ExecuteTime": {
     "end_time": "2022-12-08T14:26:11.552482Z",
     "start_time": "2022-12-08T14:26:11.536632Z"
    }
   },
   "outputs": [
    {
     "data": {
      "text/plain": [
       "['model.pkl']"
      ]
     },
     "execution_count": 16,
     "metadata": {},
     "output_type": "execute_result"
    }
   ],
   "source": [
    "#Persistindo modelo em disco.\n",
    "joblib.dump(lm, 'model.pkl')"
   ]
  }
 ],
 "metadata": {
  "kernelspec": {
   "display_name": "Python 3",
   "language": "python",
   "name": "python3"
  },
  "language_info": {
   "codemirror_mode": {
    "name": "ipython",
    "version": 3
   },
   "file_extension": ".py",
   "mimetype": "text/x-python",
   "name": "python",
   "nbconvert_exporter": "python",
   "pygments_lexer": "ipython3",
   "version": "3.7.6"
  },
  "toc": {
   "base_numbering": 1,
   "nav_menu": {},
   "number_sections": false,
   "sideBar": true,
   "skip_h1_title": false,
   "title_cell": "Table of Contents",
   "title_sidebar": "Contents",
   "toc_cell": false,
   "toc_position": {
    "height": "calc(100% - 180px)",
    "left": "10px",
    "top": "150px",
    "width": "165px"
   },
   "toc_section_display": true,
   "toc_window_display": true
  }
 },
 "nbformat": 4,
 "nbformat_minor": 5
}
